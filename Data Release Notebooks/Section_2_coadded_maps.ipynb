{
 "cells": [
  {
   "cell_type": "markdown",
   "metadata": {},
   "source": [
    "# Section 2:  Guide to reading in and manipulating the season 08 - 18 coadded maps.  \n",
    "\n",
    "This Section will cover how to read in and manipulate the coadded maps presented in [Naess et al. (2020)](https://www.overleaf.com/5395816498bsknshgxbmyr). \n",
    "\n",
    "To return to the main notebook or to view a different section use the links in the table of contents.\n",
    "\n",
    "\n",
    "## Table of contents\n",
    "\n",
    " --- \n",
    "> [Section 1](Section_1_Introduction.ipynb): Introduction to AdvACT Data Release 4\n",
    "\n",
    "> [Section 2](Section_2_coadded_maps.ipynb): S08-18 Coadded maps and an Introduction to Pixell\n",
    "\n",
    "> [Section 3](Section_3_HEALPix_CAR_Conversions.ipynb):  Demonstration of methods to convert maps between HEALPix format and the CAR format.\n",
    "\n",
    "> [Section 4](Section_4_visualize_objects.ipynb):  Guide to using Pixell to look at objects in the maps and stacking our maps on catalogue positions.\n",
    "\n",
    "> [Section 5](Section_5_Lensing_maps.ipynb):  Introduction to the Lensing maps.\n",
    "\n",
    "> [Section 6](Section_6_Component_separated_maps.ipynb):  Guide to the use of the Component Separated maps.\n",
    "\n",
    "> [Section 7](Section_7_harmonic_analysis.ipynb):  Harmonic Analysis with CAR Maps\n",
    "\n",
    "> [Section 8](Section_8_individual_patches_and_power_spectrum.ipynb): Maps and Power Spectra of Individual Patches \n",
    "\n",
    "> [Section 9](Section_9_E_B_maps.ipynb):  Look at how to generate E and B maps from I, Q, U maps. \n",
    " \n",
    "---\n"
   ]
  },
  {
   "cell_type": "markdown",
   "metadata": {
    "colab_type": "text",
    "id": "gTTfoME-liQV"
   },
   "source": [
    "This section will walk users through how to use Pixell and access maps.  The demonstration is done using the 150 GHz ACT + Planck S08-18 coadded maps discussed in [Naess et al. (2020)](https://www.overleaf.com/5395816498bsknshgxbmyr).  The other coadded maps provided are listed in Table 2.  Substituting these file names allows you to switch between frequencies, maps built with and without Planck, and the coadded map used in this example.\n",
    "\n",
    "These coadded maps which cover an area of $0^o < RA < 360^o$, $-62^o < dec < 22^o$ and include variations with and without Planck data.  The maps correspond to an area of 26.4 thousand square degrees, of which about 70% is exposed.\n",
    "\n",
    "For each frequency, we provide both temperature and polarization data.  The polarization angle has been calibrated, but the polarization leakage of the beam has not been corrected and we do not provide a complete noise model.  We will release fully vetted polarization maps including splits with which the noise can be evaluated in a future release.  In the present form cosmological analysis of these spectra is not possible though one can use these coadded maps for studies of foregrounds, the galaxy, and (with proper care) point source properties.\n",
    "\n",
    "These maps are produced by combining observations from multiple seasons and arrays as well as from both ACT and Planck. The results are combined multi season maps that are easier to use and understand than the individual season or array maps used to create them.   \n",
    "\n",
    "These maps include data from a range of seasons including preliminary data from season 17 and 18.  Although the S17-18 data has been characterized the data has not been subjected to all of the tests of a proper data release meaning that gain/beam errors of several precent should be expected.  These maps are explained in much greater detail in [Naess et al. (2020)](https://www.overleaf.com/5395816498bsknshgxbmyr)\n",
    "\n",
    "\n",
    " ---\n",
    "Table 2: Coadded S08-S18 Maps\n",
    "---\n",
    "\n",
    "\n",
    " Map File Name | Key Details\n",
    " ---|---\n",
    " act_s08_s18_cmb_f090_night_map_srcfree_I.fits | 90 GHz ACT only, source free maps,  units of $\\mu$K  (Replace I with Q or U to get other components)\n",
    "  act_s08_s18_cmb_f090_night_map_I.fits | 90 GHz ACT only, point sources included, units of $\\mu$K (Replace I with Q or U to get other components)\n",
    "  act_s08_s18_cmb_f090_night_ivar.fits | 90 GHz ACT only, inverse variance (similar to hit count maps) units of $1/ \\mu K^2$\n",
    "  |\n",
    "   act_s08_s18_cmb_f150_night_map_srcfree_I.fits | 150 GHz ACT only, source free maps,  units of $\\mu$K  ((Replace I with Q or U to get other components)\n",
    "  act_s08_s18_cmb_f150_night_map_Q.fits | 150 GHz ACT only, point sources included, units of $\\mu$K (Replace I with Q or U to get other components)\n",
    "  act_s08_s18_cmb_f150_night_ivar.fits | 150 GHz ACT only, inverse variance (similar to hit count maps) units of $1/ \\mu K^2$ \n",
    "   |\n",
    "   act_s08_s18_cmb_f220_night_map_srcfree_I.fits | 220 GHz ACT only, source free maps,  units of $\\mu$K  (Replace I with Q or U to get other components)\n",
    "  act_s08_s18_cmb_f220_night_map_I.fits | 220 GHz ACT only, point sources included, units of $\\mu$K (Replace I with Q or U to get other components)\n",
    "  act_s08_s18_cmb_f220_night_ivar.fits | 220 GHz ACT only, inverse variance (similar to hit count maps) units of $1/ \\mu K^2$ \n",
    "  | \n",
    "  **ACT + Planck Maps**|\n",
    "   act_planck_s08_s18_cmb_f090_night_map_srcfree_I.fits | 90 GHz  ACT + Planck combined, source free maps,  units of $\\mu$K  (Replace I with Q or U to get other components)\n",
    "  act_planck_s08_s18_cmb_f090_night_map_I.fits | 90 GHz ACT + Planck combined, point sources included, units of $\\mu$K (Replace I with Q or U to get other components)\n",
    "  act_planck_s08_s18_cmb_f090_night_ivar.fits | 90 GHz  ACT + Planck combined, inverse variance (similar to hit count maps) units of $1/ \\mu K^2$ \n",
    "  |\n",
    "   act_planck_s08_s18_cmb_f150_night_map_srcfree_I.fits | 150 GHz  ACT + Planck combined, source free maps,  units of $\\mu$K  (Replace I with Q or U to get other components)\n",
    "  act_planck_s08_s18_cmb_f150_night_map_I.fits | 150 GHz  ACT + Planck combined, point sources included, units of $\\mu$K (Replace I with Q or U to get other components)\n",
    "  act_planck_s08_s18_cmb_f150_night_ivar.fits | 150 GHz  ACT + Planck combined, inverse variance (similar to hit count maps) units of $1/ \\mu K^2$ \n",
    "  |\n",
    "   act_planck_s08_s18_cmb_f220_night_map_srcfree_I.fits | 220 GHz  ACT + Planck combined, source free maps,  units of $\\mu$K  (Replace I with Q or U to get other components)\n",
    "  act_planck_s08_s18_cmb_f220_night_map_I.fits | 220 GHz  ACT + Planck combined, point sources included, units of $\\mu$K (Replace I with Q or U to get other components)\n",
    "  act_planck_s08_s18_cmb_f220_night_ivar.fits | 220 GHz  ACT + Planck combined, inverse variance (similar to hit count maps) units of $1/ \\mu K^2$ \n",
    "\n",
    "---\n"
   ]
  },
  {
   "cell_type": "markdown",
   "metadata": {},
   "source": [
    "## Initialize notebook\n",
    "\n",
    "We begin by importing Pixell and other neccesary functions by running the introductory notebook."
   ]
  },
  {
   "cell_type": "code",
   "execution_count": null,
   "metadata": {},
   "outputs": [],
   "source": [
    "%run Section_1_Introduction.ipynb"
   ]
  },
  {
   "cell_type": "markdown",
   "metadata": {
    "colab_type": "text",
    "id": "aN-jFpNbPsJ5"
   },
   "source": [
    "## Reading in the maps\n",
    "\n",
    "Here we will demonstrate how to initially read in CAR maps and how to examine them using various Pixell based tools.\n",
    "\n",
    "In this example we will read in the 150 GHz intensity map, denoted by the final I in the name. Once downloaded from [LAMBDA](https://lambda.gsfc.nasa.gov/product/act/), you can read the various maps described in Table 2 using the same command."
   ]
  },
  {
   "cell_type": "code",
   "execution_count": null,
   "metadata": {
    "colab": {},
    "colab_type": "code",
    "id": "yny-Cqs8wGwO"
   },
   "outputs": [],
   "source": [
    "imap = enmap.read_map(path + \"act_planck_s08_s18_cmb_f150_night_map_I.fits\")"
   ]
  },
  {
   "cell_type": "markdown",
   "metadata": {
    "colab_type": "text",
    "id": "A0hHmP4KX3Aj"
   },
   "source": [
    "The map is stored as an [ndmap](https://pixell.readthedocs.io/en/latest/usage.html#the-ndmap-object) object, which combines a numpy array with a WCS object describing the relation between pixel space and the celestial sphere. In order to examine the WCS and shape of the map simply call the objects as shown here."
   ]
  },
  {
   "cell_type": "code",
   "execution_count": null,
   "metadata": {
    "colab": {
     "base_uri": "https://localhost:8080/",
     "height": 51
    },
    "colab_type": "code",
    "id": "JCNhKG8KX2S4",
    "outputId": "aea496ba-c517-4156-b227-e9210ff0b96d"
   },
   "outputs": [],
   "source": [
    "print(imap.shape)\n",
    "print(imap.wcs)"
   ]
  },
  {
   "cell_type": "markdown",
   "metadata": {
    "colab_type": "text",
    "id": "5ku-Eg4vbIvk"
   },
   "source": [
    "The WCS object includes important information that Pixell uses to handle the maps.  The first item is the projection which for this map is 'car'.  While Pixell can handle other projections, the most recent ACT maps are all in CAR, or Plate Carée, format.  This means that the sky can be directly mapped on to the pixels using the simple relations:\n",
    "$$\\phi  = x, \\quad \\theta = y$$ \n",
    "\n",
    "Where $\\phi$ is the Right Ascension and $\\theta$ is declination.\n",
    "\n",
    "For more information on WCS objects consider referencing the [astropy wcs documentation](http://docs.astropy.org/en/stable/wcs/index.html) . "
   ]
  },
  {
   "cell_type": "markdown",
   "metadata": {
    "colab_type": "text",
    "id": "8OT5puWuPxIY"
   },
   "source": [
    "## Visualizing the maps\n",
    "\n",
    "The module pixell.enplot has built-in tools that allow you to easily plot maps; a full list can be found in the Pixell code available on Github.\n",
    "\n",
    "Here we provide several examples of these features including downgrading (which is done internally through pixel averaging), adjusting the frequency of the ticks on the axes, and displaying a color bar. \n",
    "\n",
    "Some other useful keywords that are used later in this notebook are:\n",
    "\n",
    "*   \"upgrade\" - useful for plotting small stamps around point sources\n",
    "*   \"min\", \"max\", and \"range\" - set the color range for the colorbar\n",
    "*   \"color\" - set the color map for the maps (e.g. planck, wmap, hotcold, etc.)\n",
    "\n",
    "\n",
    "\n"
   ]
  },
  {
   "cell_type": "code",
   "execution_count": null,
   "metadata": {
    "colab": {},
    "colab_type": "code",
    "id": "oV3r0PkSRwDc"
   },
   "outputs": [],
   "source": [
    "def eshow(x,**kwargs): \n",
    "    ''' Define a function to help us plot the maps neatly '''\n",
    "    plots = enplot.get_plots(x, **kwargs)\n",
    "    enplot.show(plots, method = \"ipython\")"
   ]
  },
  {
   "cell_type": "code",
   "execution_count": null,
   "metadata": {
    "colab": {
     "base_uri": "https://localhost:8080/",
     "height": 311
    },
    "colab_type": "code",
    "id": "Peu9gDkpZEP7",
    "outputId": "be7f313a-b596-4e13-d6af-a17d77e41a56"
   },
   "outputs": [],
   "source": [
    "# add \"color\", \"min\", \"max\", \"range\" etc keys here to adjust your plot\n",
    "keys = {\"downgrade\": 8, \"ticks\": 25, \"colorbar\": True}  \n",
    "eshow(imap, **keys)"
   ]
  },
  {
   "cell_type": "markdown",
   "metadata": {
    "colab_type": "text",
    "id": "TiIC9zrLPzi0"
   },
   "source": [
    "### Selecting a smaller patch of the sky\n",
    "\n",
    "One of the advantages of using the CAR and Pixell framework is that you can easily select a small region of the map to examine in more detail.  Users can select a submap at a specific location by creating a bounding box around a central location in RA and DEC.  For example if we wanted to visualize an object at RA = 0 and dec = 0  we can create a box, with a width of 5 degrees, around this location.  Note that Pixell takes in bounding boxes in radians so here we convert the dec, ra and width to radians using numpy before forming the box.\n",
    "\n",
    "You can also create a box using the framework:\n",
    "\n",
    "> box = [[dec_from, ra_from],[dec_to, ra_to]] $\\quad$ (in radians)\n",
    "\n",
    " "
   ]
  },
  {
   "cell_type": "code",
   "execution_count": null,
   "metadata": {
    "colab": {
     "base_uri": "https://localhost:8080/",
     "height": 691
    },
    "colab_type": "code",
    "id": "GgbaNOYlPreM",
    "outputId": "f205c83a-a1ef-4b53-d21c-4ad6775b9570"
   },
   "outputs": [],
   "source": [
    "# Set up a box around dec = 0 and ra = 0\n",
    "dec,ra = np.deg2rad([0,-0])\n",
    "\n",
    "# Give the box a width of 5 degrees\n",
    "width = np.deg2rad(5)\n",
    "\n",
    "# Create the box and use it to select a submap\n",
    "box = [[dec-width/2.,ra-width/2.],[dec+width/2.,ra+width/2.]]\n",
    "smap = imap.submap(box)\n",
    "\n",
    "# Plot the map using the eshow function we defined earlier\n",
    "eshow(smap, **{\"colorbar\":True, \"range\": 300})\n",
    "imap.wcs"
   ]
  },
  {
   "cell_type": "markdown",
   "metadata": {
    "colab_type": "text",
    "id": "nCg2idc9P2L_"
   },
   "source": [
    "### Selecting a patch using pixel indexing\n",
    "Alternatively we can slice the map using numpy array indexing to get a submap.  This will select a submap using the indexes of the pixels themselves instead of sky coordinates.  We will do that now for a larger area.  \n",
    "\n",
    "What's useful about this is that you can treat the maps like a numpy array and pixell will automatically handle fixing the map projections as needed by adjusting the wcs information stored with the map.  If you look at the two wcs's printed after the map you can see the resolution stayed fixed but the center pixel adjusted when we cut the map.\n",
    "\n",
    "Later on in this notebook we will use this method to look at galaxy clusters and Messier objects."
   ]
  },
  {
   "cell_type": "code",
   "execution_count": null,
   "metadata": {
    "colab": {
     "base_uri": "https://localhost:8080/",
     "height": 293
    },
    "colab_type": "code",
    "id": "Y4PF0y89P2fV",
    "outputId": "9bfb7242-a3ec-4497-94bb-e1afc56c078d"
   },
   "outputs": [],
   "source": [
    "smap_2 = imap[4000:-4000,15000:-15000]\n",
    "\n",
    "eshow(smap_2, **{\"downgrade\": 8, \"colorbar\": True, \"ticks\": 10})\n",
    "\n",
    "print(imap.wcs)\n",
    "print(smap_2.wcs)"
   ]
  },
  {
   "cell_type": "markdown",
   "metadata": {},
   "source": [
    "### Continue to the next section\n",
    "\n",
    "[Section 3](Section_3_HEALPix_CAR_Conversions.ipynb):  Demonstration of methods to converted maps between HEALPix format and the CAR format.\n"
   ]
  }
 ],
 "metadata": {
  "kernelspec": {
   "display_name": "Python 3",
   "language": "python",
   "name": "python3"
  },
  "language_info": {
   "codemirror_mode": {
    "name": "ipython",
    "version": 3
   },
   "file_extension": ".py",
   "mimetype": "text/x-python",
   "name": "python",
   "nbconvert_exporter": "python",
   "pygments_lexer": "ipython3",
   "version": "3.8.2"
  }
 },
 "nbformat": 4,
 "nbformat_minor": 4
}
