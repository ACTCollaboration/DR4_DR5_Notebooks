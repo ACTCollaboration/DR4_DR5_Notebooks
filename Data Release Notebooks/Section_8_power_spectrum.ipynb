{
 "cells": [
  {
   "cell_type": "markdown",
   "metadata": {
    "colab_type": "text",
    "id": "-EOQhi7golYs"
   },
   "source": [
    "# Section 8: Maps and Power Spectra of Individual patches (Power Spectrum Stand in Notebook)"
   ]
  },
  {
   "cell_type": "markdown",
   "metadata": {
    "colab_type": "text",
    "id": "JVHtEeiZmtsM"
   },
   "source": [
    "This notebook provides an overview of the individual patch maps included as part of the Advanced ACT data release 4 (DR4).\n",
    "\n",
    "To return to the main notebook or to view a different section use the links in the table of contents.\n",
    "\n",
    "## Table of contents\n",
    "\n",
    " --- \n",
    "> [Section 1](Section_1_Advanced_ACT_DR4_Combined_data_products.ipynb): Introduction and Importing Pixell, Healpy and other key packages\n",
    "\n",
    "> [Section 2](Section_2_coadded_maps.ipynb): S08-18 Coadded maps and an Introduction to Pixell\n",
    "\n",
    "> [Section 3](Section_3_HEALPix_CAR_Conversions.ipynb):  Demonstration of methods to converted maps between HEALPix format and the CAR format.\n",
    "\n",
    "> [Section 4](Section_4_visualize_objects.ipynb):  Guide to using Pixell to look at objects in the maps and stacking our maps on catalogue positions.\n",
    "\n",
    "> [Section 5](Section_5_Lensing_maps.ipynb):  Introduction to the Lensing maps.\n",
    "\n",
    "> [Section 6](Section_6_Component_separated_maps.ipynb):  Guide to the use of the Component Separated maps.\n",
    "\n",
    "> [Section 7](Section_7_harmonic_analysis.ipynb):  Harmonic Analysis with CAR Maps\n",
    "\n",
    "> [Section 8](Section_8_power_spectrum.ipynb): Maps and Power Spectra of Individual Patches \n",
    "\n",
    "> [Section 9](Section_9_E_B_maps.ipynb):  Looks at how to generate E and B maps from I, Q, U maps.  \n",
    "---\n"
   ]
  },
  {
   "cell_type": "markdown",
   "metadata": {
    "colab_type": "text",
    "id": "jvZURp-1z3LC"
   },
   "source": [
    "## Import packages and set the data path"
   ]
  },
  {
   "cell_type": "markdown",
   "metadata": {
    "colab_type": "text",
    "id": "kxJg1HAylo9j"
   },
   "source": [
    "This cell will import pixell and healpy packages.  If you're using this notebook with a Docker container running the container should handle the package installation.  If not please consult the documentation to install [Pixell](https://github.com/simonsobs/pixell) and [Healpy](https://healpy.readthedocs.io/en/latest/) seperately.\n",
    "\n",
    "[can we rerun the first notebook?]"
   ]
  },
  {
   "cell_type": "code",
   "execution_count": null,
   "metadata": {
    "colab": {},
    "colab_type": "code",
    "id": "JuW6ZY2_PYjA"
   },
   "outputs": [],
   "source": [
    "import numpy as np\n",
    "import matplotlib.pyplot as plt\n",
    "import healpy as hp\n",
    "import time\n",
    "import sys\n",
    "from pixell import enmap, enplot, reproject,utils, curvedsky \n",
    "from matplotlib import cm\n",
    "\n",
    "path = \"/usr/home/workspace/data/\""
   ]
  },
  {
   "cell_type": "code",
   "execution_count": null,
   "metadata": {},
   "outputs": [],
   "source": [
    "%run Section_1_Advanced_ACT_DR4_Combined_data_products.ipynb"
   ]
  },
  {
   "cell_type": "markdown",
   "metadata": {
    "colab_type": "text",
    "id": "0sX-dfG76efk"
   },
   "source": [
    "# Accessing the available map splits"
   ]
  },
  {
   "cell_type": "markdown",
   "metadata": {
    "colab_type": "text",
    "id": "cQXcpb4891s5"
   },
   "source": [
    "The season 13 through 16 maps cover ~ 17,000 sq degrees on the sky and we present both 98 GHz and 150 GHz maps. They include data used to make the maps presented in Naess et al. (2014) and Louis et al. (2017) along with sumplemental observations from 2015 and 2016. While we will only use the data from the D8 patch in this particular notebook, the rest of the patch, array, season and frequncy combinations are detailed in Table 1 and in [Aiola et al. (2020)](https://phy-wiki.princeton.edu/polwiki/pmwiki.php?n=Papers.Papers?action=download&upname=ACT_DR4_A20_v20200420.pdf)\n",
    "\n",
    "---\n",
    "Table 1: Summary of patch sizes and white-noise levels\n",
    "---\n",
    "\n",
    "\n",
    "\n",
    "Season | s13|s14|s15|s16\n",
    "---|---|---|---|---\n",
    "**Array and Frequency** | **PA1$_{150}$** | **PA1$_{150}$/ PA2$_{150}$**|  **PA1$_{150}$**/ **PA2$_{150}$/PA3$_{98}$ / PA3$_{150}$**| **PA2/PA3$_{98}$/PA3$_{150}$**\n",
    "**D1 (131 sq deg)**| 18.6 | | |\n",
    "**D5 (157 sq deg)** | 16.4 \n",
    "**D6 (135 sq deg)**| 12.6|\n",
    "**D56 (834 sg deg)**| | 32.3/20.5 | 33.3/21.9/18.4/28.6|\n",
    "**D8 (248 sq deg)**| | | 42.0/21.5/20.0/29.0|\n",
    "**BN (3157 sq deg)**| | |76.8/41.3/33.9/49.1\n",
    "**AA (17044 sq deg)** | | || 72.9/78.7/118.5\n",
    "\n",
    "White noise levels are given in units of $\\mu$K-arcmin.\n",
    "\n",
    "---\n",
    "\n",
    "For each of the patch, season, array and frequency combination we include 4 splits (with the exception of patch AA which includes 2) as well as one map-based co-add resulting in 94 data units.  \n",
    "\n",
    "Each of these units contains 4 fits files:\n",
    " * Source-free maps:  These contain I (or T), Q and U Stokes components and are in units of $\\mu K_{CMB}$ \n",
    " * Source maps:  These contain the point-source signal in units of $\\mu K_{CMB} $ .  The simple sum of the source and source-free maps will give a map of the observed sky.\n",
    " * ivar (inverse-variance) maps: Roughly proportional to a traditinoal hit count map but includes the variance contribution from detector noise and so is better suited for pixel weighting in map-based co-addition.\n",
    " * Cross-linking maps: T, Q, U components that are used to describe the pixel cross-linking of a dataset.  \n",
    "\n",
    "---\n",
    "Maps are named according to the convention:\n",
    "> act_dr4_season\\*\\_patch\\*\\_array\\*\\_freq\\*\\_nohwp_night_3pass_set\\*\\_map_suffix\\*\n",
    "\n",
    "* Season: s13, s14, s15, s16\n",
    "* patch: D1, D5, D6, D56, D8, BN, AA\n",
    "* array: PA1, PA2, PA3\n",
    "* freq: f090, f150\n",
    "* set: 2way_set0, 2way_set1 or 4way_set(0 - 4)\n",
    "* map_suffix: map_srcfree.fits, srcs.fits, xlink.fits, ivar.fits\n",
    "\n",
    "Once the splits of interest have been chosen they can be read in and viewed using Pixell's enmap as shown in the following example.\n",
    "\n",
    "For this example we use the D8 patch at 150 GHz."
   ]
  },
  {
   "cell_type": "code",
   "execution_count": null,
   "metadata": {
    "colab": {
     "base_uri": "https://localhost:8080/",
     "height": 1000
    },
    "colab_type": "code",
    "id": "R2DEVyW6_UID",
    "outputId": "99df257d-1f69-4ad7-b4b5-214560ae1f65"
   },
   "outputs": [],
   "source": [
    "# We will select two maps of the same area, frequency, etc. one of which is source free\n",
    "# and the other contains just the sources.  \n",
    "fname_srcfree = \"act_dr4_s15_D8_pa2_f150_nohwp_night_3pass_4way_set2_map_srcfree.fits\"\n",
    "fname_src = \"act_dr4_s15_D8_pa2_f150_nohwp_night_3pass_4way_set2_srcs.fits\"\n",
    "\n",
    "# By combining the two maps chosen above we recover the observed sky with point sources\n",
    "imap_srcfree = enmap.read_map(path + fname_srcfree)\n",
    "imap_srcs =   enmap.read_map(path + fname_src)\n",
    "imap = imap_srcfree + imap_srcs\n",
    "\n",
    "# We can now plot the maps we just read in\n",
    "def eshow(x,**kwargs): \n",
    "    ''' Define a function to help us plot the maps neatly '''\n",
    "    plots = enplot.get_plots(x, **kwargs)\n",
    "    enplot.show(plots, method = \"ipython\")\n",
    "\n",
    "eshow(imap, **{\"downgrade\": 8, \"colorbar\": True, \"ticks\": 25})"
   ]
  },
  {
   "cell_type": "markdown",
   "metadata": {
    "colab_type": "text",
    "id": "2eXeFcZ9CMDb"
   },
   "source": [
    "Note that in the above map we actually see three maps.  The first is the I (or T) map and the next two are Q and U respectively.  To access just the temperature map, or just the Q or U maps, one can use normal array indexing.  We can also use indexing or enmap's submap feature to view a smaller patch of the map.  \n",
    "\n",
    "As before, submaps are referenced by defining a bounding box according to :\n",
    "> box = [[dec_from, ra_from],[dec_to, ra_to]] $\\quad$ (in radians)\n"
   ]
  },
  {
   "cell_type": "code",
   "execution_count": null,
   "metadata": {
    "colab": {
     "base_uri": "https://localhost:8080/",
     "height": 524
    },
    "colab_type": "code",
    "id": "OSFmheIACZBL",
    "outputId": "38e740d2-b547-41c0-a734-f30981411be5"
   },
   "outputs": [],
   "source": [
    "# Define a box to trim the map\n",
    "box = np.array([[-49,11],[-34,-5]])*utils.degree\n",
    "\n",
    "# Trim the maps using the submap feature\n",
    "smap = imap.submap(box)\n",
    "\n",
    "# Display just the intensity map using numpy array indexing (I = 0, Q = 1, U = 2)\n",
    "eshow(smap[0], **{\"downgrade\": 4, \"colorbar\": True, \"ticks\": 2})\n"
   ]
  },
  {
   "cell_type": "markdown",
   "metadata": {
    "colab_type": "text",
    "id": "l0RaSZgsAh4s"
   },
   "source": [
    "# Cross Spectra of patches \n",
    "\n",
    "Given that each patch has multiple splits we are able to calculate simple cross spectra of patches. \n",
    "\n",
    "In this example we will read in two different splits for the same patch, frequency etc.  We also choose to leave out the point sources.\n",
    "\n",
    "The basic steps for this are:\n",
    "\n",
    "\n",
    "1.   Read in the maps of interest\n",
    "2.   Trim and apodize as needed to exclude noisy regions \n",
    "3.   Generate alms from the two patches\n",
    "4.   Cross correlate to get the cls\n",
    "5.   Adjust cls by accounting for the sky fraction (w2_new) and convert from cls to Dls\n",
    "\n",
    "\n"
   ]
  },
  {
   "cell_type": "code",
   "execution_count": null,
   "metadata": {
    "colab": {},
    "colab_type": "code",
    "id": "hedkqifyKJkK"
   },
   "outputs": [],
   "source": [
    "# We will read in another map of this same patch from earlier.  This time let's\n",
    "# leave the point sources out   \n",
    "fname_srcfree_1 = \"act_dr4_s15_D8_pa2_f150_nohwp_night_3pass_4way_set1_map_srcfree.fits\"\n",
    "fname_srcfree_2 = \"act_dr4_s15_D8_pa2_f150_nohwp_night_3pass_4way_set2_map_srcfree.fits\"\n",
    "fname_srcs = \"act_dr4_s15_D8_pa2_f150_nohwp_night_3pass_4way_set2_srcs.fits\"\n",
    "\n",
    "# By combining the two maps chosen above we recover the observed sky with point sources\n",
    "imap_srcfree_1 = enmap.read_map(path + fname_srcfree_1) \n",
    "imap_srcfree_2 = enmap.read_map(path + fname_srcfree_2) \n",
    "\n",
    "# We can now plot the maps we just read in\n",
    "eshow(imap_srcfree_1[0], **{\"downgrade\": 6, \"colorbar\": True, \"ticks\": 25})\n",
    "eshow(imap_srcfree_2[0], **{\"downgrade\": 6, \"colorbar\": True, \"ticks\": 25})"
   ]
  },
  {
   "cell_type": "markdown",
   "metadata": {
    "colab_type": "text",
    "id": "zhGi8huLB28h"
   },
   "source": [
    "We can trim and apodize these patches again"
   ]
  },
  {
   "cell_type": "code",
   "execution_count": null,
   "metadata": {
    "colab": {},
    "colab_type": "code",
    "id": "jHQyXfRHB2WB"
   },
   "outputs": [],
   "source": [
    "box = np.array([[-49,11],[-34,-5]])*utils.degree\n",
    "smap_1 = imap_srcfree_1.submap(box)[0]\n",
    "smap_2 = imap_srcfree_2.submap(box)[0]\n",
    "\n",
    "# Define taper using enmap.apod and then plot\n",
    "apod_pix = 100\n",
    "taper    = enmap.apod(smap_1*0+1,apod_pix) #Ensures the taper map has the same shape and wcs as the data\n",
    "\n",
    "eshow(taper,  **{\"downgrade\": 6, \"colorbar\": True, \"ticks\": 5})\n",
    "eshow(smap_1*taper, **{\"downgrade\": 6, \"colorbar\": True, \"ticks\": 5})\n",
    "eshow(smap_2*taper, **{\"downgrade\": 6, \"colorbar\": True, \"ticks\": 5})"
   ]
  },
  {
   "cell_type": "markdown",
   "metadata": {
    "colab_type": "text",
    "id": "ZfgrCVukCKBt"
   },
   "source": [
    "Now we repeat the spherical harmonic analysis but with a cross spectra"
   ]
  },
  {
   "cell_type": "code",
   "execution_count": null,
   "metadata": {
    "colab": {},
    "colab_type": "code",
    "id": "uLWaAsYlCN9u"
   },
   "outputs": [],
   "source": [
    "# First we get the alms\n",
    "alms_1 = np.cdouble(curvedsky.map2alm(smap_1*taper, lmax = 6000))\n",
    "alms_2 = np.cdouble(curvedsky.map2alm(smap_2*taper, lmax = 6000))\n",
    "\n",
    "# Next step we get the cls using healpy\n",
    "cls = hp.alm2cl(alms_1, alms_2)\n",
    "\n",
    "# We also want the corresponding ells which we can get easily\n",
    "ell = np.arange(len(cls))\n",
    "\n",
    "# Now we calculate the weighting we have to apply to our spectrum due to the \n",
    "# trimmed size\n",
    "w2 = enmap.area(smap_1.shape, smap_1.wcs) / 4. / np.pi\n",
    "\n",
    "# Now we combine these to get the Dls\n",
    "Dl = cls*ell **2 / w2 "
   ]
  },
  {
   "cell_type": "code",
   "execution_count": null,
   "metadata": {
    "colab": {},
    "colab_type": "code",
    "id": "x-Q70U2lCmsS"
   },
   "outputs": [],
   "source": [
    "# Read in a camb fiducial spectrum for comparison\n",
    "from pixell import powspec\n",
    "camb_theory = powspec.read_spectrum(path + \"camb_theory.dat\")\n",
    "cltt = camb_theory[0,0,:3000]\n",
    "ls = np.arange(cltt.size)\n",
    "\n",
    "# Now we can plot our power spectrum\n",
    "plt.figure(figsize = (8,6))\n",
    "plt.rc('font', family='serif')\n",
    "plt.grid(True)\n",
    "\n",
    "# Plot cross and camb\n",
    "plt.plot(ls, cltt*ls**2., lw=3,color='k', label = \"fiducial\")\n",
    "plt.plot(ell, Dl, label = \"cross spectrum\")\n",
    "plt.legend()\n",
    "plt.yscale('log')\n",
    "plt.xlabel('$\\\\ell$', fontsize = 16)\n",
    "plt.ylabel('$D_{\\\\ell}$', fontsize = 16)\n",
    "plt.ylim(1 ,1e6)\n",
    "plt.xlim(0, 3000)\n",
    "plt.show()"
   ]
  },
  {
   "cell_type": "markdown",
   "metadata": {
    "colab_type": "text",
    "id": "KCTVG65qOq5d"
   },
   "source": [
    "This looks reasonably good now!  We can see the acoustic oscilations in the power spectrum and it seems to match our fiducial plot reasonably well.  \n",
    "\n",
    "While this method works really well for quick power spectrum tests and for some analyses, we should still note its limitations.  We haven't taken into account the fact that the mask we applied by trimming the map has second order effects on the power spectrum and will actually couple modes.  For that reason, as in the previous notebook, more in-depth power spectrum analysis should use mask deconvolution algroithms such as **namaster**, **pitas** or **pspy**."
   ]
  },
  {
   "cell_type": "markdown",
   "metadata": {
    "colab_type": "text",
    "id": "lHIgzrAly58P"
   },
   "source": [
    "# Beams"
   ]
  },
  {
   "cell_type": "markdown",
   "metadata": {
    "colab_type": "text",
    "id": "vefHP7wv-yVE"
   },
   "source": [
    "\n",
    "As part of DR4 beam information is readily available and should be used when doing power spectrum analysis.  Here we demonstrate how to access these beams and generate window functions by squaring and normalizing them."
   ]
  },
  {
   "cell_type": "code",
   "execution_count": null,
   "metadata": {
    "colab": {},
    "colab_type": "code",
    "id": "YORDRVMrGPRc"
   },
   "outputs": [],
   "source": [
    "# Load the data\n",
    "beam_fname = path + \"s15_pa2_f150_nohwp_night_beam_tform_instant_cmbspec.txt\"\n",
    "data = np.loadtxt(beam_fname).T\n",
    "ell, Bell = data[:2,:12001]\n",
    "\n",
    "# Convert to window funciton\n",
    "Well = Bell**2\n",
    "\n",
    "# Apply normalization\n",
    "norm = Well[0]\n",
    "Well /= norm"
   ]
  },
  {
   "cell_type": "code",
   "execution_count": null,
   "metadata": {
    "colab": {
     "base_uri": "https://localhost:8080/",
     "height": 414
    },
    "colab_type": "code",
    "id": "-tCvMzDTZBr_",
    "outputId": "f5f3ee77-2313-40ea-c614-cd69487b5a8b"
   },
   "outputs": [],
   "source": [
    "# Now we can plot the normalized beam window function\n",
    "plt.figure(figsize = (8,6))\n",
    "plt.rc('font', family='serif')\n",
    "\n",
    "plt.plot(ell, Well)\n",
    "\n",
    "plt.title(\"Beam Window Function\", fontsize = 16)\n",
    "plt.xlabel('$\\\\ell$', fontsize = 18)\n",
    "plt.ylabel('$W_{\\\\ell}^2$', fontsize = 18)\n",
    "plt.grid(True)\n",
    "plt.show()"
   ]
  },
  {
   "cell_type": "markdown",
   "metadata": {
    "colab": {},
    "colab_type": "code",
    "id": "zfuVMe1n2MZy"
   },
   "source": [
    "### Continue to the Next Section\n",
    "\n",
    "\n",
    "[Section 9](Section_9_E_B_maps.ipynb):  Look at how to generate E and B maps from I, Q, U maps.  "
   ]
  }
 ],
 "metadata": {
  "colab": {
   "name": "Advanced ACT DR4 Map Splits with Power Spectrum analysis ",
   "provenance": [],
   "toc_visible": true
  },
  "kernelspec": {
   "display_name": "Python 3",
   "language": "python",
   "name": "python3"
  },
  "language_info": {
   "codemirror_mode": {
    "name": "ipython",
    "version": 3
   },
   "file_extension": ".py",
   "mimetype": "text/x-python",
   "name": "python",
   "nbconvert_exporter": "python",
   "pygments_lexer": "ipython3",
   "version": "3.8.2"
  }
 },
 "nbformat": 4,
 "nbformat_minor": 4
}
