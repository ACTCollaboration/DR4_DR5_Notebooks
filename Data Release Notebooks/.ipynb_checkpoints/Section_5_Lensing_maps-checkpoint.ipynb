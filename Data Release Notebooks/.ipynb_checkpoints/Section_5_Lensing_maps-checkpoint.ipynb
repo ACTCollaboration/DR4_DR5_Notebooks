{
 "cells": [
  {
   "cell_type": "markdown",
   "metadata": {},
   "source": [
    "# Section 5: Lensing Maps\n",
    "\n",
    "As part of the ACT data release 4 (DR4) lensing maps constructed using data from Seasons 2014-2015 are publicly available.  These maps are discussed more in depth in [Darwish et al](https://arxiv.org/pdf/2004.01139.pdf). but this section will help users access and examine the maps. \n",
    "\n",
    "The two seasons of 98 GHz and 150 GHz maps are coadded to produce the input maps for the lensing estimator.  These input maps are discussed in more detail in the paper but are constructed such that point sources are masked and the beam is deconvolved.\n",
    "\n",
    "The lensing maps can be accessed and used with the same Pixell commands implemented in previous notebooks meaning users can trim them and study small patches as needed. The available files are documented in table 3.\n",
    "\n",
    "To return to the main notebook or to view a different section use the links in the table of contents.\n",
    "\n",
    "## Table of contents\n",
    "\n",
    " --- \n",
    "> [Section 1](Section_1_Introduction.ipynb): Introduction to AdvACT Data Release 4\n",
    "\n",
    "> [Section 2](Section_2_coadded_maps.ipynb): S08-18 Coadded maps and an Introduction to Pixell\n",
    "\n",
    "> [Section 3](Section_3_HEALPix_CAR_Conversions.ipynb):  Demonstration of methods to convert maps between HEALPix format and the CAR format.\n",
    "\n",
    "> [Section 4](Section_4_visualize_objects.ipynb):  Guide to using Pixell to look at objects in the maps and stacking our maps on catalogue positions.\n",
    "\n",
    "> [Section 5](Section_5_Lensing_maps.ipynb):  Introduction to the Lensing maps.\n",
    "\n",
    "> [Section 6](Section_6_Component_separated_maps.ipynb):  Guide to the use of the Component Separated maps.\n",
    "\n",
    "> [Section 7](Section_7_harmonic_analysis.ipynb):  Harmonic Analysis with CAR Maps\n",
    "\n",
    "> [Section 8](Section_8_individual_patches_and_power_spectrum.ipynb): Maps and Power Spectra of Individual Patches \n",
    "\n",
    "> [Section 9](Section_9_E_B_maps.ipynb):  Look at how to generate E and B maps from I, Q, U maps. \n",
    " \n",
    "---"
   ]
  },
  {
   "cell_type": "markdown",
   "metadata": {},
   "source": [
    "## Initialize notebook\n",
    "\n",
    "We begin by importing Pixell and other neccesary functions by running the introductory notebook.\n",
    "\n",
    "We will also define a function eshow that plots CAR maps for us.  This function is introduced in the section 2 Notebook originally."
   ]
  },
  {
   "cell_type": "code",
   "execution_count": null,
   "metadata": {},
   "outputs": [],
   "source": [
    "%run Section_1_Introduction.ipynb\n",
    "\n",
    "def eshow(x,**kwargs): \n",
    "    ''' Define a function to help us plot the maps neatly '''\n",
    "    plots = enplot.get_plots(x, **kwargs)\n",
    "    enplot.show(plots, method = \"ipython\")"
   ]
  },
  {
   "cell_type": "markdown",
   "metadata": {
    "colab_type": "text",
    "id": "smN7aD_qfS0X"
   },
   "source": [
    "---\n",
    "Table 3: Lensing Maps\n",
    "---\n",
    "\n",
    "Map File Name | Description\n",
    "---|---\n",
    "mc_corrected_realKappaCoadd_s14&15_deep56New.fits | Deep 56 lensing map\n",
    "mc_corrected_realKappaCoadd_s14&15_bossNew.fits | Boss North lensing map\n",
    "mc_corrected_realKappaCoadd_sim#_s14&15_deep56New.fits | Simulations where sim# = 001 -  511 for the deep 56 region\n",
    "mc_corrected_realKappaCoadd_sim#_s14&15_bossNew.fits | Simulations where sim# = 001 -  511 for the Boss North region\n",
    "\n",
    "---\n",
    "Masks:\n",
    "Masks for both regions are provided as fits files"
   ]
  },
  {
   "cell_type": "code",
   "execution_count": null,
   "metadata": {
    "colab": {
     "base_uri": "https://localhost:8080/",
     "height": 34
    },
    "colab_type": "code",
    "id": "L_NX6-Klj0JO",
    "outputId": "f112b840-3f6c-485b-bd57-21664287b5ad"
   },
   "outputs": [],
   "source": [
    "lensing = enmap.read_map(path + \"mc_corrected_realKappaCoadd_s14&15_deep56New.fits\")"
   ]
  },
  {
   "cell_type": "code",
   "execution_count": null,
   "metadata": {
    "colab": {
     "base_uri": "https://localhost:8080/",
     "height": 877
    },
    "colab_type": "code",
    "id": "yzixmTMmXkNU",
    "outputId": "21b6136e-637e-44fe-aacf-d31efcb0ce34"
   },
   "outputs": [],
   "source": [
    "# Plot the entire map and thenn a smaller slice of it using the \"sub\" key \n",
    "eshow(lensing, **{\"downgrade\": 5, \"ticks\": 5, \"color\": 'gray'})\n",
    "eshow(lensing,**{\"sub\":\"-3 :2 ,30:20\", \"color\": 'gray'} )"
   ]
  },
  {
   "cell_type": "markdown",
   "metadata": {},
   "source": [
    "## Cross correlate with a galaxy over density map\n",
    "\n",
    "These lensing maps can be cross correlated with other maps either directly in Pixell or by reprojecting to HEALPix.  For this demonstration we will cross correlate the lensing map with a galaxy overdensity map.  Since HEALPix is based on equal area pixels it is somewhat easier to build a density map in HEALPix.  In order to then cross correlate with the lesning map we will project the above CAR map to HEALPix as described in the Section 3 notebook. \n",
    "\n",
    "Once we've reprojected the map we can build a galaxy overdensity map using the definition\n",
    "\\begin{align}\n",
    "g(\\hat{n}) = \\frac{n(\\hat{n}) - \\tilde n}{\\tilde n} \n",
    " \\tag{1}\n",
    "\\end{align}\n",
    "\n",
    "Where $n(\\hat{n})$ is the number of galaxies in that pixel."
   ]
  },
  {
   "cell_type": "code",
   "execution_count": null,
   "metadata": {},
   "outputs": [],
   "source": [
    "# Project the lensing map to HEALPix\n",
    "lensing_hp =  reproject.healpix_from_enmap(lensing, lmax = 6000, nside = 624)\n",
    "hp.mollview(lensing_hp)\n",
    "hp.graticule()"
   ]
  },
  {
   "cell_type": "markdown",
   "metadata": {},
   "source": [
    "## Make the overdensity map\n",
    "\n",
    "To begin with we will read in a catalog of galaxies.  This can be found [here](https://data.sdss.org/sas/dr12/boss/lss/galaxy_DR12v5_CMASSLOWZTOT_South.fits.gz) from sdss' BOSS catalog of CMASS galaxies.  "
   ]
  },
  {
   "cell_type": "code",
   "execution_count": null,
   "metadata": {},
   "outputs": [],
   "source": [
    "from astropy.io import fits\n",
    "from astropy import units as u\n",
    "redmap_hdu = fits.open(path + \"galaxy_DR12v5_CMASSLOWZTOT_South.fits\")\n",
    "\n",
    "class galaxy_catalog:\n",
    "    def __init__(self, catalog):\n",
    "        self.RA  = catalog[1].data['RA'] *u.deg\n",
    "        self.DEC = catalog[1].data['DEC']*u.deg\n",
    "        \n",
    "\n",
    "redmap = galaxy_catalog(redmap_hdu)"
   ]
  },
  {
   "cell_type": "markdown",
   "metadata": {},
   "source": [
    "### Generating an over density map using the catalog\n",
    "\n",
    "Now that we have the catalog we can generate an over density map by first creating an enmap the same shape and size as the lensed map but filled with zeros.  From there we can find the pixel location of each galaxy and add the galaxies to our empty map.  We then finish by subtracting the mean from each pixel and dividing by the mean as indicated by equation 1 above."
   ]
  },
  {
   "cell_type": "code",
   "execution_count": null,
   "metadata": {},
   "outputs": [],
   "source": [
    "nside = 624\n",
    "class catMapper():\n",
    "    def __init__(self,ras_deg,decs_deg, weights = None):\n",
    "            self.nside = nside\n",
    "            self.shape = hp.nside2npix(nside)\n",
    "            self.pixs = hp.ang2pix(nside,ras_deg,decs_deg,lonlat=True)\n",
    "            self.counts = self.get_map(weights=weights)\n",
    "\n",
    "    def get_map(self,weights=None):\n",
    "        return np.histogram(self.pixs,bins=self.shape,weights=weights,range=[0,self.shape],density=False)[0].astype(np.float32)\n",
    "\n",
    "mean = catMapper(redmap.RA.value, redmap.DEC.value).get_map().mean()\n",
    "galaxyMap = (catMapper(redmap.RA.value, redmap.DEC.value).get_map()- mean)/mean\n",
    "\n",
    "hp.mollview(galaxyMap)\n",
    "hp.graticule()\n"
   ]
  },
  {
   "cell_type": "markdown",
   "metadata": {},
   "source": [
    "### Cross correlate\n",
    "\n",
    "Now that we are able to visualize the lensed map as well as the galaxy map we can cross correlate them.  The cross correlation process in Pixell is discussed in greater detail in Notebooks 7 and 8 so for a more indepth understanding of the process we encourage you to consult those notebooks.\n",
    "\n",
    "For now we note that this is done by apodizing the maps and then using a Fourier transform approach to calculate the cross spectrum between the two maps. \n",
    "\n",
    "We also need to take into account the mask that has been applied to the maps.  Ordinarily one can correct for the effects of masking using\n",
    "$$C_L -> \\frac{C_L}{\\langle W\\rangle} $$\n",
    "However the lensing maps already have a window applied to them before the reconstruction takes place and so to correctly account for the window we need to remove the CMB window correction ($W_c$) and then correct for both the CMB and Lensing windows.  If we are only applying a window to the galaxy map, as we'll do here, we can use:\n",
    "$$ C_L -> \\frac{\\langle W_c^2\\rangle}{\\langle W_c^2 W_L\\rangle} C_L$$\n",
    "If you would like to apply a mask to both maps you would instead use the relation:\n",
    "$$ C_L -> \\frac{\\langle W_c^2\\rangle}{\\langle W_c^2 W_L^2\\rangle} C_L$$\n",
    "\n",
    "This means we need to use the lensing map window which is provided as part of the release. In the following section we will load the lensing map window.  We will then find the $\\langle W_c^2\\rangle$. From there we apply a new window ($W_L$) to the maps and calculate $\\langle W_c^2 W_L\\rangle$."
   ]
  },
  {
   "cell_type": "code",
   "execution_count": null,
   "metadata": {},
   "outputs": [],
   "source": [
    "# Read in the lensing map window and convert it to HEALPix form\n",
    "mask = enmap.read_map(path + \"mask_s14&15_deep56.fits\")\n",
    "W_c = reproject.healpix_from_enmap(mask, lmax = 6000, nside = nside)\n",
    "\n",
    "# Calculate the mean of the window squared\n",
    "W_c_mean = np.mean(W_c**2)\n",
    "\n",
    "# Apply a new window to the maps by trimming the mask to a smaller size and then tapering it\n",
    "# We then convert it to HEALPix format.\n",
    "\n",
    "# Trim Mask\n",
    "box = np.array([[-5,35],[2,0]])*utils.degree\n",
    "mask_new = mask.submap(box)\n",
    "\n",
    "# Define taper using enmap.apod \n",
    "apod_pix = 100 \n",
    "taper    = enmap.apod(mask_new*0+1,apod_pix)\n",
    "W_L = reproject.healpix_from_enmap(taper, lmax = 6000, nside = nside)\n",
    "\n",
    "# Calculate the new window correction\n",
    "W_c_W_L_mean = np.mean(W_c**2*W_L)\n",
    "\n",
    "# Combine our two window corrections factors\n",
    "win = W_c_mean/W_c_W_L_mean"
   ]
  },
  {
   "cell_type": "markdown",
   "metadata": {},
   "source": [
    "### Cross Correlate the maps\n",
    "\n",
    "Now that we have the correct masks applied and the mask correction factor we can begin to cross correlate the two maps.  Since we have two HEALPix maps we can follow the usual cross correlation procedures and use anafast to get $C_\\ell$.  This is actually slightly different to the method using in [Darwish et al](https://arxiv.org/pdf/2004.01139.pdf).  Those results are based on Fourier transforms in Pixell, hwoever, we choose to present a Healpix based example so that users who are more familiar with Healpix can easily follow our approach."
   ]
  },
  {
   "cell_type": "code",
   "execution_count": null,
   "metadata": {},
   "outputs": [],
   "source": [
    "# Use anafast to generate cls\n",
    "# Note we multiply both maps by the window we established above and then multiply by the \"win\" factor\n",
    "# to correct for this new window.\n",
    "\n",
    "cl  = hp.anafast(galaxyMap*W_L, lensing_hp)*win\n",
    "ell = np.arange(len(cl))\n",
    "\n",
    "# Bin the resulting spectra as well as the ell values\n",
    "bins      = np.linspace(50, 1500, 15)\n",
    "digitized = np.digitize(ell, bins)\n",
    "cl_binned  = [cl[digitized == i].mean() for i in range(1, len(bins))]\n",
    "ell_binned = [ell[digitized == i].mean() for i in range(1, len(bins))]"
   ]
  },
  {
   "cell_type": "code",
   "execution_count": null,
   "metadata": {},
   "outputs": [],
   "source": [
    "# Now plot the quick powerspectrum we just made\n",
    "plt.figure(figsize = (8,6))\n",
    "plt.rc('font', family='serif')\n",
    "plt.plot(ell_binned,cl_binned,marker=\"o\",ls=\"none\")\n",
    "plt.xlabel('$\\\\ell$', fontsize = 18)\n",
    "plt.ylabel('$C_{\\\\ell}$', fontsize = 18)\n",
    "plt.grid(True)\n",
    "plt.show()"
   ]
  },
  {
   "cell_type": "markdown",
   "metadata": {},
   "source": [
    "We definitely see a signal here that tapers off and approaches zero for higher $\\ell$ values but is above zero for low $\\ell$, which is exactly what we expect to see.  We notice some fluctuations and of course we recognize that this quick cross correlation has only been done for D56 instead of for D56 and BN as is done in [Darwish et al](https://arxiv.org/pdf/2004.01139.pdf)."
   ]
  },
  {
   "cell_type": "markdown",
   "metadata": {},
   "source": [
    "# Continue to next Section\n",
    "\n",
    "[Section 6](Section_6_Component_separated_maps.ipynb):  Guide to the use of the Component Separated maps."
   ]
  },
  {
   "cell_type": "code",
   "execution_count": null,
   "metadata": {},
   "outputs": [],
   "source": []
  }
 ],
 "metadata": {
  "kernelspec": {
   "display_name": "Python 3",
   "language": "python",
   "name": "python3"
  },
  "language_info": {
   "codemirror_mode": {
    "name": "ipython",
    "version": 3
   },
   "file_extension": ".py",
   "mimetype": "text/x-python",
   "name": "python",
   "nbconvert_exporter": "python",
   "pygments_lexer": "ipython3",
   "version": "3.7.3"
  }
 },
 "nbformat": 4,
 "nbformat_minor": 4
}
