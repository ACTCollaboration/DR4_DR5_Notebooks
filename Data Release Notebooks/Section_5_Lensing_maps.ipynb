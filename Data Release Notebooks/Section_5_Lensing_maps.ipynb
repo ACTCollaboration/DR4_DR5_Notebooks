{
 "cells": [
  {
   "cell_type": "markdown",
   "metadata": {},
   "source": [
    "# Section 5: Lensing Maps\n",
    "\n",
    "As part of the ACT data release 4 (DR4) lensing maps constructed using data from Seasons 2014-2015 are publicly available.  These maps are discussed more in depth in [Darwish et al](https://arxiv.org/pdf/2004.01139.pdf). but this section will help users access and examine the maps. \n",
    "\n",
    "The two seasons of 98 GHz and 150 GHz maps are coadded to produce the input maps for the lensing estimator.  These input maps are discussed in more detail in the paper but are constructed such that point sources are masked and the beam is deconvolved.\n",
    "\n",
    "The lensing maps can be accessed and used with the same Pixell commands implemented in previous notebooks meaning users can trim them and study small patches as needed. The available files are documented in table 3.\n",
    "\n",
    "To return to the main notebook or to view a different section use the links in the table of contents.\n",
    "\n",
    "## Table of contents\n",
    "\n",
    " --- \n",
    "> [Section 1](Section_1_Advanced_ACT_DR4_Combined_data_products.ipynb): Introduction and Importing Pixell, Healpy and other key packages\n",
    "\n",
    "> [Section 2](Section_2_coadded_maps.ipynb): S08-18 Coadded maps and an Introduction to Pixell\n",
    "\n",
    "> [Section 3](Section_3_HEALPix_CAR_Conversions.ipynb):  Demonstration of methods to converted maps between HEALPix format and the CAR format.\n",
    "\n",
    "> [Section 4](Section_4_visualize_objects.ipynb):  Guide to using Pixell to look at objects in the maps and stacking our maps on catalogue positions.\n",
    "\n",
    "> [Section 5](Section_5_Lensing_maps.ipynb):  Introduction to the Lensing maps.\n",
    "\n",
    "> [Section 6](Section_6_Component_separated_maps.ipynb):  Guide to the use of the Component Separated maps.\n",
    "\n",
    "> [Section 7](Section_7_harmonic_analysis.ipynb):  Harmonic Analysis with CAR Maps\n",
    "\n",
    "> [Section 8](Section_8_power_spectrum.ipynb): Maps and Power Spectra of Individual Patches \n",
    "\n",
    "> [Section 9](Section_9_E_B_maps.ipynb):  Looks at how to generate E and B maps from I, Q, U maps.  \n",
    "---"
   ]
  },
  {
   "cell_type": "markdown",
   "metadata": {},
   "source": [
    "## Initialize notebook\n",
    "\n",
    "We begin by importing Pixell and other neccesary functions by running the introductory notebook.\n",
    "\n",
    "We will also define a function eshow that plots CAR maps for us.  This function is introduced in the section 2 Notebook originally."
   ]
  },
  {
   "cell_type": "code",
   "execution_count": null,
   "metadata": {},
   "outputs": [],
   "source": [
    "%run Section_1_Advanced_ACT_DR4_Combined_data_products.ipynb\n",
    "\n",
    "def eshow(x,**kwargs): \n",
    "    ''' Define a function to help us plot the maps neatly '''\n",
    "    plots = enplot.get_plots(x, **kwargs)\n",
    "    enplot.show(plots, method = \"ipython\")"
   ]
  },
  {
   "cell_type": "markdown",
   "metadata": {
    "colab_type": "text",
    "id": "smN7aD_qfS0X"
   },
   "source": [
    "---\n",
    "Table 3: Lensing Maps\n",
    "---\n",
    "\n",
    "Map File Name | Description\n",
    "---|---\n",
    "mc_corrected_realKappaCoadd_s14&15_deep56New.fits | Deep 56 lensing map\n",
    "mc_corrected_realKappaCoadd_s14&15_bossNew.fits | Boss North lensing map\n",
    "mc_corrected_realKappaCoadd_sim#_s14&15_deep56New.fits | Simulations where sim# = 001 -  511 for the deep 56 region\n",
    "mc_corrected_realKappaCoadd_sim#_s14&15_bossNew.fits | Simulations where sim# = 001 -  511 for the Boss North region\n",
    "\n",
    "---\n",
    "Masks:\n",
    "Masks for both regions are provided as fits files"
   ]
  },
  {
   "cell_type": "code",
   "execution_count": null,
   "metadata": {
    "colab": {
     "base_uri": "https://localhost:8080/",
     "height": 34
    },
    "colab_type": "code",
    "id": "L_NX6-Klj0JO",
    "outputId": "f112b840-3f6c-485b-bd57-21664287b5ad"
   },
   "outputs": [],
   "source": [
    "lensed = enmap.read_map(path + \"mc_corrected_realKappaCoadd_s14_15_deep56New.fits\")"
   ]
  },
  {
   "cell_type": "code",
   "execution_count": null,
   "metadata": {
    "colab": {
     "base_uri": "https://localhost:8080/",
     "height": 877
    },
    "colab_type": "code",
    "id": "yzixmTMmXkNU",
    "outputId": "21b6136e-637e-44fe-aacf-d31efcb0ce34"
   },
   "outputs": [],
   "source": [
    "# Plot the entire map and then a smaller slice of it using the \"sub\" key \n",
    "eshow(lensed, **{\"downgrade\": 5, \"ticks\": 5, \"color\": 'gray'})\n",
    "eshow(lensed,**{\"sub\": \"-2:2 ,35:31\", \"color\": 'gray'} )"
   ]
  },
  {
   "cell_type": "markdown",
   "metadata": {},
   "source": [
    "### Continue to next Section\n",
    "\n",
    "[Section 6](Section_6_Component_separated_maps.ipynb):  Guide to the use of the Component Separated maps."
   ]
  }
 ],
 "metadata": {
  "kernelspec": {
   "display_name": "Python 3",
   "language": "python",
   "name": "python3"
  },
  "language_info": {
   "codemirror_mode": {
    "name": "ipython",
    "version": 3
   },
   "file_extension": ".py",
   "mimetype": "text/x-python",
   "name": "python",
   "nbconvert_exporter": "python",
   "pygments_lexer": "ipython3",
   "version": "3.8.2"
  }
 },
 "nbformat": 4,
 "nbformat_minor": 4
}
