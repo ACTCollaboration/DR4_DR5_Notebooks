{
 "cells": [
  {
   "cell_type": "markdown",
   "metadata": {},
   "source": [
    "# Section 8: Generating E and B maps\n",
    "\n",
    "This notebook will demonstrate a simple method for converting from I,Q,U maps to E and B maps\n",
    "\n",
    "To return to the main notebook or to view a different section use the links in the table of contents.\n",
    "\n",
    "## Table of contents\n",
    "\n",
    " --- \n",
    "> [Section 1](Section_1_Advanced_ACT_DR4_Combined_data_products.ipynb): Introduction and Importing Pixell, Healpy and other key packages\n",
    "\n",
    "> [Section 2](Section_2_coadded_maps.ipynb): S08-18 Coadded maps and an Introduction to Pixell\n",
    "\n",
    "> [Section 3](Section_3_HEALPix_CAR_Conversions.ipynb):  Demonstration of methods to converted maps between HEALPix format and the CAR format.\n",
    "\n",
    "> [Section 4](Section_4_visualize_objects.ipynb):  Guide to using Pixell to look at objects in the maps and stacking our maps on catalogue positions.\n",
    "\n",
    "> [Section 5](Section_5_Lensing_maps.ipynb):  Introduction to the Lensing maps.\n",
    "\n",
    "> [Section 6](Section_6_Component_separated_maps.ipynb):  Guide to the use of the Component Separated maps.\n",
    "\n",
    "> [Section 7](Section_7_harmonic_analysis.ipynb):  Harmonic Analysis with CAR Maps\n",
    "\n",
    "> [Section 8](Section_8_E_B_maps.ipynb):  Looks at how to generate E and B maps from I, Q, U maps.  \n",
    "\n",
    "---"
   ]
  },
  {
   "cell_type": "markdown",
   "metadata": {},
   "source": [
    "## Initialize notebook\n",
    "\n",
    "We begin by importing Pixell and other neccesary functions by running the introductory notebook.\n",
    "\n",
    "We will also run the section 2 notebook which imports the ACT coadded maps.\n"
   ]
  },
  {
   "cell_type": "code",
   "execution_count": 1,
   "metadata": {},
   "outputs": [
    {
     "ename": "NameError",
     "evalue": "name 'eshow' is not defined",
     "output_type": "error",
     "traceback": [
      "\u001b[0;31m---------------------------------------------------------------------------\u001b[0m",
      "\u001b[0;31mNameError\u001b[0m                                 Traceback (most recent call last)",
      "\u001b[0;32m~/Documents/GitHub/docker_test/Test/Advanced_ACT_DR4_Combined_data_products.ipynb\u001b[0m in \u001b[0;36m<module>\u001b[0;34m\u001b[0m\n\u001b[1;32m      1\u001b[0m \u001b[0;31m# We can plot the whole region - again adjust the 'downgrade' option to get a larger\u001b[0m\u001b[0;34m\u001b[0m\u001b[0;34m\u001b[0m\u001b[0;34m\u001b[0m\u001b[0m\n\u001b[1;32m      2\u001b[0m \u001b[0;31m# or smaller map\u001b[0m\u001b[0;34m\u001b[0m\u001b[0;34m\u001b[0m\u001b[0;34m\u001b[0m\u001b[0m\n\u001b[0;32m----> 3\u001b[0;31m \u001b[0meshow\u001b[0m\u001b[0;34m(\u001b[0m\u001b[0mcomptony\u001b[0m\u001b[0;34m,\u001b[0m \u001b[0;34m**\u001b[0m\u001b[0;34m{\u001b[0m\u001b[0;34m'downgrade'\u001b[0m\u001b[0;34m:\u001b[0m \u001b[0;36m4\u001b[0m\u001b[0;34m,\u001b[0m \u001b[0;34m'ticks'\u001b[0m\u001b[0;34m:\u001b[0m \u001b[0;36m10\u001b[0m\u001b[0;34m}\u001b[0m\u001b[0;34m)\u001b[0m\u001b[0;34m\u001b[0m\u001b[0;34m\u001b[0m\u001b[0m\n\u001b[0m\u001b[1;32m      4\u001b[0m \u001b[0;34m\u001b[0m\u001b[0m\n\u001b[1;32m      5\u001b[0m \u001b[0;31m# We can also look at a 'submap' using the 'sub' option in order to see more detail\u001b[0m\u001b[0;34m\u001b[0m\u001b[0;34m\u001b[0m\u001b[0;34m\u001b[0m\u001b[0m\n",
      "\u001b[0;31mNameError\u001b[0m: name 'eshow' is not defined"
     ]
    }
   ],
   "source": [
    "%run Section_1_Advanced_ACT_DR4_Combined_data_products.ipynb\n",
    "\n",
    "%run Section_2_coadded_maps.ipynb"
   ]
  },
  {
   "cell_type": "markdown",
   "metadata": {
    "colab_type": "text",
    "id": "TaL9R4C4tBNj"
   },
   "source": [
    "While the data release includes I, Q and U maps we do not specifically release the E and B maps presented in DR4.  Here we will show how to recover them using the I, Q and U maps.\n",
    "\n",
    "We start by reading in the source and source free maps needed for this process and then trimming them down to a smaller size.  From there we will use enmap's functions to convert the maps to harmonics and then inverse Fourier transform the harmonic maps to get the E and B maps."
   ]
  },
  {
   "cell_type": "code",
   "execution_count": 33,
   "metadata": {
    "colab": {},
    "colab_type": "code",
    "id": "WMvj_xQpzEe8"
   },
   "outputs": [],
   "source": [
    "# To begin with we need to add in the Q and U maps for the same coadded patch\n",
    "# We then trim them, using submap, to the size of the small patch from earlier\n",
    "imap = enmap.read_map(path + \"act_planck_s08_s18_cmb_f150_night_map_Q.fits\")\n",
    "smap_Q = imap.submap(box)\n",
    "\n",
    "imap = enmap.read_map(path + \"act_planck_s08_s18_cmb_f150_night_map_U.fits\")\n",
    "smap_U = imap.submap(box)\n",
    "\n",
    "# Once we have them we will combine them into one object\n",
    "smap_TQU = enmap.zeros((3,)+smap_act.shape, smap_act.wcs)\n",
    "smap_TQU[0:3] = smap_act, smap_Q, smap_U"
   ]
  },
  {
   "cell_type": "markdown",
   "metadata": {
    "colab_type": "text",
    "id": "kvgRkAe56prU"
   },
   "source": [
    "Since this process involves taking Fourier transformations of the maps we want to apply a mask that tapers the edges of the maps.  We can do so using the enmap.apod function which will force the maps to taper off to zero at the edges."
   ]
  },
  {
   "cell_type": "code",
   "execution_count": null,
   "metadata": {
    "colab": {},
    "colab_type": "code",
    "id": "1upd9niW6BIR"
   },
   "outputs": [],
   "source": [
    "# Define taper using enmap.apod and then plot the taper\n",
    "apod_pix = 40 \n",
    "taper = enmap.apod(smap_TQU*0+1,apod_pix) \n",
    "eshow(taper[0],  **{\"downgrade\": 2, \"colorbar\":True, \"ticks\": 2})\n",
    "\n",
    "# Apply taper to the smap by multiplying the two maps together\n",
    "smap_TQU *= taper"
   ]
  },
  {
   "cell_type": "code",
   "execution_count": null,
   "metadata": {
    "colab": {},
    "colab_type": "code",
    "id": "WVediIn206sL"
   },
   "outputs": [],
   "source": [
    "# Here are the inital TQU maps with the tapers applied\n",
    "eshow(smap_TQU, **{\"downgrade\": 2, \"colorbar\":True, \"ticks\": 1})\n",
    "smap_TQU[1].wcs\n",
    "smap_TQU.shape"
   ]
  },
  {
   "cell_type": "markdown",
   "metadata": {
    "colab_type": "text",
    "id": "FJg49mSX3z6y"
   },
   "source": [
    "The next step is to convert these to E and B and maps.  Enmap allows us to do so using the map2harm function.  We set the normalization to 'phys' for physical which normalizes the maps such that the binned square of the Fourier transformation can be directly compared to theory (apart from mask corrections).  \n",
    "\n",
    "From there we combine all five maps (TQUEB) in a single map object them and plot them."
   ]
  },
  {
   "cell_type": "code",
   "execution_count": 36,
   "metadata": {
    "colab": {},
    "colab_type": "code",
    "id": "9Abc1DSvz5iI"
   },
   "outputs": [],
   "source": [
    "# Apply Transformation to get T,E,B harmonic maps from the T,Q,U real-space maps\n",
    "f_smap = enmap.map2harm(smap_TQU, normalize = \"phys\")\n",
    "\n",
    "# Create a map object to hold all five maps\n",
    "maps_TQUEB = enmap.zeros((5,)+smap_act.shape, smap_act.wcs)\n",
    "\n",
    "# We now fill in the object.  The first three remain the same as the originals\n",
    "# The second two are the EB maps which we get by inverse fourier transforming the \n",
    "# Harmonic maps in f_smap\n",
    "\n",
    "maps_TQUEB[0:3] = smap_TQU\n",
    "maps_TQUEB[3:]  = enmap.ifft(f_smap, normalize = \"phys\").real[1:]"
   ]
  },
  {
   "cell_type": "code",
   "execution_count": null,
   "metadata": {
    "colab": {},
    "colab_type": "code",
    "id": "VzMwGeDt2DW9"
   },
   "outputs": [],
   "source": [
    "# Now we plot all five maps in order T, Q, U, E and the B\n",
    "\n",
    "eshow(maps_TQUEB[0], **{\"downgrade\": 2, \"ticks\": 1, \"color\" : \"planck\", \"range\": 250})\n",
    "eshow(maps_TQUEB[1:], **{\"downgrade\": 2, \"ticks\": 1, \"color\" : \"gray\", \"range\": 25})"
   ]
  }
 ],
 "metadata": {
  "kernelspec": {
   "display_name": "Python 3",
   "language": "python",
   "name": "python3"
  },
  "language_info": {
   "codemirror_mode": {
    "name": "ipython",
    "version": 3
   },
   "file_extension": ".py",
   "mimetype": "text/x-python",
   "name": "python",
   "nbconvert_exporter": "python",
   "pygments_lexer": "ipython3",
   "version": "3.7.3"
  }
 },
 "nbformat": 4,
 "nbformat_minor": 4
}
