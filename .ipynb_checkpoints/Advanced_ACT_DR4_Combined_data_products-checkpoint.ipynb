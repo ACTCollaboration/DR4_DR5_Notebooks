{
 "cells": [
  {
   "cell_type": "markdown",
   "metadata": {
    "colab_type": "text",
    "id": "6DA_syE9TrBh"
   },
   "source": [
    "# Overview and Introduction"
   ]
  },
  {
   "cell_type": "markdown",
   "metadata": {
    "colab_type": "text",
    "id": "BiWWr-eSpHLu"
   },
   "source": [
    "This notebook provides an overview of the Advanced ACTPol (AdvACT) data release 4 (DR4) data products and an introduction to accessing and manipulating these products.  The data products (summarized in Table 1)  include temperature and polarization maps, a lensing map, and a component seperated map containing the tSZ signal. \n",
    "\n",
    "---\n",
    "                           Table 1\n",
    "\n",
    "\n",
    "\n",
    "Product type | Maps | Area Covered| Other products\n",
    "---|---|---|---\n",
    "Season 08 - 18 Coadded Maps| T, Q, U @ 90,150 and 220 GHz  | ~26,400 sq degrees | beams, inverse variance (hit count maps), ACT only as well as ACT+Planck maps\n",
    "Lensing Maps| | ~2100 sq degrees |  Masks, simulations\n",
    "Component Separated maps| Compton-y maps and CMB + kSZ | ~2100 sq degrees | Masks, Beams and Noise\n",
    "\n",
    "\n",
    "\n",
    "\n",
    "---\n",
    "\n",
    "These data are stored in the CAR (or Plate Carée) format as ndmap\n",
    " objects.  These are based off of numpy arrays and include a 2D array and a WCS object that includes infomation needed to relate the 2D array to the celestial sphere.  This is distinct from the HealPix format commonly used in cosmology.  Therfore we provide an introduction to the tools needed for manipulating these maps and for converting between HealPix and CAR format.   The library that accomplishes this is called [PIXELL](https://github.com/simonsobs/pixell).  \n",
    "\n",
    "The data products include raw maps at 90, 150, and 220 GHz covering nearly half the sky as well as co-adds of the 90 and 150 GHz channels.   We provide these maps both independently and combined with data from the Planck satellite.   The properties of these maps (resolution, effective white noise level, area etc) are provided in table XXX.  <font color=red>(make this table)</font>  For more details on the coadded data products and to understand the methods used to produce the maps please reference Naess et al. (2020).  For additional information on the individual map splits that go into the coadded maps or a more indepth overview of DR4 please consult Aiola et al. (2020).  \n",
    "\n",
    "DR4 also includes the lensing maps discussed in [Darwish et al. (2020)](https://arxiv.org/pdf/2004.01139.pdf/).  The maps are constructed using two frequency bands, 98 GHz and 150 GHz and data from seasons 2014 - 2015 in two regions of the sky, BOSS-North ( \\~1633 sq. degrees of sky) and D56 (\\~ 456 sq. degrees). \n",
    "\n",
    "We also include component separated maps in the D56 and BOSS-North regions.  These maps include CMB+kSZ maps and Compton-$y$ maps along with versions of these maps the specifically deproject indvidual components.  These maps can be used to study the pressure profiles of galxies, groupd and clusters as well as for lensing reconstruction and kinematic SZ cross-correlations Madhavacheril et al. (2020)."
   ]
  },
  {
   "cell_type": "markdown",
   "metadata": {
    "colab_type": "text",
    "id": "b09xD3x0d2Kl"
   },
   "source": [
    "## Data products discussed in this Notebook\n",
    "This notebook will introduce users to the Pixell framework and demonstrate how to read in CAR maps and look at objects in the maps.  The notebook can also be used to stack point sources given a catalog of objects and convert maps between the CAR and HealPIX framework.\n",
    "\n",
    "DR4 includes a multitude of data products as discussed above.  This notebook will focus on introducing the range of products and demonstrating how to access and examine the various maps.\n",
    "\n",
    "## Table of contents\n",
    "\n",
    " --- \n",
    "> Section 1: Installing and Importing Pixell and Healpy\n",
    "\n",
    "> Section 2:  Guide to reading in and manipualating the season 08 - 18 coadded maps.  The example is done for the the 90 and 150 GHz combined map but can be modifed to use other frequenxy bands.\n",
    "\n",
    "> Section 3:  Demonstration of methods to converted maps between HealPix format and the CAR format.\n",
    "\n",
    "> Section 4:  Guide to using Pixell to look at objects in the maps and stacking our maps on catalogoue positions.\n",
    "\n",
    "> Section 5:  Intdocution to the Lensing maps.\n",
    "\n",
    "> Section 6:  Guide to the use of the Component Separated maps.\n",
    "\n",
    "> Section 7:  Harmonic Analysis with CAR Maps\n",
    "\n",
    "> Section 8:  Looks at how to generate E and B maps from I, Q, U maps.  <font color=red>(perhaps skip this or move it later)</font>\n",
    "\n",
    "---\n"
   ]
  },
  {
   "cell_type": "markdown",
   "metadata": {
    "colab_type": "text",
    "id": "jvZURp-1z3LC"
   },
   "source": [
    "# Section 1: Install Healpy and Pixell for the Google Colab environment"
   ]
  },
  {
   "cell_type": "markdown",
   "metadata": {
    "colab_type": "text",
    "id": "kxJg1HAylo9j"
   },
   "source": [
    "This cell will pull the Pixell package from Github and install healpy so that users can run the notebook.  This will only work in Google Colab, if using this notebook elsewhere you will need to install [Pixell](https://github.com/simonsobs/pixell) and [Healpy](https://healpy.readthedocs.io/en/latest/) seperately."
   ]
  },
  {
   "cell_type": "code",
   "execution_count": 1,
   "metadata": {
    "colab": {},
    "colab_type": "code",
    "id": "JuW6ZY2_PYjA"
   },
   "outputs": [
    {
     "ename": "ImportError",
     "evalue": "cannot import name 'sharp' from 'pixell.pixell' (//anaconda3/lib/python3.7/site-packages/pixell/pixell/__init__.py)",
     "output_type": "error",
     "traceback": [
      "\u001b[0;31m---------------------------------------------------------------------------\u001b[0m",
      "\u001b[0;31mImportError\u001b[0m                               Traceback (most recent call last)",
      "\u001b[0;32m<ipython-input-1-a3e16f01222a>\u001b[0m in \u001b[0;36m<module>\u001b[0;34m\u001b[0m\n\u001b[1;32m      4\u001b[0m \u001b[0;32mimport\u001b[0m \u001b[0mtime\u001b[0m\u001b[0;34m\u001b[0m\u001b[0;34m\u001b[0m\u001b[0m\n\u001b[1;32m      5\u001b[0m \u001b[0;32mimport\u001b[0m \u001b[0msys\u001b[0m\u001b[0;34m\u001b[0m\u001b[0;34m\u001b[0m\u001b[0m\n\u001b[0;32m----> 6\u001b[0;31m \u001b[0;32mfrom\u001b[0m \u001b[0mpixell\u001b[0m\u001b[0;34m.\u001b[0m\u001b[0mpixell\u001b[0m \u001b[0;32mimport\u001b[0m \u001b[0menmap\u001b[0m\u001b[0;34m,\u001b[0m \u001b[0menplot\u001b[0m\u001b[0;34m,\u001b[0m \u001b[0mreproject\u001b[0m\u001b[0;34m,\u001b[0m\u001b[0mutils\u001b[0m\u001b[0;34m\u001b[0m\u001b[0;34m\u001b[0m\u001b[0m\n\u001b[0m\u001b[1;32m      7\u001b[0m \u001b[0;32mfrom\u001b[0m \u001b[0mmatplotlib\u001b[0m \u001b[0;32mimport\u001b[0m \u001b[0mcm\u001b[0m\u001b[0;34m\u001b[0m\u001b[0;34m\u001b[0m\u001b[0m\n\u001b[1;32m      8\u001b[0m \u001b[0;34m\u001b[0m\u001b[0m\n",
      "\u001b[0;32m//anaconda3/lib/python3.7/site-packages/pixell/pixell/reproject.py\u001b[0m in \u001b[0;36m<module>\u001b[0;34m\u001b[0m\n\u001b[1;32m      1\u001b[0m \u001b[0;32mfrom\u001b[0m \u001b[0m__future__\u001b[0m \u001b[0;32mimport\u001b[0m \u001b[0mprint_function\u001b[0m\u001b[0;34m\u001b[0m\u001b[0;34m\u001b[0m\u001b[0m\n\u001b[1;32m      2\u001b[0m \u001b[0;32mimport\u001b[0m \u001b[0mnumpy\u001b[0m \u001b[0;32mas\u001b[0m \u001b[0mnp\u001b[0m\u001b[0;34m\u001b[0m\u001b[0;34m\u001b[0m\u001b[0m\n\u001b[0;32m----> 3\u001b[0;31m \u001b[0;32mfrom\u001b[0m \u001b[0;34m.\u001b[0m \u001b[0;32mimport\u001b[0m \u001b[0mwcsutils\u001b[0m\u001b[0;34m,\u001b[0m \u001b[0menmap\u001b[0m\u001b[0;34m,\u001b[0m \u001b[0mcoordinates\u001b[0m\u001b[0;34m,\u001b[0m \u001b[0mcurvedsky\u001b[0m\u001b[0;34m\u001b[0m\u001b[0;34m\u001b[0m\u001b[0m\n\u001b[0m\u001b[1;32m      4\u001b[0m \u001b[0;32mtry\u001b[0m\u001b[0;34m:\u001b[0m \u001b[0;32mfrom\u001b[0m \u001b[0;34m.\u001b[0m \u001b[0;32mimport\u001b[0m \u001b[0msharp\u001b[0m\u001b[0;34m\u001b[0m\u001b[0;34m\u001b[0m\u001b[0m\n\u001b[1;32m      5\u001b[0m \u001b[0;32mexcept\u001b[0m \u001b[0mImportError\u001b[0m\u001b[0;34m:\u001b[0m \u001b[0;32mpass\u001b[0m\u001b[0;34m\u001b[0m\u001b[0;34m\u001b[0m\u001b[0m\n",
      "\u001b[0;32m//anaconda3/lib/python3.7/site-packages/pixell/pixell/curvedsky.py\u001b[0m in \u001b[0;36m<module>\u001b[0;34m\u001b[0m\n\u001b[1;32m      2\u001b[0m full sky.\"\"\"\n\u001b[1;32m      3\u001b[0m \u001b[0;32mfrom\u001b[0m \u001b[0m__future__\u001b[0m \u001b[0;32mimport\u001b[0m \u001b[0mprint_function\u001b[0m\u001b[0;34m\u001b[0m\u001b[0;34m\u001b[0m\u001b[0m\n\u001b[0;32m----> 4\u001b[0;31m \u001b[0;32mfrom\u001b[0m \u001b[0;34m.\u001b[0m \u001b[0;32mimport\u001b[0m \u001b[0msharp\u001b[0m\u001b[0;34m\u001b[0m\u001b[0;34m\u001b[0m\u001b[0m\n\u001b[0m\u001b[1;32m      5\u001b[0m \u001b[0;32mimport\u001b[0m \u001b[0mnumpy\u001b[0m \u001b[0;32mas\u001b[0m \u001b[0mnp\u001b[0m\u001b[0;34m\u001b[0m\u001b[0;34m\u001b[0m\u001b[0m\n\u001b[1;32m      6\u001b[0m \u001b[0;32mfrom\u001b[0m \u001b[0;34m.\u001b[0m \u001b[0;32mimport\u001b[0m \u001b[0menmap\u001b[0m\u001b[0;34m,\u001b[0m \u001b[0mpowspec\u001b[0m\u001b[0;34m,\u001b[0m \u001b[0mwcsutils\u001b[0m\u001b[0;34m,\u001b[0m \u001b[0mutils\u001b[0m\u001b[0;34m\u001b[0m\u001b[0;34m\u001b[0m\u001b[0m\n",
      "\u001b[0;31mImportError\u001b[0m: cannot import name 'sharp' from 'pixell.pixell' (//anaconda3/lib/python3.7/site-packages/pixell/pixell/__init__.py)"
     ]
    }
   ],
   "source": [
    "import numpy as np\n",
    "import matplotlib.pyplot as plt\n",
    "import healpy as hp\n",
    "import time\n",
    "import sys\n",
    "from pixell import enmap, enplot, reproject,utils\n",
    "from matplotlib import cm\n",
    "\n",
    "# Set Path for data\n",
    "path = \"data/\""
   ]
  },
  {
   "cell_type": "markdown",
   "metadata": {
    "colab_type": "text",
    "id": "924BYFDOs6cv"
   },
   "source": [
    "# Section 2: S08-18 Coadded maps and an Introduction to Pixell"
   ]
  },
  {
   "cell_type": "markdown",
   "metadata": {
    "colab_type": "text",
    "id": "gTTfoME-liQV"
   },
   "source": [
    "This section will walk users through how to use Pixell and access maps.  The demonstration is done using the 150 GHz ACT + Planck S08-18 coadded maps discussed in [Naess et al. (2020) ](http://folk.uio.no/sigurdkn/actpol/articles/coadd/coadd_paper_v0.4.pdf).  The other coadded maps provided are listed in Table 2.  Substituting these file names allows you to switch betwen freuqnecies, maps built with and wihtout planck, and the coadded map used in this example. </font>\n",
    "\n",
    "For each frequency, we provide both temperature and polarization data.  The polarization angle has been calibrated, but the polarization leakage of the beam has not been corrected and we do not provide a complete noise model.  We will release fully vetted polarization maps including splits with which the noise can be evaluated in a future release.  In the present form cosmological analysis of these spectra is not possible though one can use these coadded maps for studies of foregrounds, the galaxy, and (with proper care) point source properties.\n",
    "\n",
    "These maps are produced by combining observations from multiple seasons and arrays as well as from both ACT and Planck. The result are combined multi season maps that are easier to use and understand than the individual season or array maps used to create them.   This method is explained in much greater detail in [Naess et al. (2020) ](http://folk.uio.no/sigurdkn/actpol/articles/coadd/coadd_paper_v0.4.pdf)\n",
    "\n",
    "Here we present the coadded maps which cover an area of $0^o < RA < 360^o$, $-62^o < dec < 22^o$ and include variations with and without Planck data.  The maps correspond to an area of 26.4 thousand square degrees, of which about 70% is exposed.\n",
    "\n",
    " ---\n",
    "Table 2: Coadded S08-s18 Maps\n",
    "---\n",
    "\n",
    "\n",
    " Map File Name | Key Details\n",
    " ---|---\n",
    " act_s08_s18_cmb_f090_night_map_srcfree_I.fits | 90 GHz ACT only, source free maps,  units of $\\mu$K  (Replace I with Q or U to get other components)\n",
    "  act_s08_s18_cmb_f090_night_map_I.fits | 90 GHz ACT only, point sources included, units of $\\mu$K (Replace I with Q or U to get other components)\n",
    "  act_s08_s18_cmb_f090_night_ivar.fits | 90 GHz ACT only, inverse variance (similar to hit count maps) units of $1/ \\mu K^2$\n",
    "  |\n",
    "   act_s08_s18_cmb_f150_night_map_srcfree_I.fits | 150 GHz ACT only, source free maps,  units of $\\mu$K  ((Replace I with Q or U to get other components)\n",
    "  act_s08_s18_cmb_f150_night_map_Q.fits | 150 GHz ACT only, point sources included, units of $\\mu$K (Replace I with Q or U to get other components)\n",
    "  act_s08_s18_cmb_f150_night_ivar.fits | 150 GHz ACT only, inverse variance (similar to hit count maps) units of $1/ \\mu K^2$ \n",
    "   |\n",
    "   act_s08_s18_cmb_f220_night_map_srcfree_I.fits | 220 GHz ACT only, source free maps,  units of $\\mu$K  (Replace I with Q or U to get other components)\n",
    "  act_s08_s18_cmb_f220_night_map_I.fits | 220 GHz ACT only, point sources included, units of $\\mu$K (Replace I with Q or U to get other components)\n",
    "  act_s08_s18_cmb_f220_night_ivar.fits | 220 GHz ACT only, inverse variance (similar to hit count maps) units of $1/ \\mu K^2$ \n",
    "  | \n",
    "  **ACT + Planck Maps**|\n",
    "   act_planck_s08_s18_cmb_f090_night_map_srcfree_I.fits | 90 GHz  ACT + Planck combined, source free maps,  units of $\\mu$K  (Replace I with Q or U to get other components)\n",
    "  act_planck_s08_s18_cmb_f090_night_map_I.fits | 90 GHz ACT + Planck combined, point sources included, units of $\\mu$K (Replace I with Q or U to get other components)\n",
    "  act_planck_s08_s18_cmb_f090_night_ivar.fits | 90 GHz  ACT + Planck combined, inverse variance (similar to hit count maps) units of $1/ \\mu K^2$ \n",
    "  |\n",
    "   act_planck_s08_s18_cmb_f150_night_map_srcfree_I.fits | 150 GHz  ACT + Planck combined, source free maps,  units of $\\mu$K  (Replace I with Q or U to get other components)\n",
    "  act_planck_s08_s18_cmb_f150_night_map_I.fits | 150 GHz  ACT + Planck combined, point sources included, units of $\\mu$K (Replace I with Q or U to get other components)\n",
    "  act_planck_s08_s18_cmb_f150_night_ivar.fits | 150 GHz  ACT + Planck combined, inverse variance (similar to hit count maps) units of $1/ \\mu K^2$ \n",
    "  |\n",
    "   act_planck_s08_s18_cmb_f220_night_map_srcfree_I.fits | 220 GHz  ACT + Planck combined, source free maps,  units of $\\mu$K  (Replace I with Q or U to get other components)\n",
    "  act_planck_s08_s18_cmb_f220_night_map_I.fits | 220 GHz  ACT + Planck combined, point sources included, units of $\\mu$K (Replace I with Q or U to get other components)\n",
    "  act_planck_s08_s18_cmb_f220_night_ivar.fits | 220 GHz  ACT + Planck combined, inverse variance (similar to hit count maps) units of $1/ \\mu K^2$ \n",
    "\n",
    "---\n"
   ]
  },
  {
   "cell_type": "markdown",
   "metadata": {
    "colab_type": "text",
    "id": "aN-jFpNbPsJ5"
   },
   "source": [
    "## Reading in the maps\n",
    "\n",
    "As a prerequisit for running this code we assume you have downloaded the relevent map files from <font color = blue> We need to decide where the maps are stored </font>\n",
    "\n",
    "In this example we will read in the 150 GHz intensity map, denoted by the final I in the name.   You can read the various maps described in Table 2 using the same command.\n"
   ]
  },
  {
   "cell_type": "code",
   "execution_count": null,
   "metadata": {
    "colab": {},
    "colab_type": "code",
    "id": "yny-Cqs8wGwO"
   },
   "outputs": [],
   "source": [
    "imap = enmap.read_map(path + \"act_s08_s18_cmb_f150_night_map_I.fits\")"
   ]
  },
  {
   "cell_type": "markdown",
   "metadata": {
    "colab_type": "text",
    "id": "A0hHmP4KX3Aj"
   },
   "source": [
    "These CAR maps are stored as ndmap objects which are based off of the numpy array framework.  The maps are stored as arrays with a WCS object that describes the relation between pixel space and the celestial sphere. In order to examine the WCS and shape of the maps simply call the objects as shown here.\n",
    "\n"
   ]
  },
  {
   "cell_type": "code",
   "execution_count": null,
   "metadata": {
    "colab": {
     "base_uri": "https://localhost:8080/",
     "height": 51
    },
    "colab_type": "code",
    "id": "JCNhKG8KX2S4",
    "outputId": "bbca1c76-ab97-41f5-a9f9-c0508e50d0d6"
   },
   "outputs": [],
   "source": [
    "print(imap.shape)\n",
    "print(imap.wcs)"
   ]
  },
  {
   "cell_type": "markdown",
   "metadata": {
    "colab_type": "text",
    "id": "5ku-Eg4vbIvk"
   },
   "source": [
    "The WCS object includes important information that Pixell uses to handle the maps.  The first item is the projection which for this map is 'car'.  While Pixell can handle other projections, the most recent ACT maps are all in CAR, or Plate Carée, format.  This means that the sky can be directly mapped on to the pixels using the simple relations:\n",
    "$$\\phi  = x, \\quad \\theta = y$$ \n",
    "\n",
    "Where $\\phi$ is the Right Ascension and $\\theta$ is declination.\n",
    "\n",
    "The WCS object also gives information about the center pixel and location of the map as well as the maps resolution.  For more information on WCS objects consider referencing the [astropy wcs documentation](http://docs.astropy.org/en/stable/wcs/index.html) . \n"
   ]
  },
  {
   "cell_type": "markdown",
   "metadata": {
    "colab_type": "text",
    "id": "8OT5puWuPxIY"
   },
   "source": [
    "## Visualizing the maps\n",
    "\n",
    "In order to visualize the maps enplot has built in tools that allow you to easily plot them, the full list of these can be found in the code available on github.\n",
    "\n",
    "Here we provide several examples of these features including downgrading, which is done internally through pixel averaging , adjusting the frequency of the ticks on the axes and displaying a color bar. \n",
    "\n",
    "Some other useful ones that are used later in this notebook are:\n",
    "\n",
    "*   \"upgrade\" - useful for plotting small stamps around point sources\n",
    "*   \"min\" and \"max\" - set the color range for the colorbar\n",
    "*   \"color\" - set the color map for the maps (e.g. planck, wmap, hotcold, etc.)\n",
    "\n",
    "\n",
    "\n"
   ]
  },
  {
   "cell_type": "code",
   "execution_count": null,
   "metadata": {
    "colab": {},
    "colab_type": "code",
    "id": "oV3r0PkSRwDc"
   },
   "outputs": [],
   "source": [
    "def eshow(x,**kwargs): \n",
    "    ''' Define a function to help us plot the maps neatly '''\n",
    "    plots = enplot.get_plots(x, **kwargs)\n",
    "    enplot.show(plots, method = \"ipython\")"
   ]
  },
  {
   "cell_type": "code",
   "execution_count": null,
   "metadata": {
    "colab": {
     "base_uri": "https://localhost:8080/",
     "height": 311
    },
    "colab_type": "code",
    "id": "Peu9gDkpZEP7",
    "outputId": "8d7245c6-8e01-4e2c-f7f8-0622ec9f0cc3"
   },
   "outputs": [],
   "source": [
    "keys = {\"downgrade\": 8, \"ticks\": 25, \"colorbar\": True} # add \"color\", \"min\", \"max\", etc keys here to adjust your plot \n",
    "eshow(imap, **keys)"
   ]
  },
  {
   "cell_type": "markdown",
   "metadata": {
    "colab_type": "text",
    "id": "TiIC9zrLPzi0"
   },
   "source": [
    "### Selecting a smaller patch of the sky\n",
    "\n",
    "One of the advantages of using the CAR and Pixell framework is that you can easily select a small region of the map to examine in more detail.  Users can select a submap at a specific location by creating a bounding box around a central location in RA and DEC.  For example if we wanted to visualize an object at RA = 0 and dec = 0  we can create a box, with a width of 5 degrees, around this location.  Note that Pixell takes in bounding boxes in radians so here we convert the dec, ra and width to radians using numpy before forming the box.\n",
    "\n",
    "You can also create a box using the framework:\n",
    "\n",
    "> box = [[dec_from, ra_from],[dec_to, ra_to]] $\\quad$ (in radians)\n",
    "\n",
    " "
   ]
  },
  {
   "cell_type": "code",
   "execution_count": null,
   "metadata": {
    "colab": {
     "base_uri": "https://localhost:8080/",
     "height": 691
    },
    "colab_type": "code",
    "id": "GgbaNOYlPreM",
    "outputId": "113d0019-0e70-410b-dba2-743a60a77d95"
   },
   "outputs": [],
   "source": [
    "# Set up a box around dec = 0 and ra = 0\n",
    "dec,ra = np.deg2rad([0,-0])\n",
    "\n",
    "# Give the box a width of 5 degrees\n",
    "width = np.deg2rad(5)\n",
    "\n",
    "# Create the box and use it to select a submap\n",
    "box = [[dec-width/2.,ra-width/2.],[dec+width/2.,ra+width/2.]]\n",
    "smap = imap.submap(box)\n",
    "\n",
    "# Plot the map using the eshow function we defined earlier\n",
    "eshow(smap, **{\"colorbar\":True})\n",
    "imap.wcs"
   ]
  },
  {
   "cell_type": "markdown",
   "metadata": {
    "colab_type": "text",
    "id": "nCg2idc9P2L_"
   },
   "source": [
    "### Selecting a patch using pixel indexing\n",
    "Alternatively we can slice the map using numpy array indexing to get a submap.  This will select a submap using the indexes of the pixels themselves instead of sky coordinates.  We will do that now for a larger area.  \n",
    "\n",
    "What's useful about this is that you can treat the maps like a numpy array and pixell will automatically handle fixing the map projections as needed by adjusting the wcs information stored with the map.  If you look at the two wcs's printed after the map you can see the resolution stayed fixed but the center pixel adjusted when we cut the map.\n",
    "\n",
    "Later on in this notebook we will use this method to look at galaxy clusters and Messier objects."
   ]
  },
  {
   "cell_type": "code",
   "execution_count": null,
   "metadata": {
    "colab": {
     "base_uri": "https://localhost:8080/",
     "height": 293
    },
    "colab_type": "code",
    "id": "Y4PF0y89P2fV",
    "outputId": "e3090a7d-33a7-403c-ec36-b943fdce137f"
   },
   "outputs": [],
   "source": [
    "smap_2 = imap[4000:-4000,15000:-15000]\n",
    "\n",
    "eshow(smap_2, **{\"downgrade\": 8, \"colorbar\":True, \"ticks\": 10})\n",
    "\n",
    "print(imap.wcs)\n",
    "print(smap_2.wcs)"
   ]
  },
  {
   "cell_type": "markdown",
   "metadata": {
    "colab_type": "text",
    "id": "8oKRNqSLnMVd"
   },
   "source": [
    "# Section 3: Converting Between CAR and Healpix Maps\n"
   ]
  },
  {
   "cell_type": "markdown",
   "metadata": {
    "colab_type": "text",
    "id": "WdUocY4ctKsA"
   },
   "source": [
    "Pixell is designed to allow users to convert maps between HealPix format and ndmap format.  This is particularly useful for users interested in comparing maps readily available as HealPix maps to ACT maps.  The following code demonstrates a simple reprojection from one format to another.\n",
    "\n",
    "When reprojecting it's helpful to keep in mind that Pixell automatically rotates maps from Planck's Galactic projection to Equatorial, if you are projecting a different map other rotations may be needed. \n",
    "\n",
    "Note that projections work by finding the spherical harmonic transformation of the healpix map to alm's and then inversely transforms the alm's to the rectangular pixel map geometry.  \n",
    "\n",
    "Finally for anyone in looking at small patches of the sky we encourage you to use the maps in CAR format with Pixell as it enables users to reference patches in a way that Healpix can't do."
   ]
  },
  {
   "cell_type": "code",
   "execution_count": null,
   "metadata": {
    "colab": {
     "base_uri": "https://localhost:8080/",
     "height": 517
    },
    "colab_type": "code",
    "id": "EzoGdFGGnLaf",
    "outputId": "1c346922-c9a4-4ac8-c7bb-1256a3ed7d48"
   },
   "outputs": [],
   "source": [
    "# Convert a planck HealPix map to ndmap\n",
    "pmap_fname = path + \"HFI_SkyMap_143_2048_R2.02_halfmission-1.fits\"\n",
    "planck_map = reproject.enmap_from_healpix(pmap_fname, smap_2.shape, smap_2.wcs, \\\n",
    "                                  ncomp=1, unit=1, lmax=6000,rot='gal,equ')\n",
    "eshow(planck_map, **{\"downgrade\": 8, \"colorbar\":True, \"ticks\": 10, })"
   ]
  },
  {
   "cell_type": "markdown",
   "metadata": {
    "colab_type": "text",
    "id": "ez7Hxepwq7Vl"
   },
   "source": [
    "We can also take our trimmed ACT map and project it to the HealPix format using reproject as shown here."
   ]
  },
  {
   "cell_type": "code",
   "execution_count": null,
   "metadata": {
    "colab": {
     "base_uri": "https://localhost:8080/",
     "height": 421
    },
    "colab_type": "code",
    "id": "lynqOoHsvp_z",
    "outputId": "da8f5006-2de1-4a89-be83-ddebc0562dd6"
   },
   "outputs": [],
   "source": [
    "# Convert an ndmap map to HealPix\n",
    "smap_healpix = reproject.healpix_from_enmap(smap_2, lmax = 6000, nside = 512)\n",
    "hp.mollview(smap_healpix)"
   ]
  },
  {
   "cell_type": "markdown",
   "metadata": {
    "colab_type": "text",
    "id": "MzrO1hi_P6nO"
   },
   "source": [
    "# Section 4: Use a catalog to visualize objects in the map"
   ]
  },
  {
   "cell_type": "markdown",
   "metadata": {
    "colab_type": "text",
    "id": "PF92UVTxtOh6"
   },
   "source": [
    "In the above map it's already possible to see a few galaxy clusters just by visually examening the map.  However it would be great to be able to look at these more closely.  One option is to use a catalog of clusters and compare the catalog to the map.  In order to do so we need to get the RA and DEC of the relevant sources and then cut a box surrounding that location."
   ]
  },
  {
   "cell_type": "code",
   "execution_count": null,
   "metadata": {
    "colab": {},
    "colab_type": "code",
    "id": "kCj6mwWQP3px"
   },
   "outputs": [],
   "source": [
    "from astropy.io import fits\n",
    "\n",
    "hdu = fits.open(path + 'E-D56Clusters.fits')\n",
    "ras = hdu[1].data['RADeg']\n",
    "decs = hdu[1].data['DECDeg']"
   ]
  },
  {
   "cell_type": "markdown",
   "metadata": {
    "colab_type": "text",
    "id": "mG5bAZF4P-H1"
   },
   "source": [
    "One way to look at a source is to build another box and take a stamp.  Let's make the box slightly smaller this time in order to hone in on the objects we are interested in.  \n",
    "\n",
    "This time we will use enplot's upgrade feature in order to plot a larger image of the object."
   ]
  },
  {
   "cell_type": "code",
   "execution_count": null,
   "metadata": {
    "colab": {
     "base_uri": "https://localhost:8080/",
     "height": 336
    },
    "colab_type": "code",
    "id": "amE6DZdmP-aZ",
    "outputId": "47e9e7c6-8ba3-4347-a596-8bdfbcc75868"
   },
   "outputs": [],
   "source": [
    "# Choose an object from the catalog \n",
    "dec,ra = np.deg2rad([ras[12],decs[12]])\n",
    "width = np.deg2rad(30./60.)\n",
    "\n",
    "# Build the box around the object and cut out a submap from the larger map\n",
    "box = [[dec-width/2.,ra-width/2.],[dec+width/2.,ra+width/2.]]\n",
    "stamp = imap.submap(box)\n",
    "\n",
    "# Visualize the submap\n",
    "eshow(stamp, **{\"upgrade\": 5, \"ticks\": 0.1})"
   ]
  },
  {
   "cell_type": "markdown",
   "metadata": {
    "colab_type": "text",
    "id": "7wuon2PcQDH3"
   },
   "source": [
    "## Stacking point sources and using reproject\n",
    "\n",
    "If we want to stack objects in the map it's relatively easy to do so but we need to use a slightly different approach.  Instead of using a bounding box and cutting a submap from the map we can use pixell's reproject.postage_stamp function to cut out postage stamps that are reprojected at the center of each object. \n",
    "\n",
    "Reprojecting means that we avoid stacking pointsources that are distorted due to the rectangular projection as it will automatically center the projection on each individual point source."
   ]
  },
  {
   "cell_type": "code",
   "execution_count": null,
   "metadata": {
    "colab": {
     "base_uri": "https://localhost:8080/",
     "height": 265
    },
    "colab_type": "code",
    "id": "zNeonpiJQBQf",
    "outputId": "70a22aa4-240d-4aca-d9dd-5e7fa3349c6b"
   },
   "outputs": [],
   "source": [
    "N = len(ras)\n",
    "stack = 0\n",
    "\n",
    "for i in range(N):\n",
    "    # Extract stamps by reprojecting the map at the center of each source.\n",
    "    # the 'postage_stamp' option here is designed to trim each reprojection so we\n",
    "    # are left with a stack of point sources in a map of width 20 arc minutes\n",
    "    stamp = reproject.postage_stamp(inmap = imap , ra_deg = ras[i], dec_deg = decs[i], width_arcmin = 20.,\n",
    "                  res_arcmin = .5)\n",
    "    if stamp is None: continue \n",
    "    stack += stamp[0]\n",
    "    \n",
    "stack /= N\n",
    "plt.imshow(stack)\n",
    "plt.show()"
   ]
  },
  {
   "cell_type": "markdown",
   "metadata": {
    "colab_type": "text",
    "id": "UqVls-28Fe6d"
   },
   "source": [
    "## Plot Messier objects\n",
    "\n",
    "While users are free to search for objects in the maps using catalogs we've also provided a tool to plot random Messier objects from our maps below.  You can enter the Messier number of an object you'd like to look at or feel free to let the function generate a random object for you to look at."
   ]
  },
  {
   "cell_type": "code",
   "execution_count": null,
   "metadata": {
    "colab": {},
    "colab_type": "code",
    "id": "oo7ibM5he28W"
   },
   "outputs": [],
   "source": [
    "from astropy.io import ascii\n",
    "import astropy.coordinates as coord\n",
    "import astropy.units as u\n",
    "import random "
   ]
  },
  {
   "cell_type": "code",
   "execution_count": null,
   "metadata": {
    "colab": {},
    "colab_type": "code",
    "id": "DtqkPlJxGT2E"
   },
   "outputs": [],
   "source": [
    "def plot_messier(M = None):\n",
    "  # M should be an integer \n",
    "\n",
    "  # read in a table of messier objects that overlap with our feild of view\n",
    "  tbl = ascii.read(path +\"messier_objs.csv\")\n",
    "  tbl.rename_column(\"\\ufeffM\", \"M\")\n",
    "\n",
    "  # Check if user has given an object to look for\n",
    "  if M != None:\n",
    "    M = str('M') + str(M)\n",
    "    A = list(tbl['M'])\n",
    "    if M in A:\n",
    "      obj = tbl[A.index(M)]\n",
    "    else:\n",
    "      print(\"Sorry that object isn't visible in this map\")\n",
    "\n",
    "  # If no object is given select a random one\n",
    "  if M == None:\n",
    "    obj = tbl[random.randint(0, len(tbl))] \n",
    "\n",
    "  # Get the RA and DEC of the object\n",
    "  ra = coord.Angle(obj[\"RA\"], unit=u.hour) \n",
    "  dec = coord.Angle(obj[\"Declination\"], unit = u.degree) \n",
    "\n",
    "  # Get a plot of the object\n",
    "  stamp = reproject.postage_stamp(inmap = imap , ra_deg = ra.degree, \\\n",
    "              dec_deg = dec.degree, width_arcmin = 20., res_arcmin = .5)\n",
    "  \n",
    "\n",
    "  # Establish name for the object, if the common name is given use that, if not \n",
    "  # we just use the NGC and M indentifiers\n",
    "  if type(obj[\"Common Name\"] ) == np.str_:\n",
    "      name = str(obj[\"Common Name\"])  + str(' NGC: ') + str(obj[\"NGC\"]) + \\\n",
    "      str(' ') + str(obj[\"M\"])\n",
    "  else:\n",
    "      name = str('NGC: ') + str(obj[\"NGC\"])+ str(' ') + str(obj[\"M\"])\n",
    "  \n",
    "  # Plot the object \n",
    "  plt.imshow((stamp[0]))\n",
    "  plt.title(name)\n",
    "  plt.show()\n",
    "  \n",
    "  return \n"
   ]
  },
  {
   "cell_type": "code",
   "execution_count": null,
   "metadata": {
    "colab": {
     "base_uri": "https://localhost:8080/",
     "height": 280
    },
    "colab_type": "code",
    "id": "fi4KFCUqGVDy",
    "outputId": "f620fbe8-3a2e-4468-9b3a-344177c28475"
   },
   "outputs": [],
   "source": [
    "# Try this a few times - some of the objects may be clearer than others\n",
    "plot_messier()"
   ]
  },
  {
   "cell_type": "markdown",
   "metadata": {
    "colab_type": "text",
    "id": "hRBTzr5ghknb"
   },
   "source": [
    "# Section 5: Lensing Maps"
   ]
  },
  {
   "cell_type": "markdown",
   "metadata": {
    "colab_type": "text",
    "id": "K8tZzx5qtFAd"
   },
   "source": [
    "As part of the ACT data release 4 (DR4) lensing maps constructed using data from Seasons 2014-2015 are publically available.  These maps are discussed more in depth in [Darwish et al](https://arxiv.org/pdf/2004.01139.pdf). but this section will help users access and examine the maps. \n",
    "\n",
    "\n",
    "The two seasons of 98 GHz and 150 GHz maps are coadded to produce the input maps for the lensing estimator.  These input maps are discusses in more detail in the paper but are constructed such that point sources are masked, the beam is deconvolved and then the Q and U polarization maps are transformed into E - B polarization maps.  The T, E and B maps are then all filtered at low $\\ell$ to remove ground contamination.\n",
    "\n",
    "The lensing maps can be accessed and used with the same Pixell comands implemented for previous maps meaning users can trim them and study small patches as needed.\n",
    "\n",
    "For a tutorial demonstrating how the lensing maps are reconstructed consult this [notebook](https://github.com/simonsobs/pixell_tutorials/blob/master/PixellSoapackSymlens.ipynb).\n"
   ]
  },
  {
   "cell_type": "markdown",
   "metadata": {
    "colab_type": "text",
    "id": "smN7aD_qfS0X"
   },
   "source": [
    "### Lensing map naming conventions\n",
    "\n",
    "Lensing maps are provided for two areas, Deep 56 and Boss North.  To access the Boss North map, instead of the deep56 one we will look at here, simply substitute 'boss' for 'deep56'.\n",
    "\n",
    "Simulations:\n",
    "Sims are abailable for both areas and are stored with similar naming conventions:\n",
    "\n",
    "> mc_corrected_realKappaCoadd_sim#_s14&15_deep56New.fits \n",
    "\n",
    "Where sim# is the simulation number ranging from '001' to '511'\n",
    "\n",
    "Masks:\n",
    "Masks for both regions are provided as fits files"
   ]
  },
  {
   "cell_type": "code",
   "execution_count": null,
   "metadata": {
    "colab": {},
    "colab_type": "code",
    "id": "L_NX6-Klj0JO"
   },
   "outputs": [],
   "source": [
    "lensed = enmap.read_map(path + \"mc_corrected_realKappaCoadd_s14&15_deep56New.fits\")"
   ]
  },
  {
   "cell_type": "code",
   "execution_count": null,
   "metadata": {
    "colab": {
     "base_uri": "https://localhost:8080/",
     "height": 877
    },
    "colab_type": "code",
    "id": "yzixmTMmXkNU",
    "outputId": "21b6136e-637e-44fe-aacf-d31efcb0ce34"
   },
   "outputs": [],
   "source": [
    "# Plot the entire map and thenn a smaller slice of it using the \"sub\" key \n",
    "eshow(lensed, **{\"downgrade\": 5, \"ticks\": 5, \"color\": 'gray'})\n",
    "eshow(lensed,**{\"sub\":\"-2 :2 ,35:31\", \"color\": 'gray'} )"
   ]
  },
  {
   "cell_type": "markdown",
   "metadata": {
    "colab_type": "text",
    "id": "Hdr6rmILNbUE"
   },
   "source": [
    "# Section 6: Component Separated Maps "
   ]
  },
  {
   "cell_type": "markdown",
   "metadata": {
    "colab_type": "text",
    "id": "Qcz2q2pltUm4"
   },
   "source": [
    "As part of DR4 we present component separated maps.  These maps cover about 2100 square degrees and have arcminute-resolution.  To produce these component separated maps we implemented an internal linear combination (ILC) algorithm.  \n",
    "\n",
    "The ILC approach uses a linear co-addition of input maps in multiple frequences to minimize variance of the final map while preserving the signal of interest.  It does so solely by relying on information about the frequency dependence of the various components.  Traditionally the ILC method doesn't explicitly remove any foregrounds, however, our approach works to explicitly null some of the foreground contamination.  However, it is important to note that since it is not possible to fully remove foreground contamination the auto-power spectrums of the resulting maps should be interpreted with significant caution.\n",
    "\n",
    "Here we demonstrate how to read in and examine the Compton-$y$ and CMB+kSZ maps produced by this process.  In particular we note that it's possible to see galaxy clusters in the Compton-$y$ map by eye.  \n",
    "\n",
    "Reference: Madhavacheril et al. (2020)"
   ]
  },
  {
   "cell_type": "markdown",
   "metadata": {
    "colab_type": "text",
    "id": "kLGns3L5fLSW"
   },
   "source": [
    "### Component separated maps naming conventions:\n",
    "\n",
    "-----------------------------\n",
    "\n",
    "CMB+kSZ maps:\n",
    "\n",
    "\t> Map:  \t\ttilec_single_tile_deep56_cmb{,_deprojects_comptony,_deprojects_cib}_map_v1.2.0_joint.fits\n",
    "\t> Beam: \t\ttilec_single_tile_deep56_cmb{,_deprojects_comptony,_deprojects_cib}_map_v1.2.0_joint_beam.txt\n",
    "\t> Noise: \t\ttilec_single_tile_deep56_cmb{,_deprojects_comptony,_deprojects_cib}_map_v1.2.0_joint_noise.fits\n",
    "\t> Cross-Noise: \ttilec_single_tile_deep56_cmb{_deprojects_comptony,_deprojects_cib}_comptony_map_v1.2.0_joint_cross_noise.fits \n",
    "\t> Weights:   \ttilec_single_tile_deep56_cmb{,_deprojects_comptony,_deprojects_cib}_map_v1.2.0_joint_$ARRAY_weight.fits\n",
    "\n",
    "\n",
    "-----------------------------\n",
    "\n",
    "tSZ/Compton-Y maps:\n",
    "\n",
    "\t> Map:     tilec_single_tile_deep56_comptony{,_deprojects_cmb,_deprojects_cib}_map_v1.2.0_joint.fits\n",
    "\t> Beam:    tilec_single_tile_deep56_comptony{,_deprojects_cmb,_deprojects_cib}_map_v1.2.0_joint_beam.txt\n",
    "\t> Noise:      tilec_single_tile_deep56_comptony{,_deprojects_cmb,_deprojects_cib}_map_v1.2.0_joint_noise.fits\n",
    "\t> Cross-Noise:  tilec_single_tile_deep56_comptony{_deprojects_comptony,_deprojects_cib}_comptony_map_v1.2.0_joint_cross_noise.fits \n",
    "\t> Weights:     tilec_single_tile_deep56_comptony{,_deprojects_cmb,_deprojects_cib}_map_v1.2.0_joint_$ARRAY_weight.fits\n",
    "\n",
    "---------------------------\n",
    "Mask:\n",
    "\n",
    "\t> tilec_mask.fits\n",
    "\n",
    "-----------------------------\n",
    "\n",
    "These maps are named according to the Deep56 region.  To access the Boss region instead simply substitute 'boss' for 'deep56' in the names above.\n",
    "\n",
    "Notice that the map, beam, noise and weights come in options that do not deproject anything, or that deproject another component. The former probably should be your baseline, and the latter should be used for systematics tests since they are noisier.\n",
    "\n",
    "In the above, the most important products for your analysis are 'Map' and 'Beam'. 'Map' is a FITS file with a 2D array and a WCS header. 'Beam' is an ASCII file with two columns, the first corresponding to multipole number and the second corresponding to the effective beam transfer function in the map. \n",
    "\n",
    "'Noise' contains the 2D Fourier space total noise power spectrum from the ILC pipeline (this includes both signal and instrument noise). 'Cross-noise' is the total cross-power-spectrum of the standard map (no deprojection) with a particular choice of deprojection, as estimated by the ILC pipeline.\n",
    "\n",
    "The 'Weights' FITS file contains the 2D Fourier space weight for each pixell corresponding to the array.\n",
    "\n",
    "The 'mask' is an apodized mask with values ranging from 0 to 1. It has already been applied\n",
    "to the map. All maps in a given directory use this same mask. If you are doing a real-space analysis,\n",
    "you should exclude any pixels where the value in the mask is appreciably different from 1 since\n",
    "the signal there should be attenuated by the value in the mask.\n",
    "\n",
    "If you are doing a harmonic-space analysis, you should apply an overall correction to your\n",
    "power spectrum of the form 1/mean(mask1 * mask2) (or equivalent for spherical harmonics).\n",
    "(Note: Mode-coupling is probably unimportant for the Compton-Y map since the spectrum is not\n",
    "very red. Mode-coupling can be important for the CMB map, but it's unlikely that you will\n",
    "need to directly cross-correlate the CMB map in harmonic space. If you do, then\n",
    "get in touch with us about how to handle the mode-coupling, since during reconstruction of\n",
    "these maps, the mask was applied prior to a series of Fourier operations, and many \n",
    "power spectrum codes assume the mask has not yet been applied.)"
   ]
  },
  {
   "cell_type": "code",
   "execution_count": null,
   "metadata": {
    "colab": {},
    "colab_type": "code",
    "id": "DNW3rxyXmHKG"
   },
   "outputs": [],
   "source": [
    "# Here we demonstrate how to read in the deep 56 compton y map.  This is the same region \n",
    "# we looked at the lensing map for in the previous section\n",
    "\n",
    "comptony = enmap.read_map(\"/content/drive/My Drive/Pixell notebooks/tilec_single_tile_deep56_comptony_map_v1.2.0_joint.fits\")"
   ]
  },
  {
   "cell_type": "code",
   "execution_count": null,
   "metadata": {
    "colab": {
     "base_uri": "https://localhost:8080/",
     "height": 695
    },
    "colab_type": "code",
    "id": "sNnwcjEmrvMj",
    "outputId": "2674aabd-028b-4ab2-b0fa-e1c168566d11"
   },
   "outputs": [],
   "source": [
    "# We can plot the whole region - again adjust the 'downgrade' option to get a larger\n",
    "# or smaller map\n",
    "eshow(comptony, **{'downgrade': 4, 'ticks': 10})\n",
    "\n",
    "# We can also look at a 'submap' using the 'sub' option in order to see more detail\n",
    "eshow(comptony, **{\"sub\":\"-2.5 :2.5 ,35:30\", \"downgrade\": 2})"
   ]
  },
  {
   "cell_type": "markdown",
   "metadata": {
    "colab_type": "text",
    "id": "QweCgnWfdysI"
   },
   "source": [
    "One of the interesting things to look at with component-separated maps is to look at the maps stacked at the locations of tSZ-clusters.  In particular we can compare the CMB+kSZ maps stacked at these locations to the CMB+kSZ maps with the tSZ effect deprojected. \n",
    "\n",
    "We can begin by reading in the relevant maps, in this case we want to consider the CMB+kSZ and the CMB+kSZ maps for the D56 region.  We will use the ACTPol + Planck maps in order to recreate stacks that are analagous to those shown in  figure 10 of Madhavacheril et al. (2020).\n"
   ]
  },
  {
   "cell_type": "code",
   "execution_count": null,
   "metadata": {
    "colab": {},
    "colab_type": "code",
    "id": "5TXh8-3AgdD8"
   },
   "outputs": [],
   "source": [
    "# Start by reading in the two relevant maps:\n",
    "CMB_kSZ_D56 = enmap.read_map(\"/content/drive/My Drive/Pixell notebooks/tilec_single_tile_deep56_cmb_map_v1.2.0_joint.fits\")\n",
    "CMB_kSZ_deproject_tsz_D56 = enmap.read_map(\"/content/drive/My Drive/Pixell notebooks/tilec_single_tile_deep56_cmb_deprojects_comptony_map_v1.2.0_joint.fits\")\n",
    "\n"
   ]
  },
  {
   "cell_type": "markdown",
   "metadata": {
    "colab_type": "text",
    "id": "FEBtnRm0mJqC"
   },
   "source": [
    "Let's reuse our stacking code from earlier but apply the method to our two CMB+kSZ maps"
   ]
  },
  {
   "cell_type": "code",
   "execution_count": null,
   "metadata": {
    "colab": {},
    "colab_type": "code",
    "id": "McRTWyCNmIWN"
   },
   "outputs": [],
   "source": [
    "N = len(ras)\n",
    "stack_CMB_kSZ           = 0\n",
    "stack_CMB_kSZ_deproject = 0\n",
    "\n",
    "for i in range(N):\n",
    "    # Extract stamps by reprojecting the map at the center of each source.\n",
    "    # the 'postage_stamp' option here is designed to trim each reprojection so we\n",
    "    # are left with a stack of point sources in a map of width 20 arc minutes\n",
    "\n",
    "    stamp = reproject.postage_stamp(inmap = CMB_kSZ_D56 , ra_deg = ras[i], dec_deg = decs[i]\\\n",
    "                  , width_arcmin = 20., res_arcmin = .5)\n",
    "    stamp_deproject = reproject.postage_stamp(inmap = CMB_kSZ_deproject_tsz_D56 \\\n",
    "                  , ra_deg = ras[i], dec_deg = decs[i], width_arcmin = 20., \\\n",
    "                  res_arcmin = .5)\n",
    "    \n",
    "    if stamp is None: continue \n",
    "    stack_CMB_kSZ += stamp[0]\n",
    "\n",
    "    if stamp_deproject is None: continue\n",
    "    stack_CMB_kSZ_deproject += stamp_deproject[0]\n",
    "    \n",
    "stack_CMB_kSZ /= N\n",
    "stack_CMB_kSZ_deproject /= N"
   ]
  },
  {
   "cell_type": "code",
   "execution_count": null,
   "metadata": {
    "colab": {
     "base_uri": "https://localhost:8080/",
     "height": 310
    },
    "colab_type": "code",
    "id": "BBEJ4t4UnrOS",
    "outputId": "bfa80e10-06e4-4b6b-a3a8-8b39562e7a9b"
   },
   "outputs": [],
   "source": [
    "# Now we can plot both of these and compare\n",
    "\n",
    "f, ax = plt.subplots(1,2, figsize=(10, 5))\n",
    "\n",
    "f1 = ax[0].imshow(stack_CMB_kSZ, vmin = -10, vmax = 30, cmap = cm.gray)\n",
    "ax[0].get_xaxis().set_visible(False)\n",
    "ax[0].get_yaxis().set_visible(False)\n",
    "ax[0].set_title(\"CMB + kSZ\", fontsize = 16)\n",
    "plt.colorbar(mappable = f1, ax = ax[0],orientation='horizontal')\n",
    "\n",
    "f2 = ax[1].imshow(stack_CMB_kSZ_deproject, vmin = -10, vmax = 30, cmap = cm.gray)\n",
    "ax[1].get_xaxis().set_visible(False)\n",
    "ax[1].get_yaxis().set_visible(False)\n",
    "ax[1].set_title(\"CMB + kSZ Deprojecting tSZ\", fontsize = 16)\n",
    "plt.colorbar(mappable = f2, ax = ax[1],orientation='horizontal')\n",
    "plt.show()"
   ]
  },
  {
   "cell_type": "markdown",
   "metadata": {
    "colab_type": "text",
    "id": "okbxAMFNrDi7"
   },
   "source": [
    "As explained in Madhavacheril et al. (2020) the normal ILC procedure leaves behind large tSZ residuals as is evident in the left hand pannel.  In comparison explicitly deprojecting the tSZ frequency dependece elimantes this residual.  "
   ]
  },
  {
   "cell_type": "markdown",
   "metadata": {
    "colab_type": "text",
    "id": "lap_xzTkn5s5"
   },
   "source": [
    "# Section 7: Harmonic Analysis using CAR maps"
   ]
  },
  {
   "cell_type": "markdown",
   "metadata": {
    "colab_type": "text",
    "id": "ck2cBnKJdXp9"
   },
   "source": [
    "Now that users are able to import and examine these maps we now present an introduction to harmonic analysis using these maps.  We will present and example of a simple ACT Planck cross correlation here but we encourage users to consider cross correlations with other maps or galaxy density maps."
   ]
  },
  {
   "cell_type": "markdown",
   "metadata": {
    "colab_type": "text",
    "id": "ydVE2Jvup42D"
   },
   "source": [
    "### Fourier transforms using Enmap\n",
    "\n",
    "We will begin by trimming both ACT and Planck maps to the same size and then use enmap's functions to fourier transform the map using the 'flat-sky' approximation.  "
   ]
  },
  {
   "cell_type": "markdown",
   "metadata": {
    "colab_type": "text",
    "id": "NmgGCGw4XTI3"
   },
   "source": [
    "Before fourier transforming the maps it is necesary to apodize the edges of the maps so that periodic boundary conditions apply.  This can easily be done using the enmap functions and the taper can be adjusted by changing the 'apod_pix' variable which adjusts the number of pixels that are apodized.\n",
    "\n",
    "Here we choose to display only the I maps, however, the Q and U maps can of course be tapered in the same manner if desired."
   ]
  },
  {
   "cell_type": "code",
   "execution_count": null,
   "metadata": {
    "colab": {
     "base_uri": "https://localhost:8080/",
     "height": 780
    },
    "colab_type": "code",
    "id": "iUdhiRPwXUk2",
    "outputId": "56d8a9fe-899e-4ce9-98f9-3c459520b6e1"
   },
   "outputs": [],
   "source": [
    "# Trim Maps\n",
    "box = np.array([[-28,40],[-12,-40]])*utils.degree\n",
    "smap_act    = smap_2.submap(box)\n",
    "smap_planck = planck_map.submap(box)\n",
    "\n",
    "# Define taper using enmap.apod and then plot the taper\n",
    "apod_pix = 100 \n",
    "taper    = enmap.apod(smap_act*0+1,apod_pix) \n",
    "eshow(taper,  **{\"downgrade\": 4, \"colorbar\":True, \"ticks\": 2})\n",
    "\n",
    "# Apply taper to the two maps by multiplying the taper and maps together\n",
    "eshow(taper*smap_act, **{\"downgrade\": 4,  \"ticks\": 2})\n",
    "eshow(taper*smap_planck, **{\"downgrade\": 4,  \"ticks\": 2})"
   ]
  },
  {
   "cell_type": "markdown",
   "metadata": {
    "colab_type": "text",
    "id": "DbwnvS7K2xhY"
   },
   "source": [
    "Now that we have the apodized maps we can begin the harmonic analysis.  \n",
    "\n",
    "Step one is to use enmap to get a fourier transformation of the map.  For ease of use we set the normalization of the fouier trnasformation to physical by passing the 'phys' parameter.  This makes Pixell take into account pixel area factors when calculating the power.\n",
    "\n",
    "Once you have the fourier transformed map it is possible to make a naive power spectra by multiplying by the conjugate and then binning the spectra.\n",
    "\n",
    "One thing we note is that Pixell has a function that let's you call the 'modlmap' of a ndmap.  This is a map that gives the distance in fourier space of each pixel to the center of the map.  It's particularly useful for binning the powerspectra and we will use it in the binning function below.\n",
    "\n",
    "In order to get the Planck maps in $\\mu$K we multiply by a factor of $10^6$ "
   ]
  },
  {
   "cell_type": "code",
   "execution_count": null,
   "metadata": {
    "colab": {},
    "colab_type": "code",
    "id": "c_m9efrwt4Mj"
   },
   "outputs": [],
   "source": [
    "# Fourier transform the map:\n",
    "kmap_act = enmap.fft(smap_act*taper, normalize = 'phys')\n",
    "kmap_planck = enmap.fft(smap_planck*taper*1e6, normalize = 'phys')\n",
    "\n",
    "# Get power\n",
    "power = (kmap_act*np.conj(kmap_planck)).real\n",
    "\n",
    "# Define a function that can bin the power.  \n",
    "def bin(data,imap, lmax, bin_size):\n",
    "    modlmap = imap.modlmap()\n",
    "\n",
    "    # Define the bins and bin centers\n",
    "    bins = np.arange(0,lmax, bin_size)\n",
    "    centers = (bins[1:] + bins[:-1])/2.\n",
    "\n",
    "    # Bin the power spectrum \n",
    "    digitized = np.digitize(np.ndarray.flatten(modlmap), bins, right=True)\n",
    "    binned = np.bincount(digitized,(data).reshape(-1))[1:-1]/np.bincount(digitized)[1:-1]\n",
    "    return centers, binned\n",
    "\n",
    "# The Taper we applied earlier effects tge power spectrum. \n",
    "# Pixell doesn't have the capability to fully account for the taper\n",
    "# But we can get an approximate correction by dividing out the following term\n",
    "w2 = np.mean(taper**2) \n",
    "\n",
    "ell_b, binned_power = bin(power, smap_act, lmax = 6000, bin_size = 40)"
   ]
  },
  {
   "cell_type": "markdown",
   "metadata": {
    "colab_type": "text",
    "id": "fuNVtsDNu2j0"
   },
   "source": [
    "Now that we've binned the power spectrum we made we can plot it quickly to have a look at it."
   ]
  },
  {
   "cell_type": "code",
   "execution_count": null,
   "metadata": {
    "colab": {
     "base_uri": "https://localhost:8080/",
     "height": 397
    },
    "colab_type": "code",
    "id": "JyEJ0Ma5serY",
    "outputId": "10979af2-65de-4559-ccbd-b8b908a77cfb"
   },
   "outputs": [],
   "source": [
    "# Read in a camb fiducial spectrum for comparison\n",
    "from pixell.pixell import powspec\n",
    "camb_theory = powspec.read_spectrum(path + \"camb_theory.dat\")\n",
    "cltt = camb_theory[0,0,:3000]\n",
    "ls = np.arange(cltt.size)\n",
    "\n",
    "# Now plot the quick powerspectrum we just made\n",
    "plt.figure(figsize = (8,6))\n",
    "plt.rc('font', family='serif')\n",
    "\n",
    "plt.plot(ls,cltt*ls**2.,lw=3,color='k', label = \"fiducial\")\n",
    "plt.plot(ell_b,ell_b**2*binned_power/w2,marker=\"o\",ls=\"none\", label = \"150 GHz ACT Coadd x 143 GHz Planck\")\n",
    "plt.yscale('log')\n",
    "plt.xlabel('$\\\\ell$', fontsize = 15)\n",
    "plt.ylabel('$D_{\\\\ell}$', fontsize = 15)\n",
    "plt.xlim(0, 5000)\n",
    "plt.ylim(.1, 1e5)\n",
    "plt.grid(True)\n",
    "plt.legend(fontsize = 14)\n",
    "plt.show()"
   ]
  },
  {
   "cell_type": "markdown",
   "metadata": {
    "colab_type": "text",
    "id": "LsvxgUOow66A"
   },
   "source": [
    "## Spherical harmonics using Pixell\n",
    "\n",
    "For this we turn to Pixell's curvedsky functions that enable spherical harmonic analysis of the patches.  The process is very similar what one would do using the HealPix library.  We will get alms from the maps and then from there we get the cls from the alms. \n",
    "\n",
    "Again we want to weight our powerspectrum by an area correction factor as well as the taper we've applied"
   ]
  },
  {
   "cell_type": "code",
   "execution_count": null,
   "metadata": {
    "colab": {},
    "colab_type": "code",
    "id": "1XfDsDTtvmlQ"
   },
   "outputs": [],
   "source": [
    "from pixell.pixell import curvedsky \n",
    "\n",
    "# First we get the alms\n",
    "alms_act = np.cdouble(curvedsky.map2alm(smap_act, lmax = 6000))\n",
    "alms_planck = np.cdouble(curvedsky.map2alm(smap_planck*1e6, lmax = 6000))\n",
    "\n",
    "# Next step we get the cls using healpy\n",
    "cls = hp.alm2cl(alms_act, alms_planck)\n",
    "\n",
    "# We also want the corresponding ells which we can get easily\n",
    "ell = np.arange(len(cls))\n",
    "\n",
    "# Now we calculate the weighting we have to apply to our spectrum due to the \n",
    "# trimmed size\n",
    "w2_new = enmap.area(smap_act.shape, smap_act.wcs)/4. / np.pi\n",
    "\n",
    "# Now we combine these to get the Dls\n",
    "Dl = cls*ell**2 / w2_new "
   ]
  },
  {
   "cell_type": "code",
   "execution_count": null,
   "metadata": {
    "colab": {
     "base_uri": "https://localhost:8080/",
     "height": 409
    },
    "colab_type": "code",
    "id": "1pm1oIZxEa5T",
    "outputId": "32d185a7-ea38-4ae8-c194-445fecb1cbae"
   },
   "outputs": [],
   "source": [
    " # Now we can plot our power spectrum\n",
    "\n",
    "plt.figure(figsize = (8,6))\n",
    "plt.rc('font', family='serif')\n",
    "plt.grid(True)\n",
    "plt.plot(ls,cltt*ls**2.,lw=3,color='k', label = \"fiducial\")\n",
    "plt.plot(ell_b,ell_b**2*binned_power/w2,marker=\"o\",ls=\"none\", label = \"Fourier Transform\")\n",
    "plt.plot(ell, Dl, '.', label = \"Spherical harmonics\")\n",
    "plt.yscale('log')\n",
    "plt.xlabel('$\\\\ell$', fontsize = 15)\n",
    "plt.ylabel('$D_{\\\\ell}$', fontsize = 15)\n",
    "plt.title(\"Placnk 143 GHz x ACT 150 GHz Coadd\", fontsize = 15)\n",
    "plt.ylim(.01 ,1e6)\n",
    "plt.legend(fontsize = 14)\n",
    "plt.show()"
   ]
  },
  {
   "cell_type": "markdown",
   "metadata": {
    "colab_type": "text",
    "id": "pcCSvUNnlinO"
   },
   "source": [
    "In the plot above we can quite clearly see some of the acoustic oscilations as we would expect. The spectrum hasn't been corrected for beams or other pixel transfer functions both of which would need to be done for a true analysis.  Further more we decouple the window function using a relatively simple approach, however, to truly decouple it one should use a program such as **Namaster**, **pspy** or **pitas** which explicitly decouple the window functions.\n",
    "\n",
    "Despite the limitations quick power spectra can be made relatively easily using this approach and can be done with galaxy density maps or other CMB maps."
   ]
  },
  {
   "cell_type": "markdown",
   "metadata": {
    "colab_type": "text",
    "id": "sRfS65NaDKuX"
   },
   "source": [
    "# Section 8: Generating E and B maps"
   ]
  },
  {
   "cell_type": "markdown",
   "metadata": {
    "colab_type": "text",
    "id": "TaL9R4C4tBNj"
   },
   "source": [
    "While the data release includes I, Q and U maps we do not specifically release the E and B maps presented in DR4.  Here we will show how to recover them using the I, Q and U maps.\n",
    "\n",
    "We start by reading in the source and source free maps needed for this process and then trimming them down to a smaller size.  From there we will use enmap's functions to convert the maps to harmonics and then inverse fourier transform the harmonic maps to get the E and B maps."
   ]
  },
  {
   "cell_type": "code",
   "execution_count": null,
   "metadata": {
    "colab": {},
    "colab_type": "code",
    "id": "WMvj_xQpzEe8"
   },
   "outputs": [],
   "source": [
    "# To begin with we need to add in the Q and U maps for the same coadded patch\n",
    "# We then trim them, using submap, to the size of the small patch from earlier\n",
    "imap = enmap.read_map(path + \"act_s08_s18_cmb_f150_night_map_Q.fits\")\n",
    "smap_Q = imap.submap(box)\n",
    "\n",
    "imap = enmap.read_map(path + \"act_s08_s18_cmb_f150_night_map_U.fits\")\n",
    "smap_U = imap.submap(box)\n",
    "\n",
    "# Once we have them we will combine them into one object\n",
    "smap_TQU = enmap.zeros((3,)+smap.shape, smap.wcs)\n",
    "smap_TQU[0:3] = smap, smap_Q, smap_U"
   ]
  },
  {
   "cell_type": "markdown",
   "metadata": {
    "colab_type": "text",
    "id": "kvgRkAe56prU"
   },
   "source": [
    "Since this process involves taking fourier transformations of the maps we want to apply a mask that tapers the edges of the maps.  We can do so using the enmap.apod function which will force the maps to taper off to zero at the edges."
   ]
  },
  {
   "cell_type": "code",
   "execution_count": null,
   "metadata": {
    "colab": {},
    "colab_type": "code",
    "id": "1upd9niW6BIR"
   },
   "outputs": [],
   "source": [
    "# Define taper using enmap.apod and then plot the taper\n",
    "apod_pix = 40 \n",
    "taper = enmap.apod(smap_TQU*0+1,apod_pix) \n",
    "eshow(taper[0],  **{\"downgrade\": 2, \"colorbar\":True, \"ticks\": 2})\n",
    "\n",
    "# Apply taper to the smap by multiplying the two maps together\n",
    "smap_TQU *= taper"
   ]
  },
  {
   "cell_type": "code",
   "execution_count": null,
   "metadata": {
    "colab": {},
    "colab_type": "code",
    "id": "WVediIn206sL"
   },
   "outputs": [],
   "source": [
    "# Here are the inital TQU maps with the tapers applied\n",
    "eshow(smap_TQU, **{\"downgrade\": 2, \"colorbar\":True, \"ticks\": 1})\n",
    "smap_TQU[1].wcs\n",
    "smap_TQU.shape"
   ]
  },
  {
   "cell_type": "markdown",
   "metadata": {
    "colab_type": "text",
    "id": "FJg49mSX3z6y"
   },
   "source": [
    "The next step is to convert these to E and B and maps.  Enmap allows us to do so using the map2harm function.  We set the normalization to 'phys' for physical which normalizes the maps such that the binned square of the fourier transformation can be directly compared to theory (apart from mask corrections).  \n",
    "\n",
    "From there we combine all five maps (TQUEB) in a single map object them and plot them."
   ]
  },
  {
   "cell_type": "code",
   "execution_count": null,
   "metadata": {
    "colab": {},
    "colab_type": "code",
    "id": "9Abc1DSvz5iI"
   },
   "outputs": [],
   "source": [
    "# Apply Transformation to get T,E,B harmonic maps from the T,Q,U real-space maps\n",
    "f_smap = enmap.map2harm(smap_TQU, normalize = \"phys\")\n",
    "\n",
    "# Create a map object to hold all five maps\n",
    "maps_TQUEB = enmap.zeros((5,)+smap.shape, smap.wcs)\n",
    "\n",
    "# We now fill in the object.  The first three remain the same as the originals\n",
    "# The second two are the EB maps which we get by inverse fourier transforming the \n",
    "# Harmonic maps in f_smap\n",
    "\n",
    "maps_TQUEB[0:3] = smap_TQU\n",
    "maps_TQUEB[3:]  = enmap.ifft(f_smap, normalize = \"phys\").real[1:]"
   ]
  },
  {
   "cell_type": "code",
   "execution_count": null,
   "metadata": {
    "colab": {},
    "colab_type": "code",
    "id": "VzMwGeDt2DW9"
   },
   "outputs": [],
   "source": [
    "# Now we plot all five maps in order T, Q, U, E and the B\n",
    "\n",
    "eshow(maps_TQUEB[0], **{\"downgrade\": 2, \"ticks\": 1, \"color\" : \"planck\", \"range\": 250})\n",
    "eshow(maps_TQUEB[1:], **{\"downgrade\": 2, \"ticks\": 1, \"color\" : \"gray\", \"range\": 25})"
   ]
  },
  {
   "cell_type": "code",
   "execution_count": null,
   "metadata": {
    "colab": {},
    "colab_type": "code",
    "id": "gOhyiEFslvS6"
   },
   "outputs": [],
   "source": [
    "# We begin this process by reading in the maps  \n",
    "fname_srcfree = \"act_dr4_s15_D8_pa2_f150_nohwp_night_3pass_4way_set2_map_srcfree.fits\"\n",
    "fname_src = \"act_dr4_s15_D8_pa2_f150_nohwp_night_3pass_4way_set2_srcs.fits\"\n",
    "\n",
    "# By combining the two maps chosen above we recover the observed sky with point sources\n",
    "imap_srcfree = enmap.read_map(path + fname_srcfree)\n",
    "imap_srcs =   enmap.read_map(path + fname_src)"
   ]
  },
  {
   "cell_type": "code",
   "execution_count": null,
   "metadata": {
    "colab": {},
    "colab_type": "code",
    "id": "k0RKbVixDLwD"
   },
   "outputs": [],
   "source": [
    "# we begin by trimming the maps to exclude the noisy edges\n",
    "box = np.array([[-49,11],[-34,-5]])*utils.degree\n",
    "srcs_small = imap_srcs.submap(box)\n",
    "srcfree_small = imap_srcfree.submap(box)\n",
    "\n",
    " \n",
    "# We store the shape and wcs information of these new, trimmed maps for use later on \n",
    "shape, wcs = srcs_small.shape, srcs_small.wcs"
   ]
  },
  {
   "cell_type": "code",
   "execution_count": null,
   "metadata": {
    "colab": {},
    "colab_type": "code",
    "id": "NbBAichhsexk"
   },
   "outputs": [],
   "source": [
    "# Convert these to harmonics \n",
    "srcs_small_harm      = enmap.map2harm(srcs_small, norm = \"phys\", iau = True)\n",
    "srcfree_small_harm   = enmap.map2harm(srcfree_small, norm = \"phys\", iau = True)\n",
    "\n",
    "ly, lx = srcs_small.lmap()\n",
    "l      = np.sqrt(ly**2+lx**2)\n",
    "f = ((1 + (l/150)**-4)**-1) * ((1 + (lx/5)**-4)**-1)\n",
    "\n",
    "# Create an enmap object to store the newly formatted maps in once they are ready.  \n",
    "maps_TQUEB = enmap.zeros((5,)+srcs_small.shape[1:], wcs)\n",
    "\n",
    "# Store the newly transformed maps\n",
    "maps_TQUEB[0:3] = enmap.harm2map(srcfree_small_harm*f + srcs_small_harm, iau = True)\n",
    "maps_TQUEB[3:]  = enmap.ifft(srcfree_small_harm*f + srcs_small_harm).real[1:]"
   ]
  },
  {
   "cell_type": "markdown",
   "metadata": {
    "colab_type": "text",
    "id": "qy1hrcJLDRJD"
   },
   "source": [
    "Now that we've generated the T, Q, U, E and B maps with sources we can go ahead and plot them"
   ]
  },
  {
   "cell_type": "code",
   "execution_count": null,
   "metadata": {
    "colab": {},
    "colab_type": "code",
    "id": "hp1nET2VDRqG"
   },
   "outputs": [],
   "source": [
    "eshow(maps_TQUEB[0], **{\"downgrade\": 6, \"ticks\": 2, \"color\" : \"planck\", \"range\": 250})\n",
    "eshow(maps_TQUEB[1:], **{\"downgrade\": 6, \"ticks\": 2, \"color\" : \"gray\", \"range\": 25})"
   ]
  }
 ],
 "metadata": {
  "colab": {
   "collapsed_sections": [
    "7wuon2PcQDH3",
    "UqVls-28Fe6d",
    "hRBTzr5ghknb",
    "smN7aD_qfS0X",
    "Hdr6rmILNbUE",
    "lap_xzTkn5s5",
    "ydVE2Jvup42D",
    "LsvxgUOow66A",
    "sRfS65NaDKuX"
   ],
   "name": "Advanced ACT DR4 Combined data products ",
   "provenance": [],
   "toc_visible": true
  },
  "kernelspec": {
   "display_name": "Python 3",
   "language": "python",
   "name": "python3"
  },
  "language_info": {
   "codemirror_mode": {
    "name": "ipython",
    "version": 3
   },
   "file_extension": ".py",
   "mimetype": "text/x-python",
   "name": "python",
   "nbconvert_exporter": "python",
   "pygments_lexer": "ipython3",
   "version": "3.7.3"
  }
 },
 "nbformat": 4,
 "nbformat_minor": 1
}
