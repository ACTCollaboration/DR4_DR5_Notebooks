{
 "cells": [
  {
   "cell_type": "markdown",
   "metadata": {},
   "source": [
    "# Section 11: Using the ACT likelihood \n",
    "\n",
    "In this section we will use the pyactlike package to calculate the likelihood of a sample spectrum given the ACT data.   This package is available on [GitHub](https://github.com/ACTCollaboration/pyactlike) and was developed for [Aiola et al.] , [Choi et al.] . This package is based off of the Fortran implementation written by Erminia Calabrese and Jo Dunkley. \n",
    "\n",
    "We ask that when using these data products you reference the original work in Aiola et al. 2020 and Choi et al. 2020\n",
    "\n",
    "To return to the main notebook or to view a different section use the links in the table of contents.\n",
    "\n",
    "\n",
    "\n",
    "## Table of contents\n",
    "\n",
    " --- \n",
    "> [Section 1](Section_1_Introduction.ipynb): Introduction to AdvACT Data Release 4\n",
    "\n",
    "> [Section 2](Section_2_coadded_maps.ipynb): S08-18 Coadded maps from [Naess et al. (2020)](https://www.overleaf.com/5395816498bsknshgxbmyr) and an Introduction to Pixell\n",
    "\n",
    "> [Section 3](Section_3_HEALPix_CAR_Conversions.ipynb):  Demonstration of methods to convert maps between HEALPix format and the CAR format.\n",
    "\n",
    "> [Section 4](Section_4_visualize_objects.ipynb):  Guide to using Pixell to look at objects in the maps and stacking our maps on catalogue positions.\n",
    "\n",
    "> [Section 5](Section_5_Lensing_maps.ipynb):  Introduction to the Lensing maps from [Darwish et al](https://arxiv.org/pdf/2004.01139.pdf)\n",
    "\n",
    "> [Section 6](Section_6_Component_separated_maps.ipynb):  Guide to the use of the Component Separated maps from [Madhavacheril et al. (2020)](https://arxiv.org/abs/1911.05717)\n",
    "\n",
    "> [Section 7](Section_7_power_spectra_part_1.ipynb): Harmonic Analysis using CAR maps [Naess et al, in preparation]\n",
    "\n",
    "> [Section 8](Section_8_power_spectra_part_2.ipynb): Power Spectrum example using Nawrapper [Aiola et al] and [Choi et al] \n",
    "\n",
    "> [Section 9](Section_9_Noise_sims.ipynb): Generating Noise Simulations \n",
    "\n",
    "> [Section 10](Section_10_E_B_maps.ipynb):  Look at how to generate E and B maps from I, Q, U maps. \n",
    "\n",
    "> [Section 11](Section_11_ACT_likelihood.ipynb): Using the ACT Likelihood code\n",
    " \n",
    "> [Section 12](Section_12_delensing_param_shifts.ipynb):  Delensing the CMB powerspectrum and comparing the delensed and lensed parameters from [Han et al. 2020, in preparation]\n",
    "---\n"
   ]
  },
  {
   "cell_type": "markdown",
   "metadata": {},
   "source": [
    "We begin by importing the neccessary packages, in particular the pyactlike package discussed above."
   ]
  },
  {
   "cell_type": "code",
   "execution_count": 1,
   "metadata": {},
   "outputs": [
    {
     "ename": "ModuleNotFoundError",
     "evalue": "No module named 'pyactlike'",
     "output_type": "error",
     "traceback": [
      "\u001b[0;31m---------------------------------------------------------------------------\u001b[0m",
      "\u001b[0;31mModuleNotFoundError\u001b[0m                       Traceback (most recent call last)",
      "\u001b[0;32m<ipython-input-1-0392391de950>\u001b[0m in \u001b[0;36m<module>\u001b[0;34m\u001b[0m\n\u001b[1;32m      7\u001b[0m \u001b[0;32mimport\u001b[0m \u001b[0mmatplotlib\u001b[0m\u001b[0;34m.\u001b[0m\u001b[0mpyplot\u001b[0m \u001b[0;32mas\u001b[0m \u001b[0mplt\u001b[0m\u001b[0;34m\u001b[0m\u001b[0;34m\u001b[0m\u001b[0m\n\u001b[1;32m      8\u001b[0m \u001b[0;32mimport\u001b[0m \u001b[0mnumpy\u001b[0m \u001b[0;32mas\u001b[0m \u001b[0mnp\u001b[0m\u001b[0;34m\u001b[0m\u001b[0;34m\u001b[0m\u001b[0m\n\u001b[0;32m----> 9\u001b[0;31m \u001b[0;32mimport\u001b[0m \u001b[0mpyactlike\u001b[0m\u001b[0;34m\u001b[0m\u001b[0;34m\u001b[0m\u001b[0m\n\u001b[0m\u001b[1;32m     10\u001b[0m \u001b[0;32mimport\u001b[0m \u001b[0mcamb\u001b[0m\u001b[0;34m\u001b[0m\u001b[0;34m\u001b[0m\u001b[0m\n",
      "\u001b[0;31mModuleNotFoundError\u001b[0m: No module named 'pyactlike'"
     ]
    }
   ],
   "source": [
    "%matplotlib inline\n",
    "%load_ext autoreload\n",
    "%autoreload 2\n",
    "%config InlineBackend.figure_format = 'retina'\n",
    "%run Section_1_Introduction.ipynb\n",
    "\n",
    "import pyactlike\n",
    "import camb"
   ]
  },
  {
   "cell_type": "markdown",
   "metadata": {},
   "source": [
    "## Step 1: read in some included example spectra and plot them"
   ]
  },
  {
   "cell_type": "code",
   "execution_count": null,
   "metadata": {},
   "outputs": [],
   "source": [
    "like = pyactlike.ACTPowerSpectrumData()\n",
    "\n",
    "# Read an example spectrum from disk.\n",
    "filename = like.data_dir + \"bf_ACTPol_WMAP_lcdm.minimum.theory_cl\"\n",
    "\n",
    "tt_lmax = 6000\n",
    "ell, dell_tt, dell_te, dell_ee = np.genfromtxt(\n",
    "    filename,\n",
    "    delimiter=None,\n",
    "    unpack=True,\n",
    "    max_rows=tt_lmax - 1,\n",
    "    usecols=(0, 1, 2, 3),\n",
    ")\n",
    "\n",
    "# Let's quickly plot these spectra \n",
    "\n",
    "plt.figure(figsize = (14, 5))\n",
    "\n",
    "plt.subplot(1,2,1)\n",
    "plt.plot(ell, dell_tt, \"-\", label=\"TT\")\n",
    "plt.ylabel(r\"$C_{\\ell} \\ell (\\ell+1) / 2 \\pi$ $[\\mu$K$^2]$\", fontsize = 14)\n",
    "plt.xlabel(r\"Multipole, $\\ell$\", fontsize = 14)\n",
    "plt.legend(fontsize = 14)\n",
    "plt.xlim(0,3000)\n",
    "\n",
    "plt.subplot(1,2,2)\n",
    "plt.plot(ell, dell_ee, \"-\", label=\"EE\")\n",
    "plt.xlabel(r\"Multipole, $\\ell$\", fontsize = 14)\n",
    "plt.legend(fontsize = 14)\n",
    "plt.xlim(0,3000)\n",
    "\n",
    "plt.show()"
   ]
  },
  {
   "cell_type": "markdown",
   "metadata": {},
   "source": [
    "## Step 2: Compute the likelihood of the spectrum given the ACT data\n",
    "\n",
    "In this step we also compare to the expected $\\chi^2$ value and note that they match up as expected."
   ]
  },
  {
   "cell_type": "code",
   "execution_count": null,
   "metadata": {},
   "outputs": [],
   "source": [
    "# compute the likelihood \n",
    "\n",
    "# now that we have WMAP + ACT theory spectra loaded we need to\n",
    "# set the polarization efficiency\n",
    "yp2_act_wmap = 1.003\n",
    "\n",
    "# we can evaluate the likelihood of the WMAP + ACT spectra as follows:\n",
    "like = pyactlike.ACTPowerSpectrumData()\n",
    "chi2 = -2 * like.loglike(dell_tt, dell_te, dell_ee, yp2_act_wmap)\n",
    "print(\"ACT + WMAP chi2 = \" + \"{0:.12f}\".format(chi2))\n",
    "print(\"Expected:         288.252869629064\")"
   ]
  },
  {
   "cell_type": "markdown",
   "metadata": {},
   "source": [
    "### ACTPol only Likelihood\n",
    "We can also do a similar thing using the ACTPol only likelihood.  To do so we need to adjust yp2 to 1.001 and then also load the other likelihood."
   ]
  },
  {
   "cell_type": "code",
   "execution_count": null,
   "metadata": {},
   "outputs": [],
   "source": [
    "# Read in the act only spectra\n",
    "filename = like.data_dir + \"bf_ACTPol_lcdm.minimum.theory_cl\"\n",
    "\n",
    "tt_lmax = 6000\n",
    "ell, dell_tt, dell_te, dell_ee = np.genfromtxt(\n",
    "    filename,\n",
    "    delimiter=None,\n",
    "    unpack=True,\n",
    "    max_rows=tt_lmax - 1,\n",
    "    usecols=(0, 1, 2, 3),\n",
    ")\n",
    "\n",
    "# Set the new yp2 value\n",
    "yp2_act_only = 1.001\n",
    "\n",
    "# Now let's look at the chi2 using pyactlike\n",
    "like = pyactlike.ACTPowerSpectrumData()\n",
    "chi2 = -2 * like.loglike(dell_tt, dell_te, dell_ee, yp2_act_only)\n",
    "print(\"ACT only chi2 = \" + \"{0:.12f}\".format(chi2))\n",
    "print(\"Expected:       279.004901885481\")"
   ]
  },
  {
   "cell_type": "markdown",
   "metadata": {},
   "source": [
    "## Step 3: Compare the Theory to the Data \n",
    "\n",
    "Now let's take a moment to compare our theoretical predictions to the data. In order to do se we want to identify the TT, TE and EE bins, data and errors. We will look at the 'wide' patch data. "
   ]
  },
  {
   "cell_type": "code",
   "execution_count": null,
   "metadata": {},
   "outputs": [],
   "source": [
    "wmin=130 #first element of TT for wide patch\n",
    "wmax=130+40 #last element of TT for wide patch\n",
    "\n",
    "# Read in the ell values for the data\n",
    "TT_bval=like.bval[wmin:wmax]\n",
    "\n",
    "# Compute the Dl values using Dl = cl*ell**2/(2*pi) \n",
    "TT_dat=like.X_data[wmin:wmax]*like.bval[wmin:wmax]**2/(2.*np.pi)\n",
    "\n",
    "# Read in the error which also needs to be converted to an error in Dl\n",
    "TT_err=like.X_sig[wmin:wmax]*like.bval[wmin:wmax]**2/(2.*np.pi)\n",
    "\n",
    "# Now we can plot this data along with the theory from above \n",
    "plt.figure(figsize=(15,6))\n",
    "\n",
    "plt.plot(ell, dell_tt, \"-\", label=\"ACT theory\")\n",
    "plt.errorbar(TT_bval,TT_dat,yerr = TT_err, fmt='bo',label=\"ACT data\")\n",
    "plt.xlabel(r\"Multipole, $\\ell$\")\n",
    "plt.ylabel(r\"$C_{\\ell} \\ell (\\ell+1) / 2 \\pi$ $[\\mu$K$^2]$\")\n",
    "plt.legend()\n",
    "plt.xlim(0,4300)\n",
    "plt.ylim(0,6000)"
   ]
  },
  {
   "cell_type": "markdown",
   "metadata": {},
   "source": [
    "By eye this looks pretty good, our data points seem to fit our theory extremely well.  We can test this more explicitly by looking at the residuals and printing out a simplified diagonal $\\chi^2$.  It's worth noting that in order to get the full $\\chi^2$ one would need to use the full likelihood instead of this simplified version.\n",
    "\n",
    "Now identify the bandpower window functions to bin the theory, plot residuals, and also print simplified diagonal chisq (for full chisq use the full likelihood)"
   ]
  },
  {
   "cell_type": "code",
   "execution_count": null,
   "metadata": {},
   "outputs": [],
   "source": [
    "# We begin by creating an array of ell values the range from 2 to 5000\n",
    "l_list = np.array(range(2, like.tt_lmax + 1))\n",
    "\n",
    "# Our data above was binned and so in order to compare to theory we \n",
    "# will need to similarly bin the theory curve from above\n",
    "\n",
    "# Start by reading in the Dl values annd converting to cls\n",
    "cltt = np.zeros(like.lmax_win)\n",
    "cltt[1 : like.tt_lmax] = (dell_tt[: like.tt_lmax - 1] / l_list / (l_list + 1.0) * 2.0 * np.pi)\n",
    "\n",
    "# now we bin these cl values just as we did for the data above\n",
    "bmax, lmax_win = like.bmax, like.lmax_win\n",
    "cth_tt = like.win_func_w[2 * bmax : 3 * bmax, 1:lmax_win] @ cltt[1:lmax_win] \n",
    "\n",
    "# We convert the binned cl values to binned Dl by multiplying through by l(l+1)/2pi\n",
    "dth_tt = cth_tt[like.b0:like.b0+like.nbintt]*like.bval[wmin:wmax]**2/(2.*np.pi) \n",
    "\n",
    "# Now we have binned data and binned theory and so can plot the residuals\n",
    "plt.figure(figsize=(15,6))\n",
    "plt.errorbar(TT_bval,TT_dat-dth_tt,yerr = TT_err, fmt='bo',label=\"ACT-wide-ACT-theory)\")\n",
    "plt.plot(TT_bval, (TT_dat-dth_tt)*0.)\n",
    "plt.xlabel(r\"Multipole, $\\ell$\")\n",
    "plt.ylabel(r\"$(C_{\\ell}^{TT}-C_{\\ell}^{theory}) \\ell (\\ell+1) / 2 \\pi$ $[\\mu$K$^2]$\")\n",
    "plt.legend()\n",
    "plt.xlim(0,4300)\n",
    "plt.ylim(-100,70)"
   ]
  },
  {
   "cell_type": "code",
   "execution_count": null,
   "metadata": {},
   "outputs": [],
   "source": [
    "# We can also find the chisq of this binned data and print it out\n",
    "chi_act_TT = (TT_dat-dth_tt)**2/TT_err**2\n",
    "print(\"ACT TT-wide diagonal chi2 = \" + \"{0:.2f}\".format(np.sum(chi_act_TT))+ \" for 40 data points\")"
   ]
  },
  {
   "cell_type": "markdown",
   "metadata": {},
   "source": [
    "### Repeat the process for TE and EE\n",
    "\n",
    "The process above can be repeated for both TE and EE in order to look at the residuals for those spectra as well."
   ]
  },
  {
   "cell_type": "code",
   "execution_count": null,
   "metadata": {},
   "outputs": [],
   "source": [
    "wmin_TE, wmax_TE= 130+40, 130+40+45   #set the bounds for TE\n",
    "wmin_EE, wmax_EE= 130+85, 130+85+45   # Set the bounds for EE\n",
    "\n",
    "# As before we read in the ell, Dl, and error values\n",
    "# For TE\n",
    "TE_bval=like.bval[wmin_TE:wmax_TE]\n",
    "TE_dat=like.X_data[wmin_TE:wmax_TE]*like.bval[wmin_TE:wmax_TE]**2/(2.*np.pi)\n",
    "TE_err=like.X_sig[wmin_TE:wmax_TE]*like.bval[wmin_TE:wmax_TE]**2/(2.*np.pi)\n",
    "\n",
    "# For EE\n",
    "EE_bval=like.bval[wmin_EE:wmax_EE]\n",
    "EE_dat=like.X_data[wmin_EE:wmax_EE]*like.bval[wmin_EE:wmax_EE]**2/(2.*np.pi)\n",
    "EE_err=like.X_sig[wmin_EE:wmax_EE]*like.bval[wmin_EE:wmax_EE]**2/(2.*np.pi)\n",
    "\n",
    "\n",
    "# Let's plot the TE and EE spectra\n",
    "plt.figure(figsize=(18,6))\n",
    "\n",
    "plt.subplot(1,2,1)\n",
    "plt.plot(ell, dell_te, \"-\", label=\"TE - ACT theory\")\n",
    "plt.errorbar(TE_bval,TE_dat,yerr = TE_err, fmt='bo', label=\"TE - ACT data\")\n",
    "plt.xlabel(r\"Multipole, $\\ell$\")\n",
    "plt.ylabel(r\"$C_{\\ell} \\ell (\\ell+1) / 2 \\pi$ $[\\mu$K$^2]$\")\n",
    "plt.legend()\n",
    "plt.xlim(0,4300)\n",
    "\n",
    "plt.subplot(1,2,2)\n",
    "plt.plot(ell, dell_ee, \"-\", label=\"EE - ACT theory\")\n",
    "plt.errorbar(EE_bval,EE_dat,yerr = EE_err, fmt='bo', label=\"EE - ACT data\")\n",
    "plt.xlabel(r\"Multipole, $\\ell$\")\n",
    "plt.legend()\n",
    "plt.xlim(0,4300)"
   ]
  },
  {
   "cell_type": "markdown",
   "metadata": {},
   "source": [
    "We can now look at the residuals as well as the $\\chi^2$ for these two spectra:"
   ]
  },
  {
   "cell_type": "code",
   "execution_count": null,
   "metadata": {},
   "outputs": [],
   "source": [
    "# Start by binning the EE thoery\n",
    "clee = np.zeros(like.lmax_win)\n",
    "clee[1 : like.tt_lmax] = (dell_ee[: like.tt_lmax - 1] / l_list / (l_list + 1.0) * 2.0 * np.pi)\n",
    "bmax, lmax_win = like.bmax, like.lmax_win\n",
    "cth_ee = like.win_func_w[9 * bmax : 10 * bmax, 1:lmax_win] @ clee[1:lmax_win] \n",
    "dth_ee = cth_ee[:like.nbinee]*like.bval[wmin_EE:wmax_EE]**2/(2.*np.pi) \n",
    "\n",
    "# Next let's bin the TE theory\n",
    "clte = np.zeros(like.lmax_win)\n",
    "clte[1 : like.tt_lmax] = (dell_te[: like.tt_lmax - 1] / l_list / (l_list + 1.0) * 2.0 * np.pi)\n",
    "bmax, lmax_win = like.bmax, like.lmax_win\n",
    "cth_te = like.win_func_w[6 * bmax : 7 * bmax, 1:lmax_win] @ clte[1:lmax_win] \n",
    "dth_te = cth_te[:like.nbinte]*like.bval[wmin_TE:wmax_TE]**2/(2.*np.pi) \n",
    "\n",
    "# Plot the residuals\n",
    "plt.figure(figsize=(18,6))\n",
    "\n",
    "plt.subplot(1,2,1)\n",
    "plt.errorbar(TE_bval,TE_dat-dth_te,yerr = TE_err, fmt='ro',label=\"ACT-wide-ACT-theory)\")\n",
    "plt.plot(TE_bval, (TE_dat-dth_te)*0.)\n",
    "plt.yticks(fontsize=15)\n",
    "plt.xlim(0,4300)\n",
    "plt.xlabel(r\"Multipole, $\\ell$\")\n",
    "plt.legend()\n",
    "\n",
    "plt.subplot(1,2,2)\n",
    "plt.errorbar(EE_bval,EE_dat-dth_ee,yerr = EE_err, fmt='ro',label=\"ACT-wide-ACT-theory)\")\n",
    "plt.plot(EE_bval, (EE_dat-dth_ee)*0.)\n",
    "plt.yticks(fontsize=15)\n",
    "plt.xlim(0,4300)\n",
    "plt.xlabel(r\"Multipole, $\\ell$\")\n",
    "plt.ylabel(r\"$(C_{\\ell}^{EE}-C_{\\ell}^{theory}) \\ell (\\ell+1) / 2 \\pi$ $[\\mu$K$^2]$\")\n",
    "plt.legend()"
   ]
  },
  {
   "cell_type": "code",
   "execution_count": null,
   "metadata": {},
   "outputs": [],
   "source": [
    " # Print out the chi^2 values\n",
    "chi_act_TE = (TE_dat-dth_te)**2/TE_err**2\n",
    "print(\"ACT TE-wide diagonal chi2 = \" + \"{0:.2f}\".format(np.sum(chi_act_TE))+ \" for 45 data points\")\n",
    "\n",
    "chi_act_EE = (EE_dat-dth_ee)**2/EE_err**2\n",
    "print(\"ACT EE diagonal chi2 = \" + \"{0:.2f}\".format(np.sum(chi_act_EE))+ \" for 45 data points\")"
   ]
  },
  {
   "cell_type": "markdown",
   "metadata": {},
   "source": [
    "## Step 4: Testing an arbitrary cosmological model\n",
    "Finally, we demonstrate the utility of our likelihood functionality by applying it to an arbitrary cosmological model. Theorists investigating new physics can directly compare their predicted power spectra to the data:"
   ]
  },
  {
   "cell_type": "code",
   "execution_count": null,
   "metadata": {},
   "outputs": [],
   "source": [
    "# first generate an arbitrary set of spectra from CAMB\n",
    "cosmo_params = camb.model.CAMBparams()\n",
    "\n",
    "# set H0 to a higher value than our best-fit result, and\n",
    "# set lmax for this simulation to match ACT spectra \n",
    "cosmo_params.set_cosmology(H0 = 72)\n",
    "cosmo_params.set_for_lmax(6000)\n",
    "\n",
    "# retrieve the spectra\n",
    "res = camb.get_results(cosmo_params)\n",
    "spectra = res.get_cmb_power_spectra(params = cosmo_params, spectra = ('total',), CMB_unit = 'muK')['total']\n",
    "\n",
    "# we can plot the new, theory spectra as before\n",
    "ell = np.arange(spectra.shape[0])\n",
    "dell_tt, dell_ee, dell_bb, dell_te = spectra.T\n",
    "\n",
    "plt.figure(figsize = (14, 5))\n",
    "\n",
    "plt.subplot(1,2,1)\n",
    "plt.plot(ell, dell_tt, \"-\", label=\"TT\")\n",
    "plt.ylabel(r\"$C_{\\ell} \\ell (\\ell+1) / 2 \\pi$ $[\\mu$K$^2]$\", fontsize = 14)\n",
    "plt.xlabel(r\"Multipole, $\\ell$\", fontsize = 14)\n",
    "plt.legend(fontsize = 14)\n",
    "plt.xlim(0,3000)\n",
    "\n",
    "plt.subplot(1,2,2)\n",
    "plt.plot(ell, dell_ee, \"-\", label=\"EE\")\n",
    "plt.xlabel(r\"Multipole, $\\ell$\", fontsize = 14)\n",
    "plt.legend(fontsize = 14)\n",
    "plt.xlim(0,3000)\n",
    "\n",
    "plt.show()"
   ]
  },
  {
   "cell_type": "markdown",
   "metadata": {},
   "source": [
    "Now, get the $\\chi^2$ for this universe using the ACTPol only likelihood:"
   ]
  },
  {
   "cell_type": "code",
   "execution_count": null,
   "metadata": {},
   "outputs": [],
   "source": [
    "# Look at the chi2 using pyactlike\n",
    "like = pyactlike.ACTPowerSpectrumData()\n",
    "chi2 = -2 * like.loglike(dell_tt, dell_te, dell_ee, yp2_act_only)\n",
    "print(\"ACT only chi2 = \" + \"{0:.12f}\".format(chi2))\n",
    "print(\"Expected:       279.004901885481\")"
   ]
  },
  {
   "cell_type": "markdown",
   "metadata": {},
   "source": [
    "Thus our data highly disfavor $H_0 \\sim 72 km/s/MPc$ when all other parameters are set to the *camb* defaults. Of course, any power spectra can be tested in this way, not just those parameterized by $\\Lambda$-CDM.\n",
    "\n",
    "## Step 5: Using MCMC chains generated using the ACT likelihood to look at parameters\n",
    "\n",
    "The Likelihood we've introduced above can be used to solve for the best fit cosmological parameters that fit the ACT data.  This process and our results are discussed more in [Choi et al 2020] and [Aiola et al 2020] but here we will show you how to use one of the MCMC chains to look at the parameters"
   ]
  },
  {
   "cell_type": "code",
   "execution_count": null,
   "metadata": {},
   "outputs": [],
   "source": [
    "# Begin by reading in a chain and names of the columns\n",
    "import pandas as pd\n",
    "\n",
    "# Read in the column names\n",
    "names = pd.read_csv(path + \"ACTPol_lcdm.paramnames.csv\", names = [\"parameter\", \"latex parameter name\"])\n",
    "chain = np.genfromtxt(path + \"ACTPol_lcdm_1.txt\")\n",
    "names[\"parameter\"]"
   ]
  },
  {
   "cell_type": "markdown",
   "metadata": {},
   "source": [
    "### Making 1D parameter plots and 2D contour plots\n",
    "Now that we've read in the chain we cna look at the data more cloesly.  It's often useful to look at the 1D and 2D parameter plots, e.g. looking at just H0 or looking at H0 with Omega matter.\n",
    "\n",
    "In this section we will demonstrate two ways that users can look at both of these plots.  The first is a straightforward example using matplotlib to make 1D and 2D plots for this chain.  The other option is to use [GetDist](https://getdist.readthedocs.io/en/latest/), a public software developed by Antony Lewis (Lewis 2019) specifically for rendering CMB MCMC chains.\n",
    "\n",
    "We will start with the straightforward matplotlib example."
   ]
  },
  {
   "cell_type": "code",
   "execution_count": null,
   "metadata": {},
   "outputs": [],
   "source": [
    "# We begin with the 1D plot of H0\n",
    "\n",
    "# we use a histogram to look at the data here\n",
    "plt.figure(figsize = (7.5,5))\n",
    "plt.hist(chain[:,9], bins = 100, density = True)\n",
    "plt.xlabel(\"$H_0$ [km/s/MPc]\", fontsize = 16)\n",
    "plt.ylabel(\"Probability Density\", fontsize = 16)"
   ]
  },
  {
   "cell_type": "markdown",
   "metadata": {},
   "source": [
    "It's easy to generalize to multi-dimensional projections of the likelihood, e.g. by examining the joint distribution of $H_0$ and $\\Omega_m$ now:"
   ]
  },
  {
   "cell_type": "code",
   "execution_count": null,
   "metadata": {},
   "outputs": [],
   "source": [
    "# Now let's try a 2D example adding in Omega Matter\n",
    "\n",
    "# It's worth noting that since the first two columns of the chains are iteration and likelihood we add +2\n",
    "# to the column number shown above when calling the columns in our scatter plot (i.e. we want H0 which is the \n",
    "# 7th parameter above so we plot chain[:, 9]) to get H0\n",
    "\n",
    "plt.figure(figsize = (7.5, 5))\n",
    "plt.scatter(chain[:,9], chain[:,11])\n",
    "plt.ylabel(\"$\\Omega_m$\", fontsize = 16)\n",
    "plt.xlabel(\"$H_0$ [km/s/MPc]\", fontsize = 16)"
   ]
  },
  {
   "cell_type": "markdown",
   "metadata": {},
   "source": [
    "Let's now make the same plots using getdist.  We need to start by reading in the files again using the getdist approach.  From there we will walk through how to make the 2 plots above."
   ]
  },
  {
   "cell_type": "code",
   "execution_count": null,
   "metadata": {},
   "outputs": [],
   "source": [
    "from getdist import loadMCSamples, plots\n",
    "\n",
    "# Read in the samples\n",
    "samples = loadMCSamples(path + 'ACTPol_lcdm', path + \"ACTPol_lcdm_1.txt\")\n",
    "\n",
    "# Let's again start with the 1D version\n",
    "g =plots.get_single_plotter()\n",
    "g.plot_1d(samples, 'H0', marker_color='k')\n",
    "plt.show()"
   ]
  },
  {
   "cell_type": "code",
   "execution_count": null,
   "metadata": {},
   "outputs": [],
   "source": [
    "# We can now create a 2D contour plot using the samples we loaded above\n",
    "g = plots.get_single_plotter()\n",
    "g.plot_2d(samples, ['H0', 'omegam'], filled=True, )"
   ]
  },
  {
   "cell_type": "markdown",
   "metadata": {},
   "source": [
    "### Continue to next section:\n",
    "\n",
    "[Section 12](Section_12_delensing_param_shifts.ipynb):  Delensing the CMB powerspectrum and comparing the delensed and lensed parameters from [Han et al. 2020, in preparation]"
   ]
  },
  {
   "cell_type": "code",
   "execution_count": null,
   "metadata": {},
   "outputs": [],
   "source": []
  }
 ],
 "metadata": {
  "kernelspec": {
   "display_name": "Python 3",
   "language": "python",
   "name": "python3"
  },
  "language_info": {
   "codemirror_mode": {
    "name": "ipython",
    "version": 3
   },
   "file_extension": ".py",
   "mimetype": "text/x-python",
   "name": "python",
   "nbconvert_exporter": "python",
   "pygments_lexer": "ipython3",
   "version": "3.6.9"
  }
 },
 "nbformat": 4,
 "nbformat_minor": 4
}
