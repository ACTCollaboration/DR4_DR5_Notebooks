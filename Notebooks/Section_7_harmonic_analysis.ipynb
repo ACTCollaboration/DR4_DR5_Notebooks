{
 "cells": [
  {
   "cell_type": "markdown",
   "metadata": {},
   "source": [
    "# Section 7: Harmonic Analysis using CAR maps\n",
    "\n",
    "Now that users are able to import and examine data we present an introduction to harmonic analysis using the DR4 maps.  We will present an example of a simple ACT-Planck cross correlation but we encourage users to consider cross correlations with other maps or galaxy density maps.\n",
    "\n",
    "To return to the main notebook or to view a different section use the links in the table of contents.\n",
    "\n",
    "## Table of contents\n",
    "\n",
    " --- \n",
    "> [Section 1](Section_1_Introduction.ipynb): Introduction to AdvACT Data Release 4\n",
    "\n",
    "> [Section 2](Section_2_coadded_maps.ipynb): S08-18 Coadded maps and an Introduction to Pixell\n",
    "\n",
    "> [Section 3](Section_3_HEALPix_CAR_Conversions.ipynb):  Demonstration of methods to convert maps between HEALPix format and the CAR format.\n",
    "\n",
    "> [Section 4](Section_4_visualize_objects.ipynb):  Guide to using Pixell to look at objects in the maps and stacking our maps on catalogue positions.\n",
    "\n",
    "> [Section 5](Section_5_Lensing_maps.ipynb):  Introduction to the Lensing maps.\n",
    "\n",
    "> [Section 6](Section_6_Component_separated_maps.ipynb):  Guide to the use of the Component Separated maps.\n",
    "\n",
    "> [Section 7](Section_7_harmonic_analysis.ipynb):  Harmonic Analysis with CAR Maps\n",
    "\n",
    "> [Section 8](Section_8_individual_patches_and_power_spectrum.ipynb): Maps and Power Spectra of Individual Patches \n",
    "\n",
    "> [Section 9](Section_9_E_B_maps.ipynb):  Look at how to generate E and B maps from I, Q, U maps. \n",
    " \n",
    "---"
   ]
  },
  {
   "cell_type": "markdown",
   "metadata": {},
   "source": [
    "## Initialize notebook\n",
    "\n",
    "For this notebook we need tools from the first notebook as well as from the [coadded_maps notebook](Section_2_coadded_maps.ipynb) which reads in the ACT map, and then the [HEALPix_CAR_Conversions notebook](HEALPix_CAR_Conversions.ipynb) which reads in a planck map and converts it from HEALPix format to the CAR format used for ACT maps.\n",
    "\n",
    "Since the 3rd notebook runs the other two we just run the 3rd one here\n",
    "\n",
    "These commands output the maps produced in the other notebooks so if you would like to see a more in-depth explanation of how these maps are formed feel free to navigate to those notebooks by using the links above.\n"
   ]
  },
  {
   "cell_type": "code",
   "execution_count": null,
   "metadata": {},
   "outputs": [],
   "source": [
    "%run Section_3_HEALPix_CAR_Conversions.ipynb"
   ]
  },
  {
   "cell_type": "markdown",
   "metadata": {},
   "source": [
    "## Begin Harmonic Analysis"
   ]
  },
  {
   "cell_type": "markdown",
   "metadata": {
    "colab_type": "text",
    "id": "ydVE2Jvup42D"
   },
   "source": [
    "### Fourier transforms using Enmap\n",
    "\n",
    "We will begin by trimming both ACT and Planck maps to the same size, and then we use enmap's functions to Fourier transform the map using the 'flat-sky' approximation.  "
   ]
  },
  {
   "cell_type": "markdown",
   "metadata": {
    "colab_type": "text",
    "id": "NmgGCGw4XTI3"
   },
   "source": [
    "Before Fourier transforming the maps it is necessary to apodize the edges of the maps so that periodic boundary conditions apply.  This can easily be done using the enmap library of functions. The taper can be adjusted by changing the 'apod_pix' variable which adjusts the number of pixels that are apodized.\n",
    "\n",
    "Here we chose to display only the I maps, however, the Q and U maps can of course be tapered in the same manner if desired."
   ]
  },
  {
   "cell_type": "code",
   "execution_count": null,
   "metadata": {
    "colab": {
     "base_uri": "https://localhost:8080/",
     "height": 771
    },
    "colab_type": "code",
    "id": "iUdhiRPwXUk2",
    "outputId": "7334434e-f07c-4b69-8d9e-6a4038caf2cf"
   },
   "outputs": [],
   "source": [
    "# Trim Maps\n",
    "box = np.array([[-28,40],[-12,-40]])*utils.degree\n",
    "smap_act    = smap_2.submap(box)\n",
    "smap_planck = planck_map.submap(box)\n",
    "\n",
    "# Define taper using enmap.apod and then plot the taper\n",
    "apod_pix = 100\n",
    "taper    = enmap.apod(smap_act*0+1,apod_pix) #Ensures the taper map has the same shape and wcs as the data\n",
    "print(\"Apodization\")\n",
    "eshow(taper,  **{\"downgrade\": 4, \"ticks\": 2})\n",
    "\n",
    "# Apply taper to the two maps by multiplying the taper and maps together\n",
    "print(\"Apodized ACT map\")\n",
    "eshow(taper*smap_act, **{\"downgrade\": 4,  \"ticks\": 2})\n",
    "\n",
    "print(\"Apodized Plank map\")\n",
    "eshow(taper*smap_planck[0], **{\"downgrade\": 4,  \"ticks\": 2})"
   ]
  },
  {
   "cell_type": "markdown",
   "metadata": {
    "colab_type": "text",
    "id": "DbwnvS7K2xhY"
   },
   "source": [
    "Now that we have the apodized maps we can begin the harmonic analysis.  \n",
    "\n",
    "Step one is to use enmap to get a Fourier transformation of the map.  For ease of use we set the normalization of the Fourier transformation to physical by passing the 'phys' parameter.  This makes Pixell take into account pixel area factors when calculating the power, and results in power spectra with steradians as the unit of area.\n",
    "\n",
    "Once you have the Fourier transformed map it is possible to make a naive power spectra by multiplying by the transform conjugate and then binning the spectra.\n",
    "\n",
    "One thing we note is that Pixell has a function that lets you call the 'modlmap' of a ndmap.  This is a map that gives the distance in Fourier space of each pixel to the center of the map.  It's particularly useful for binning the power spectra and we will use it in the binning function below.\n",
    "\n",
    "In order to get the Planck maps in $\\mu$K we multiply by a factor of $10^6$ [this is fixed in Section 3 now in the latest version of pixell.reproject] "
   ]
  },
  {
   "cell_type": "code",
   "execution_count": null,
   "metadata": {
    "colab": {},
    "colab_type": "code",
    "id": "c_m9efrwt4Mj"
   },
   "outputs": [],
   "source": [
    "# Fourier transform the map:\n",
    "kmap_act = enmap.fft(smap_act*taper, normalize = 'phys')\n",
    "kmap_planck = enmap.fft(smap_planck[0]*taper, normalize = 'phys')\n",
    "\n",
    "# Get cross power\n",
    "cross_power = abs(kmap_act*np.conj(kmap_planck))\n",
    "\n",
    "# Define a function that can bin the power by Fourier component magnitude\n",
    "# This is the flat sky equivalent of \"ell\"\n",
    "def bin(data, imap, lmax, bin_size):\n",
    "    modlmap = imap.modlmap()\n",
    "\n",
    "    # Define the bins and bin centers\n",
    "    bins = np.arange(0, lmax, bin_size)\n",
    "    centers = (bins[1:] + bins[:-1])/2.\n",
    "\n",
    "    # Bin the power spectrum \n",
    "    digitized = np.digitize(np.ndarray.flatten(modlmap), bins, right=True)\n",
    "    binned = np.bincount(digitized, data.reshape(-1))[1:-1]/np.bincount(digitized)[1:-1]\n",
    "    return centers, binned\n",
    "\n",
    "# The Taper we applied earlier effects the power spectrum. \n",
    "# Pixell doesn't have the capability to fully account for the taper\n",
    "# But we can get an approximate correction by dividing out the following term\n",
    "w2 = np.mean(taper**2)\n",
    "\n",
    "ell_b, binned_cross_power = bin(cross_power/w2, smap_act, lmax = 6000, bin_size = 40)"
   ]
  },
  {
   "cell_type": "markdown",
   "metadata": {
    "colab_type": "text",
    "id": "fuNVtsDNu2j0"
   },
   "source": [
    "Now that we've binned the power spectrum we made we can plot it quickly to have a look at it."
   ]
  },
  {
   "cell_type": "code",
   "execution_count": null,
   "metadata": {
    "colab": {
     "base_uri": "https://localhost:8080/",
     "height": 397
    },
    "colab_type": "code",
    "id": "JyEJ0Ma5serY",
    "outputId": "0e221618-ac4b-4a24-a8ce-507931ee5e80"
   },
   "outputs": [],
   "source": [
    "# Read in a camb fiducial spectrum for comparison\n",
    "from pixell import powspec\n",
    "camb_theory = powspec.read_spectrum(path + \"camb_theory.dat\")\n",
    "cltt = camb_theory[0,0,:3000]\n",
    "ls = np.arange(cltt.size)\n",
    "\n",
    "# Now plot the quick powerspectrum we just made\n",
    "plt.figure(figsize = (8,6))\n",
    "plt.rc('font', family='serif')\n",
    "\n",
    "plt.plot(ls, cltt*ls**2., lw=3, color='k', label = \"fiducial\")\n",
    "plt.plot(ell_b, ell_b**2*binned_cross_power, marker=\"o\", ls=\"none\",\n",
    "         label = \"150 GHz ACT + Planck Coadd x 143 GHz Planck\")\n",
    "plt.yscale('log')\n",
    "plt.xlabel('$\\\\ell$', fontsize = 15)\n",
    "plt.ylabel('$D_{\\\\ell}$', fontsize = 15)\n",
    "plt.xlim(0, 5000)\n",
    "plt.ylim(.1, 1e5)\n",
    "plt.grid(True)\n",
    "plt.legend(fontsize = 14)\n",
    "plt.show()"
   ]
  },
  {
   "cell_type": "markdown",
   "metadata": {},
   "source": [
    "We see two prominent features in this cross-spectrum: for intermediate $l$, there is some \"missing\" cross-power with respect to the fiducial curve. At high $l$, the data has a rising cross-power \"tail,\" while the fiducial spectrum continues to fall off.\n",
    "\n",
    "Generally speaking, the former feature is due to a combination of the damping effect of the various transfer functions in the experiments (e.g. Planck's wider beam), which we haven't accounted for. The latter captures the contribution from small-scale features in the maps, such as point sources and high-frequency noise. \n",
    "\n",
    "As a quick demonstration of the difference in the two experiments, we can plot the ACT-only power spectrum (i.e. the ACT autospectrum)."
   ]
  },
  {
   "cell_type": "code",
   "execution_count": null,
   "metadata": {},
   "outputs": [],
   "source": [
    "# Get ACT power\n",
    "auto_power = abs(kmap_act*np.conj(kmap_act))\n",
    "\n",
    "ell_b, binned_auto_power = bin(auto_power/w2, smap_act, lmax = 6000, bin_size = 40)\n",
    "\n",
    "# Plot the ACT autospectrum\n",
    "plt.figure(figsize = (8,6))\n",
    "plt.rc('font', family='serif')\n",
    "\n",
    "plt.plot(ls, cltt*ls**2., lw=3, color='k', label = \"fiducial\")\n",
    "plt.plot(ell_b, ell_b**2*binned_cross_power, marker=\"o\", ls=\"none\",\n",
    "         label = \"150 GHz ACT + Planck Coadd x 143 GHz Planck\")\n",
    "plt.plot(ell_b, ell_b**2*binned_auto_power, marker=\"o\", ls=\"none\",\n",
    "         label = \"150 GHz ACT + Planck Coadd Autospectrum\")\n",
    "plt.yscale('log')\n",
    "plt.xlabel('$\\\\ell$', fontsize = 15)\n",
    "plt.ylabel('$D_{\\\\ell}$', fontsize = 15)\n",
    "plt.xlim(0, 5000)\n",
    "plt.ylim(.1, 1e5)\n",
    "plt.grid(True)\n",
    "plt.legend(fontsize = 14)\n",
    "plt.show()"
   ]
  },
  {
   "cell_type": "markdown",
   "metadata": {},
   "source": [
    "As expected, we recover some of the intermediate $l$ power. On the other hand, we lose the benefit of having uncorrelated (really, less-correlated) noise between the two maps, so the power of the high $l$ tail has increased."
   ]
  },
  {
   "cell_type": "markdown",
   "metadata": {
    "colab_type": "text",
    "id": "LsvxgUOow66A"
   },
   "source": [
    "## Spherical harmonics using Pixell\n",
    "\n",
    "We turn now to Pixell's curvedsky functions that enable spherical harmonic analysis of the patches.  The process is very similar to what one would do using the HEALPix library.  We will get alms from the maps; from there we get the cls from the alms. \n",
    "\n",
    "Again we want to weight our power spectrum by an area correction factor as well as the taper we've applied."
   ]
  },
  {
   "cell_type": "code",
   "execution_count": null,
   "metadata": {
    "colab": {},
    "colab_type": "code",
    "id": "1XfDsDTtvmlQ"
   },
   "outputs": [],
   "source": [
    "from pixell import curvedsky \n",
    "\n",
    "# First we get the alms\n",
    "alms_act = np.cdouble(curvedsky.map2alm(smap_act*taper, lmax = 6000))\n",
    "alms_planck = np.cdouble(curvedsky.map2alm(smap_planck*taper, lmax = 6000)[0])\n",
    "\n",
    "# Next step we get the cls using healpy\n",
    "cls = hp.alm2cl(alms_act, alms_planck)\n",
    "\n",
    "# We also want the corresponding ells which we can get easily\n",
    "ell = np.arange(len(cls))\n",
    "\n",
    "# Now we calculate the weighting we have to apply to our spectrum due to the \n",
    "# trimmed size\n",
    "w2_new = enmap.area(smap_act.shape, smap_act.wcs)/4./np.pi\n",
    "\n",
    "# Now we combine these to get the Dls\n",
    "Dl = cls*ell**2 / w2_new "
   ]
  },
  {
   "cell_type": "code",
   "execution_count": null,
   "metadata": {
    "colab": {
     "base_uri": "https://localhost:8080/",
     "height": 409
    },
    "colab_type": "code",
    "id": "1pm1oIZxEa5T",
    "outputId": "5d4a6222-7d48-444d-e08c-06aa72d26e41"
   },
   "outputs": [],
   "source": [
    "# Now we can plot our power spectrum\n",
    "plt.figure(figsize = (8,6))\n",
    "plt.rc('font', family='serif')\n",
    "plt.grid(True)\n",
    "plt.plot(ls,cltt*ls**2.,lw=3,color='k', label = \"fiducial\")\n",
    "plt.plot(ell_b,ell_b**2*binned_power,marker=\"o\",ls=\"none\", label = \"Fourier Transform\")\n",
    "plt.plot(ell, Dl, '.', label = \"Spherical harmonics\")\n",
    "plt.yscale('log')\n",
    "plt.xlabel('$\\\\ell$', fontsize = 15)\n",
    "plt.ylabel('$D_{\\\\ell}$', fontsize = 15)\n",
    "plt.title(\"Placnk 143 GHz x ACT + Planck 150 GHz Coadd\", fontsize = 15)\n",
    "plt.ylim(.01 ,1e6)\n",
    "plt.legend(fontsize = 14)\n",
    "plt.show()"
   ]
  },
  {
   "cell_type": "markdown",
   "metadata": {
    "colab_type": "text",
    "id": "pcCSvUNnlinO"
   },
   "source": [
    "In the plot above we can quite clearly see some of the acoustic oscillations as we would expect, and the agreement with the fiducial spectrum has improved versus the flat sky approximation at high $l$. However, there are still a few glaring problems.  Firstly, the spectrum  hasn't been corrected for beams or other pixel transfer functions both of which would need to be done for a true analysis.  This effect is easily noticeable at intermediate $l$ where our power spectra underestimates the fiducial spectrum. Also, we didn't mask point sources which can be done using the correct Planck mask and the source free ACT maps (the spectrum still plateaus at high $l$).\n",
    "\n",
    "Furthermore we account for the window function using a relatively simple approach, however, to truly decouple it one should use a program such as **Namaster**, **pspy** or **pitas** which explicitly decouple the window functions.\n",
    "\n",
    "Finally it's important to realize that calculating the error for any cross correlations would need to include knowledge of the noise model which is currently not complete.  \n",
    "\n",
    "Despite the limitations, quick and useful power spectra can be made relatively easily using this approach and can be done with galaxy density maps or other CMB maps."
   ]
  },
  {
   "cell_type": "markdown",
   "metadata": {},
   "source": [
    "### Continue to the next section\n",
    "\n",
    "[Section 8](Section_8_individual_patches_and_power_spectrum.ipynb): Maps and Power Spectra of Individual Patches "
   ]
  },
  {
   "cell_type": "code",
   "execution_count": null,
   "metadata": {},
   "outputs": [],
   "source": []
  }
 ],
 "metadata": {
  "kernelspec": {
   "display_name": "Python 3",
   "language": "python",
   "name": "python3"
  },
  "language_info": {
   "codemirror_mode": {
    "name": "ipython",
    "version": 3
   },
   "file_extension": ".py",
   "mimetype": "text/x-python",
   "name": "python",
   "nbconvert_exporter": "python",
   "pygments_lexer": "ipython3",
   "version": "3.7.3"
  }
 },
 "nbformat": 4,
 "nbformat_minor": 4
}
