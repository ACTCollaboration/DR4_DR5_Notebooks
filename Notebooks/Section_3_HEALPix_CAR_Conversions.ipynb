{
 "cells": [
  {
   "cell_type": "markdown",
   "metadata": {},
   "source": [
    "# Section 3: Converting Between CAR and HEALPix Maps\n",
    "\n",
    "Pixell is designed to allow users to convert maps between HEALPix format and ndmap format.  This is particularly useful for users interested in comparing maps readily available as HEALPix maps to ACT maps.  The following code demonstrates a simple reprojection from one format to another.\n",
    "\n",
    "To return to the main notebook or to view a different section use the links in the table of contents.\n",
    "\n",
    "## Table of contents\n",
    "\n",
    " --- \n",
    "> [Section 1](Section_1_Introduction.ipynb): Introduction to AdvACT Data Release 4\n",
    "\n",
    "> [Section 2](Section_2_coadded_maps.ipynb): S08-18 Coadded maps from [Naess et al. (2020)](https://www.overleaf.com/5395816498bsknshgxbmyr) and an Introduction to Pixell\n",
    "\n",
    "> [Section 3](Section_3_HEALPix_CAR_Conversions.ipynb):  Demonstration of methods to convert maps between HEALPix format and the CAR format.\n",
    "\n",
    "> [Section 4](Section_4_visualize_objects.ipynb):  Guide to using Pixell to look at objects in the maps and stacking our maps on catalogue positions.\n",
    "\n",
    "> [Section 5](Section_5_Lensing_maps.ipynb):  Introduction to the Lensing maps from [Darwish et al](https://arxiv.org/pdf/2004.01139.pdf)\n",
    "\n",
    "> [Section 6](Section_6_delensing_param_shifts.ipynb):  Delensing the CMB powerspectrum and comparing the delensed and lensed parameters from [Han et al. 2020, in preparation]\n",
    "\n",
    "> [Section 7](Section_7_Component_separated_maps.ipynb):  Guide to the use of the Component Separated maps from [Madhavacheril et al. (2020)](https://arxiv.org/abs/1911.05717)\n",
    "\n",
    "> [Section 8](Section_8_individual_maps_and_harmonic_analysis.ipynb): Maps of Individual Patches and Harmonic Analysis using CAR maps [Aiola et al, in preparation]\n",
    "\n",
    "> [Section 9](Section_9_Noise_sims.ipynb): Generating Noise Simulations \n",
    "\n",
    "> [Section 10](Section_10_E_B_maps.ipynb):  Look at how to generate E and B maps from I, Q, U maps. \n",
    "\n",
    "> [Section 11](Section_11_ACT_likelihood.ipynb): Using the ACT Likelihood code\n",
    " \n",
    "---\n",
    "\n"
   ]
  },
  {
   "cell_type": "markdown",
   "metadata": {},
   "source": [
    "## Initialize notebook\n",
    "\n",
    "For this notebook we want to use parts of notebook 1 and notebook 2, since notebook 2 already runs the first notebook internally we can just run [section 2 notebook](Section_2_coadded_maps.ipynb).\n",
    "\n",
    "This call will print out the maps produced by the previous notebook so feel free to go back to that notebook if you would like an understanding of how these maps are produced."
   ]
  },
  {
   "cell_type": "code",
   "execution_count": null,
   "metadata": {},
   "outputs": [],
   "source": [
    "%run Section_2_coadded_maps.ipynb"
   ]
  },
  {
   "cell_type": "markdown",
   "metadata": {},
   "source": [
    "## Begin Converting Between HEALPix and CAR\n",
    "\n",
    "\n",
    "When reprojecting it's helpful to keep in mind that Pixell automatically rotates maps from Planck's Galactic projection to Equatorial; if you are projecting a map from other coordinates, a different rotation may be needed. \n",
    "\n",
    "Note that projections work by finding the spherical harmonic transformation of the HEALPix map to alm's and then inversely transforms the alm's to the rectangular pixel map geometry.  \n",
    "\n",
    "Finally for anyone in looking at small patches of the sky we encourage you to use the maps in CAR format with Pixell as it enables users to reference patches in a way that HEALPix can't do."
   ]
  },
  {
   "cell_type": "markdown",
   "metadata": {},
   "source": [
    "### Convert a planck HEALPix map to CAR"
   ]
  },
  {
   "cell_type": "code",
   "execution_count": null,
   "metadata": {
    "colab": {
     "base_uri": "https://localhost:8080/",
     "height": 517
    },
    "colab_type": "code",
    "id": "EzoGdFGGnLaf",
    "outputId": "1c346922-c9a4-4ac8-c7bb-1256a3ed7d48"
   },
   "outputs": [],
   "source": [
    "# Read in Planck Map\n",
    "pmap_fname = path + \"HFI_SkyMap_143_2048_R2.02_full.fits\"\n",
    "\n",
    "# Reproject the map to the same shape and wcs as our smap_2 from the previous notebook (linked in the table of contents as section 2)\n",
    "# Use the \"unit\" argument to convert Planck from Kelvin to uKelvin\n",
    "planck_map = reproject.enmap_from_healpix(pmap_fname, smap_2.shape, smap_2.wcs,\n",
    "                                  ncomp=1, unit=1e-6, lmax=6000,rot='gal,equ')\n",
    "\n",
    "# Visualize using eshow\n",
    "eshow(planck_map, **{\"downgrade\": 8, \"colorbar\":True, \"ticks\": 10, })"
   ]
  },
  {
   "cell_type": "markdown",
   "metadata": {
    "colab_type": "text",
    "id": "ez7Hxepwq7Vl"
   },
   "source": [
    "### Convert a CAR map to HEALPix \n",
    "\n",
    "We can also take our trimmed ACT map and project it to the HEALPix format using reproject as shown here."
   ]
  },
  {
   "cell_type": "code",
   "execution_count": null,
   "metadata": {
    "colab": {
     "base_uri": "https://localhost:8080/",
     "height": 421
    },
    "colab_type": "code",
    "id": "lynqOoHsvp_z",
    "outputId": "da8f5006-2de1-4a89-be83-ddebc0562dd6"
   },
   "outputs": [],
   "source": [
    "# Convert an ndmap map to HEALPix\n",
    "smap_healpix = reproject.healpix_from_enmap(smap_2, lmax = 6000, nside = 512)\n",
    "\n",
    "# Plot using healpy\n",
    "lonra = np.sort(smap_2.box()[:, 1])/utils.degree\n",
    "latra = np.sort(smap_2.box()[:, 0])/utils.degree\n",
    "rang = 300\n",
    "\n",
    "hp.cartview(smap_healpix, lonra = lonra, latra = latra, min = -rang, max = rang, \n",
    "            cmap = cm.get_cmap('RdYlBu'))"
   ]
  },
  {
   "cell_type": "markdown",
   "metadata": {},
   "source": [
    "Keep in mind that these reprojection methods bandlimit the result according to the parameter \"lmax.\" See the Pixell documentation for more information."
   ]
  },
  {
   "cell_type": "markdown",
   "metadata": {},
   "source": [
    "### Continue to the next section\n",
    "\n",
    "[Section 4](Section_4_visualize_objects.ipynb):  Guide to using Pixell to look at objects in the maps and stacking our maps on catalogue positions."
   ]
  }
 ],
 "metadata": {
  "kernelspec": {
   "display_name": "Python 3",
   "language": "python",
   "name": "python3"
  },
  "language_info": {
   "codemirror_mode": {
    "name": "ipython",
    "version": 3
   },
   "file_extension": ".py",
   "mimetype": "text/x-python",
   "name": "python",
   "nbconvert_exporter": "python",
   "pygments_lexer": "ipython3",
   "version": "3.7.3"
  }
 },
 "nbformat": 4,
 "nbformat_minor": 4
}
