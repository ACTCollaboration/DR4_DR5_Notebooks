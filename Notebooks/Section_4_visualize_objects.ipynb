{
 "cells": [
  {
   "cell_type": "markdown",
   "metadata": {},
   "source": [
    "# Section 4: Use a catalog to visualize objects in the map\n",
    "\n",
    "This notebook will demonstrate how a catalog can be used to visualize objects in the maps and will also show users how to stack on the pointsources in the catalog.\n",
    "\n",
    "To return to the main notebook or to view a different section use the links in the table of contents.\n",
    "\n",
    "## Table of contents\n",
    "\n",
    " --- \n",
    "> [Section 1](Section_1_Introduction.ipynb): Introduction to AdvACT Data Release 4\n",
    "\n",
    "> [Section 2](Section_2_coadded_maps.ipynb): S08-18 Coadded maps and an Introduction to Pixell\n",
    "\n",
    "> [Section 3](Section_3_HEALPix_CAR_Conversions.ipynb):  Demonstration of methods to convert maps between HEALPix format and the CAR format.\n",
    "\n",
    "> [Section 4](Section_4_visualize_objects.ipynb):  Guide to using Pixell to look at objects in the maps and stacking our maps on catalogue positions.\n",
    "\n",
    "> [Section 5](Section_5_Lensing_maps.ipynb):  Introduction to the Lensing maps.\n",
    "\n",
    "> [Section 6](Section_6_delensing_param_shifts):  Delensing the CMB powerspectrum and comparing the delensed and lensed parameters\n",
    "\n",
    "> [Section 7](Section_7_Component_separated_maps.ipynb):  Guide to the use of the Component Separated maps.\n",
    "\n",
    "> [Section 8](Section_8_individual_maps_and_harmonic_analysis): Maps of Individual Patches and Harmonic Analysis using CAR maps\n",
    "\n",
    "> [Section 9](Section_9_E_B_maps.ipynb):  Look at how to generate E and B maps from I, Q, U maps. \n",
    " \n",
    "---"
   ]
  },
  {
   "cell_type": "markdown",
   "metadata": {},
   "source": [
    "## Initialize notebook\n",
    "\n",
    "For this notebook we want to use parts of notebook 1 and notebook 2, since notebook 2 already runs the first notebook internally we can just run notebook 2."
   ]
  },
  {
   "cell_type": "code",
   "execution_count": null,
   "metadata": {},
   "outputs": [],
   "source": [
    "%run Section_2_coadded_maps.ipynb"
   ]
  },
  {
   "cell_type": "markdown",
   "metadata": {},
   "source": [
    "## Begin Analysis"
   ]
  },
  {
   "cell_type": "markdown",
   "metadata": {
    "colab_type": "text",
    "id": "PF92UVTxtOh6"
   },
   "source": [
    "In the maps above it's already possible to see a few galaxy clusters just by visually examining the map.  However it would be great to be able to look at these more closely.  One option is to use a catalog of clusters and compare the catalog to the map.  In order to do so we need to get the RA and DEC of the relevant sources and then cut a box surrounding that location."
   ]
  },
  {
   "cell_type": "code",
   "execution_count": null,
   "metadata": {
    "colab": {},
    "colab_type": "code",
    "id": "kCj6mwWQP3px"
   },
   "outputs": [],
   "source": [
    "from astropy.io import fits\n",
    "\n",
    "# Read in ras and decs from a cluster catalog\n",
    "\n",
    "hdu = fits.open(path + 'E-D56Clusters.fits')\n",
    "ras = hdu[1].data['RADeg']\n",
    "decs = hdu[1].data['DECDeg']"
   ]
  },
  {
   "cell_type": "markdown",
   "metadata": {
    "colab_type": "text",
    "id": "mG5bAZF4P-H1"
   },
   "source": [
    "One way to look at a source is to build another box and take a stamp.  Let's make the box slightly smaller this time in order to hone in on the objects we are interested in.  \n",
    "\n",
    "This time we will use enplot's upgrade feature in order to plot a larger image of the object."
   ]
  },
  {
   "cell_type": "code",
   "execution_count": null,
   "metadata": {
    "colab": {
     "base_uri": "https://localhost:8080/",
     "height": 336
    },
    "colab_type": "code",
    "id": "amE6DZdmP-aZ",
    "outputId": "1d7db7bc-556b-4dc4-e8c7-71c39606a7f5"
   },
   "outputs": [],
   "source": [
    "# Choose an object from the catalog\n",
    "ra, dec = np.deg2rad([ras[16],decs[16]])\n",
    "width = np.deg2rad(30./60.)\n",
    "\n",
    "# Build the box around the object and cut out a submap from the larger map\n",
    "box = [[dec-width/2.,ra-width/2.],[dec+width/2.,ra+width/2.]]\n",
    "stamp = imap.submap(box)\n",
    "\n",
    "# Visualize the submap\n",
    "eshow(stamp, **{\"upgrade\": 5, \"ticks\": 0.1, \"colorbar\": True})"
   ]
  },
  {
   "cell_type": "markdown",
   "metadata": {
    "colab_type": "text",
    "id": "7wuon2PcQDH3"
   },
   "source": [
    "## Stacking point sources and using reproject\n",
    "\n",
    "If we want to stack objects in the map it's relatively easy to do so, but we need to use a slightly different approach.  Instead of using a bounding box and cutting a submap from the map we can use pixell's reproject.postage_stamp function to cut out \"stamps\" that are reprojected at the center of each object. \n",
    "\n",
    "Reprojecting means that we avoid stacking point sources that are distorted due to the rectangular projection of the overall map, as the reprojection will automatically center the \"stamp\" on each individual point source. Users can specify the type of projection using the \"proj\" keyword. The default is a \"gnomonic\" projection, but since our stamp size is small, we can keep everything as \"car\" and continue to use our handy eshow function to build plots."
   ]
  },
  {
   "cell_type": "code",
   "execution_count": null,
   "metadata": {},
   "outputs": [],
   "source": [
    "#Reproject the above source and plot\n",
    "stamp = reproject.postage_stamp(inmap = imap , ra_deg = ras[16], dec_deg = decs[16], width_arcmin = 30.,\n",
    "                  res_arcmin = .5, proj = 'car')\n",
    "eshow(stamp, **{\"upgrade\": 5, \"ticks\": 0.1, \"colorbar\": True})"
   ]
  },
  {
   "cell_type": "markdown",
   "metadata": {},
   "source": [
    "We see the utility of reproject.postage_stamp in action: the source is now centered in the new coordinates! Now we stack all of the reprojected sources:"
   ]
  },
  {
   "cell_type": "code",
   "execution_count": null,
   "metadata": {
    "colab": {
     "base_uri": "https://localhost:8080/",
     "height": 265
    },
    "colab_type": "code",
    "id": "zNeonpiJQBQf",
    "outputId": "1d58d7bc-e62b-4f18-ac5b-7d0c1cca36a6"
   },
   "outputs": [],
   "source": [
    "N = len(ras)\n",
    "stack = 0\n",
    "\n",
    "for i in range(N):\n",
    "    # Extract stamps by reprojecting the map at the center of each source.\n",
    "    # the 'postage_stamp' option here is designed to trim each reprojection so we\n",
    "    # are left with a stack of point sources in a map of width 30 arc minutes\n",
    "    stamp = reproject.postage_stamp(inmap = imap , ra_deg = ras[i], dec_deg = decs[i], width_arcmin = 30.,\n",
    "                  res_arcmin = .5, proj = 'car')\n",
    "    if stamp is None: continue\n",
    "    stack += stamp[0]\n",
    "    \n",
    "stack /= N\n",
    "eshow(stack, **{\"upgrade\": 5, \"ticks\": 0.1, \"colorbar\": True})"
   ]
  },
  {
   "cell_type": "markdown",
   "metadata": {},
   "source": [
    "It looks like the average source in our catalog is a well-defined cold spot in the CMB. This is qualitatively consistent with our understanding of a typical thermal-SZ cluster observed at 150 GHz (see e.g. [this article](https://ned.ipac.caltech.edu/level5/Sept05/Carlstrom/Carlstrom2.html) from NED [CITATION]). We examine tSZ clusters in  more detail in [Section 6](Section_6_Component_separated_maps.ipynb)."
   ]
  },
  {
   "cell_type": "markdown",
   "metadata": {
    "colab_type": "text",
    "id": "UqVls-28Fe6d"
   },
   "source": [
    "## Plot Messier objects\n",
    "\n",
    "While users are free to search for objects in the maps using catalogs we've also provided a tool to plot random Messier objects from our maps below.  You can enter the Messier number of an object you'd like to look at or feel free to let the function generate an object at random."
   ]
  },
  {
   "cell_type": "code",
   "execution_count": null,
   "metadata": {
    "colab": {},
    "colab_type": "code",
    "id": "oo7ibM5he28W"
   },
   "outputs": [],
   "source": [
    "from astropy.io import ascii\n",
    "import astropy.coordinates as coord\n",
    "import astropy.units as u\n",
    "import random "
   ]
  },
  {
   "cell_type": "code",
   "execution_count": null,
   "metadata": {
    "colab": {},
    "colab_type": "code",
    "id": "DtqkPlJxGT2E"
   },
   "outputs": [],
   "source": [
    "def plot_messier(M = None):\n",
    "    # M should be an integer \n",
    "\n",
    "    # read in a table of messier objects that overlap with our feild of view\n",
    "    tbl = ascii.read(path + \"messier_objs.csv\", encoding = \"utf-8-sig\")\n",
    "\n",
    "    # Check if user has given an object to look for\n",
    "    if M != None:\n",
    "        M = str('M') + str(M)\n",
    "        A = list(tbl['M'])\n",
    "        if M in A:\n",
    "            obj = tbl[A.index(M)]\n",
    "        else:\n",
    "            print(\"Sorry that object isn't visible in this map\")\n",
    "\n",
    "    # If no object is given select a random one\n",
    "    if M == None:\n",
    "        obj = tbl[random.randrange(0, len(tbl))] \n",
    "\n",
    "    # Get the RA and DEC of the object\n",
    "    ra = coord.Angle(obj[\"RA\"], unit=u.hour) \n",
    "    dec = coord.Angle(obj[\"Declination\"], unit = u.degree) \n",
    "\n",
    "    # Get a plot of the object\n",
    "    stamp = reproject.postage_stamp(inmap = imap , ra_deg = ra.degree, \\\n",
    "              dec_deg = dec.degree, width_arcmin = 20., res_arcmin = .5)\n",
    "\n",
    "\n",
    "    # Establish name for the object, if the common name is given use that, if not \n",
    "    # we just use the NGC and M indentifiers\n",
    "    if type(obj[\"Common Name\"] ) == np.str_:\n",
    "        name = str(obj[\"Common Name\"])  + str(' NGC: ') + str(obj[\"NGC\"]) + \\\n",
    "        str(' ') + str(obj[\"M\"])\n",
    "    else:\n",
    "        name = str('NGC: ') + str(obj[\"NGC\"])+ str(' ') + str(obj[\"M\"])\n",
    "\n",
    "    # Plot the object \n",
    "    plt.imshow((stamp[0]))\n",
    "    plt.title(name)\n",
    "    plt.show()\n",
    "\n",
    "    return \n"
   ]
  },
  {
   "cell_type": "code",
   "execution_count": null,
   "metadata": {
    "colab": {
     "base_uri": "https://localhost:8080/",
     "height": 280
    },
    "colab_type": "code",
    "id": "fi4KFCUqGVDy",
    "outputId": "4253ba53-4c71-4c7e-dd6c-7a9a3935e8b6"
   },
   "outputs": [],
   "source": [
    "# Try this a few times - some of the objects may be clearer than others\n",
    "plot_messier()"
   ]
  },
  {
   "cell_type": "markdown",
   "metadata": {},
   "source": [
    "### Continue to the next section\n",
    "\n",
    "[Section 5](Section_5_Lensing_maps.ipynb):  Introduction to the Lensing maps."
   ]
  }
 ],
 "metadata": {
  "kernelspec": {
   "display_name": "Python 3",
   "language": "python",
   "name": "python3"
  },
  "language_info": {
   "codemirror_mode": {
    "name": "ipython",
    "version": 3
   },
   "file_extension": ".py",
   "mimetype": "text/x-python",
   "name": "python",
   "nbconvert_exporter": "python",
   "pygments_lexer": "ipython3",
   "version": "3.6.9"
  }
 },
 "nbformat": 4,
 "nbformat_minor": 4
}
