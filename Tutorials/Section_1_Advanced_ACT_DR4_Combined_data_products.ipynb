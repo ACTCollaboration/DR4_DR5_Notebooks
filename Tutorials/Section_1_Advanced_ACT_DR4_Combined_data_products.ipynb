{
 "cells": [
  {
   "cell_type": "markdown",
   "metadata": {
    "colab_type": "text",
    "id": "6DA_syE9TrBh"
   },
   "source": [
    "# Overview and Introduction"
   ]
  },
  {
   "cell_type": "markdown",
   "metadata": {
    "colab_type": "text",
    "id": "BiWWr-eSpHLu"
   },
   "source": [
    "This notebook provides an overview of the Advanced ACTPol (AdvACT) data release 4 (DR4) data products and an introduction to accessing and manipulating these products.  The data products (summarized in Table 1)  include temperature and polarization maps, a lensing map, and component seperated maps. \n",
    "\n",
    "DR4 contains raw maps at 90, and 150 GHz covering nearly half the sky as well as co-adds of the 90, 150 and 220 GHz channels.  Previous analyses used only ~650 sq deg of sky; this data release provides maps that cover ~ 18,000 sq degrees.  We provide these maps both independently and combined with data from the Planck satellite.  For more details on the coadded data products and to understand the methods used to produce the maps please reference [Naess et al. (2020)](https://www.overleaf.com/5395816498bsknshgxbmyr). \n",
    "\n",
    "---\n",
    "Table 1: Overview of Data Products\n",
    "---\n",
    "\n",
    "Product type | Maps | Area Covered| Other products\n",
    "---|---|---|---\n",
    "Season 08 - 18 Coadded Maps| T, Q, U @ 90,150 and 220 GHz  | ~18,000 sq degrees | beams, inverse variance (hit count maps), ACT only as well as ACT+Planck maps\n",
    "Season 13 - 16 raw maps| T, Q, U @ 90 and 150 GHz | ~ 17,000 sq degrees | Individual splits, beams, inverse variance, source free maps\n",
    "Lensing Maps| | ~2100 sq degrees |  Masks, simulations\n",
    "Component Separated maps| Compton-y maps and CMB + kSZ | ~2100 sq degrees | Masks, Beams and Noise, ACT only as well as ACT+Planck maps\n",
    "\n",
    "\n",
    "\n",
    "\n",
    "---\n",
    "  \n",
    "\n",
    "DR4 includes the lensing maps discussed in [Darwish et al. (2020)](https://arxiv.org/pdf/2004.01139.pdf/).  The maps are constructed using two frequency bands, 98 GHz and 150 GHz and data from seasons 2014 - 2015 in two regions of the sky, BOSS-North ( \\~1633 sq. degrees of sky) and D56 (\\~ 456 sq. degrees). \n",
    "\n",
    "We also include component separated maps in the D56 and BOSS-North regions.  These maps include CMB+kSZ maps and Compton-$y$ maps along with versions of these maps the specifically deproject individual components.  These maps can be used to study the pressure profiles of galaxies, groups and clusters as well as for lensing reconstruction and kinematic SZ cross-correlations [Madhavacheril et al. (2020)](https://www.overleaf.com/read/hnjnxpzgrrtp).\n",
    "\n",
    "Finally we include raw maps that include night time data from Season 13 through 16 at 98 and 150 GHz.  The maps cover more than 17,000 sq degrees, with the deepest 600 sq degrees having noise levels below 10µK–arcmin.  These maps won't be used in this notebook but are discussed in more depth in [Aiola et al. (2020)](https://phy-wiki.princeton.edu/polwiki/pmwiki.php?n=Papers.Papers?action=download&upname=ACT_DR4_A20_v20200420.pdf)and are used in the companion notebook.  \n",
    "\n",
    "These data are stored in the CAR (or Plate Carée) format as ndmap objects.  These are based off of numpy arrays and include a 2D array and a WCS object that includes information needed to relate the 2D array to the celestial sphere.  This is distinct from the [HEALPix](https://healpix.sourceforge.io/) format commonly used in cosmology.  Therefore we provide an introduction to the tools needed for manipulating these maps and for converting between HEALPix and CAR format.   The library that accomplishes this is called [PIXELL](https://github.com/simonsobs/pixell).  \n",
    " \n",
    " The resources themselves can be found on the [NASA Legacy Archive Microwave\n",
    "Background Data Analysis website](https://lambda.gsfc.nasa.gov/product/act/).  Users are welcome to use the data products and the examples shared in these notebooks in order to study the new data set."
   ]
  },
  {
   "cell_type": "markdown",
   "metadata": {
    "colab_type": "text",
    "id": "b09xD3x0d2Kl"
   },
   "source": [
    "## Data products discussed in these Notebooks\n",
    "This notebook will introduce users to the Pixell framework and demonstrate how to read in CAR maps and look at objects in the maps.  The notebooks can also be used to stack point sources given a catalog of objects and convert maps between the CAR and HEALPix framework.\n",
    "\n",
    "DR4 includes a multitude of data products as discussed above.  These notebooks will focus on introducing the range of products and demonstrating how to access and examine the various maps.\n",
    "\n",
    "To run the all of the included notebooks you will need to have the following data products downloaded:\n",
    "> ACT + Planck Coadded map : \"act_planck_s08_s18_cmb_f150_night_map_I.fits\"\n",
    "\n",
    "> Planck Map : \"HFI_SkyMap_143_2048_R2.02_full.fits\"\n",
    "\n",
    "> Cluster catalog : 'E-D56Clusters.fits'\n",
    "\n",
    "> List of Messier objects : \"messier_objs.csv\"\n",
    "\n",
    "> Lensing Map : \"mc_corrected_realKappaCoadd_s14&15_deep56New.fits\"\n",
    "\n",
    "> Compton-$y$ : \"tilec_single_tile_deep56_comptony_map_v1.2.0_joint.fits\"\n",
    "\n",
    "> CMB + kSZ : \"tilec_single_tile_deep56_cmb_map_v1.2.0_joint.fits\"\n",
    "\n",
    "> CMB + kSZ with tSZ deprojected : \"tilec_single_tile_deep56_cmb_deprojects_comptony_map_v1.2.0_joint.fits\"\n",
    "\n",
    "> Fiducial CMB spectrum from CAMB: \"camb_theory.dat\"\n",
    "\n",
    "> Sample Adv ACT patch without sources, set 1: \"act_dr4_s15_D8_pa2_f150_nohwp_night_3pass_4way_set1_map_srcfree.fits\"\n",
    "\n",
    "> Sample Adv ACT patch without sources, set 2: \"act_dr4_s15_D8_pa2_f150_nohwp_night_3pass_4way_set2_map_srcfree.fits\"\n",
    "\n",
    "> Corresponding source map: \"act_dr4_s15_D8_pa2_f150_nohwp_night_3pass_4way_set2_srcs.fits\"\n",
    "\n",
    "> Beam: \"s15_pa2_f150_nohwp_night_beam_tform_instant_cmbspec.txt\"\n",
    "\n",
    "\n",
    "\n",
    "All of the AdvACT products can be found on [LAMBDA](https://lambda.gsfc.nasa.gov/product/act/).  We also use a Planck map that can be found in Planck's [second data release](https://irsa.ipac.caltech.edu/data/Planck/release_2/all-sky-maps/maps/HFI_SkyMap_143_2048_R2.02_full.fits).  Both the list of messier objects and the fiducial CMB spectrum from camb are in the data folder in this github repository.  \n",
    "\n",
    "If using these notebooks in the Docker container place all of the data products you'd like to use in a local folder on your machine and link it to the 'data' folder by following the instructions in Github.  \n",
    "\n",
    "\n",
    "## Table of contents\n",
    "\n",
    " --- \n",
    "> [Section 1](Section_1_Advanced_ACT_DR4_Combined_data_products.ipynb): Introduction and Importing Pixell, Healpy and other key packages\n",
    "\n",
    "> [Section 2](Section_2_coadded_maps.ipynb): S08-18 Coadded maps and an Introduction to Pixell\n",
    "\n",
    "> [Section 3](Section_3_HEALPix_CAR_Conversions.ipynb):  Demonstration of methods to converted maps between HEALPix format and the CAR format.\n",
    "\n",
    "> [Section 4](Section_4_visualize_objects.ipynb):  Guide to using Pixell to look at objects in the maps and stacking our maps on catalogue positions.\n",
    "\n",
    "> [Section 5](Section_5_Lensing_maps.ipynb):  Introduction to the Lensing maps.\n",
    "\n",
    "> [Section 6](Section_6_Component_separated_maps.ipynb):  Guide to the use of the Component Separated maps.\n",
    "\n",
    "> [Section 7](Section_7_harmonic_analysis.ipynb):  Harmonic Analysis with CAR Maps\n",
    "\n",
    "> [Section 8](Section_8_power_spectrum.ipynb): Maps and Power Spectra of Individual Patches \n",
    "\n",
    "> [Section 9](Section_9_E_B_maps.ipynb):  Looks at how to generate E and B maps from I, Q, U maps.  \n",
    "---\n",
    "\n",
    "Use the links in the table of contents to access the specific analysis topic you are interested in.  While many of the sections can be used independently it is useful to consult section 2 initially in order to gain an undestanding of the Pixell framework and the CAR projection."
   ]
  },
  {
   "cell_type": "markdown",
   "metadata": {
    "colab_type": "text",
    "id": "jvZURp-1z3LC"
   },
   "source": [
    "# Section 1: Importing packages"
   ]
  },
  {
   "cell_type": "markdown",
   "metadata": {
    "colab_type": "text",
    "id": "kxJg1HAylo9j"
   },
   "source": [
    "For more information on Pixell and Healpy feel free to read the relevant documentation.  They can be found here: [Pixell](https://github.com/simonsobs/pixell) and [Healpy](https://healpy.readthedocs.io/en/latest/)."
   ]
  },
  {
   "cell_type": "code",
   "execution_count": 1,
   "metadata": {
    "colab": {},
    "colab_type": "code",
    "id": "JuW6ZY2_PYjA"
   },
   "outputs": [],
   "source": [
    "import numpy as np\n",
    "import matplotlib.pyplot as plt\n",
    "import healpy as hp\n",
    "import time\n",
    "import sys\n",
    "from pixell import enmap, enplot, reproject,utils, curvedsky \n",
    "from matplotlib import cm\n",
    "\n",
    "path =\"/usr/home/workspace/data/\""
   ]
  },
  {
   "cell_type": "markdown",
   "metadata": {},
   "source": [
    "### Continue to the next Section\n",
    "\n",
    "[Section 2](Section_2_coadded_maps.ipynb): S08-18 Coadded maps and an Introduction to Pixell"
   ]
  },
  {
   "cell_type": "code",
   "execution_count": null,
   "metadata": {},
   "outputs": [],
   "source": []
  }
 ],
 "metadata": {
  "colab": {
   "collapsed_sections": [
    "7wuon2PcQDH3",
    "UqVls-28Fe6d",
    "hRBTzr5ghknb",
    "smN7aD_qfS0X",
    "Hdr6rmILNbUE",
    "lap_xzTkn5s5",
    "ydVE2Jvup42D",
    "LsvxgUOow66A",
    "sRfS65NaDKuX"
   ],
   "name": "Advanced ACT DR4 Combined data products ",
   "provenance": [],
   "toc_visible": true
  },
  "kernelspec": {
   "display_name": "Python 3",
   "language": "python",
   "name": "python3"
  },
  "language_info": {
   "codemirror_mode": {
    "name": "ipython",
    "version": 3
   },
   "file_extension": ".py",
   "mimetype": "text/x-python",
   "name": "python",
   "nbconvert_exporter": "python",
   "pygments_lexer": "ipython3",
   "version": "3.7.3"
  }
 },
 "nbformat": 4,
 "nbformat_minor": 4
}
